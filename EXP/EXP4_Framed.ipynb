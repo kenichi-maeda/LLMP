{
 "cells": [
  {
   "cell_type": "code",
   "execution_count": null,
   "id": "42c6f90d-485a-4c3c-b368-c80085c0d1dd",
   "metadata": {},
   "outputs": [],
   "source": [
    "import sys\n",
    "sys.path.append('../')\n",
    "import LLMP as L\n",
    "import torch\n",
    "torch.torch.cuda.empty_cache()\n",
    "\n",
    "query = \"What do you see? There are two black bars. The image is 100 by 100 pixels. Estimate the length of the left bar in pixels\\\n",
    "         (the value should be between 0 and 100). It does not have to be perfectly precise; I just need an estimation. Please\\\n",
    "         respond with a numerical range. After that, give me the length range for the right bar as well.\"\n",
    "images = [L.GPImage.figure12(True) for i in range(55)]\n",
    "models = [\"ChatGPT\", \"LLaVA\", \"CustomLLaVA\"]\n",
    "\n",
    "results = L.Evaluator.run(images, query, models)\n",
    "print(results)"
   ]
  }
 ],
 "metadata": {
  "kernelspec": {
   "display_name": "Python 3 (ipykernel)",
   "language": "python",
   "name": "python3"
  },
  "language_info": {
   "codemirror_mode": {
    "name": "ipython",
    "version": 3
   },
   "file_extension": ".py",
   "mimetype": "text/x-python",
   "name": "python",
   "nbconvert_exporter": "python",
   "pygments_lexer": "ipython3",
   "version": "3.11.7"
  }
 },
 "nbformat": 4,
 "nbformat_minor": 5
}
