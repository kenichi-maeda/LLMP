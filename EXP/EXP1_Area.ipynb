{
 "cells": [
  {
   "cell_type": "code",
   "execution_count": 1,
   "id": "c5133552-c213-46b4-8fc0-0b9ed5a3e909",
   "metadata": {},
   "outputs": [
    {
     "name": "stdout",
     "output_type": "stream",
     "text": [
      "[2024-04-25 23:15:13,132] [INFO] [real_accelerator.py:191:get_accelerator] Setting ds_accelerator to cuda (auto detect)\n"
     ]
    },
    {
     "name": "stderr",
     "output_type": "stream",
     "text": [
      "You are using a model of type llava to instantiate a model of type llava_llama. This is not supported for all configurations of models and can yield errors.\n"
     ]
    },
    {
     "data": {
      "application/vnd.jupyter.widget-view+json": {
       "model_id": "71de4e3accb742d597645087ca8b6aac",
       "version_major": 2,
       "version_minor": 0
      },
      "text/plain": [
       "Loading checkpoint shards:   0%|          | 0/2 [00:00<?, ?it/s]"
      ]
     },
     "metadata": {},
     "output_type": "display_data"
    },
    {
     "name": "stderr",
     "output_type": "stream",
     "text": [
      "/home/kenichi.maeda001/anaconda3/envs/LLMP/lib/python3.11/site-packages/transformers/generation/configuration_utils.py:389: UserWarning: `do_sample` is set to `False`. However, `temperature` is set to `0` -- this flag is only used in sample-based generation modes. You should set `do_sample=True` or unset `temperature`.\n",
      "  warnings.warn(\n",
      "/home/kenichi.maeda001/anaconda3/envs/LLMP/lib/python3.11/site-packages/transformers/generation/configuration_utils.py:394: UserWarning: `do_sample` is set to `False`. However, `top_p` is set to `None` -- this flag is only used in sample-based generation modes. You should set `do_sample=True` or unset `top_p`.\n",
      "  warnings.warn(\n",
      "You are using a model of type llava to instantiate a model of type llava_llama. This is not supported for all configurations of models and can yield errors.\n"
     ]
    },
    {
     "data": {
      "application/vnd.jupyter.widget-view+json": {
       "model_id": "0049ac47bec745a698fc382dad8aceaf",
       "version_major": 2,
       "version_minor": 0
      },
      "text/plain": [
       "Loading checkpoint shards:   0%|          | 0/2 [00:00<?, ?it/s]"
      ]
     },
     "metadata": {},
     "output_type": "display_data"
    },
    {
     "name": "stderr",
     "output_type": "stream",
     "text": [
      "You are using a model of type llava to instantiate a model of type llava_llama. This is not supported for all configurations of models and can yield errors.\n"
     ]
    },
    {
     "data": {
      "application/vnd.jupyter.widget-view+json": {
       "model_id": "e407abe8841a4266b1b9e2c8376cda5d",
       "version_major": 2,
       "version_minor": 0
      },
      "text/plain": [
       "Loading checkpoint shards:   0%|          | 0/2 [00:00<?, ?it/s]"
      ]
     },
     "metadata": {},
     "output_type": "display_data"
    },
    {
     "name": "stderr",
     "output_type": "stream",
     "text": [
      "You are using a model of type llava to instantiate a model of type llava_llama. This is not supported for all configurations of models and can yield errors.\n"
     ]
    },
    {
     "data": {
      "application/vnd.jupyter.widget-view+json": {
       "model_id": "f23b312c50394e23a4009bb44d69a362",
       "version_major": 2,
       "version_minor": 0
      },
      "text/plain": [
       "Loading checkpoint shards:   0%|          | 0/2 [00:00<?, ?it/s]"
      ]
     },
     "metadata": {},
     "output_type": "display_data"
    },
    {
     "name": "stderr",
     "output_type": "stream",
     "text": [
      "You are using a model of type llava to instantiate a model of type llava_llama. This is not supported for all configurations of models and can yield errors.\n"
     ]
    },
    {
     "data": {
      "application/vnd.jupyter.widget-view+json": {
       "model_id": "78a62917f58940aa9ddc58a7f53801a4",
       "version_major": 2,
       "version_minor": 0
      },
      "text/plain": [
       "Loading checkpoint shards:   0%|          | 0/2 [00:00<?, ?it/s]"
      ]
     },
     "metadata": {},
     "output_type": "display_data"
    },
    {
     "name": "stderr",
     "output_type": "stream",
     "text": [
      "You are using a model of type llava to instantiate a model of type llava_llama. This is not supported for all configurations of models and can yield errors.\n"
     ]
    },
    {
     "data": {
      "application/vnd.jupyter.widget-view+json": {
       "model_id": "90534aa843f643d8a37ec74cdb61f24e",
       "version_major": 2,
       "version_minor": 0
      },
      "text/plain": [
       "Loading checkpoint shards:   0%|          | 0/2 [00:00<?, ?it/s]"
      ]
     },
     "metadata": {},
     "output_type": "display_data"
    },
    {
     "name": "stderr",
     "output_type": "stream",
     "text": [
      "You are using a model of type llava to instantiate a model of type llava_llama. This is not supported for all configurations of models and can yield errors.\n"
     ]
    },
    {
     "data": {
      "application/vnd.jupyter.widget-view+json": {
       "model_id": "65fa24e08e894e2d9c1d24d6d755548e",
       "version_major": 2,
       "version_minor": 0
      },
      "text/plain": [
       "Loading checkpoint shards:   0%|          | 0/2 [00:00<?, ?it/s]"
      ]
     },
     "metadata": {},
     "output_type": "display_data"
    },
    {
     "name": "stderr",
     "output_type": "stream",
     "text": [
      "You are using a model of type llava to instantiate a model of type llava_llama. This is not supported for all configurations of models and can yield errors.\n"
     ]
    },
    {
     "data": {
      "application/vnd.jupyter.widget-view+json": {
       "model_id": "3341f0d79ba5497ebaf4636fbe78e762",
       "version_major": 2,
       "version_minor": 0
      },
      "text/plain": [
       "Loading checkpoint shards:   0%|          | 0/2 [00:00<?, ?it/s]"
      ]
     },
     "metadata": {},
     "output_type": "display_data"
    },
    {
     "name": "stderr",
     "output_type": "stream",
     "text": [
      "You are using a model of type llava to instantiate a model of type llava_llama. This is not supported for all configurations of models and can yield errors.\n"
     ]
    },
    {
     "data": {
      "application/vnd.jupyter.widget-view+json": {
       "model_id": "975e8c4351a94b92b9d6cc118a369ff0",
       "version_major": 2,
       "version_minor": 0
      },
      "text/plain": [
       "Loading checkpoint shards:   0%|          | 0/2 [00:00<?, ?it/s]"
      ]
     },
     "metadata": {},
     "output_type": "display_data"
    },
    {
     "name": "stderr",
     "output_type": "stream",
     "text": [
      "You are using a model of type llava to instantiate a model of type llava_llama. This is not supported for all configurations of models and can yield errors.\n"
     ]
    },
    {
     "data": {
      "application/vnd.jupyter.widget-view+json": {
       "model_id": "67c4ab3825dd4b0ebc8a572b479cb530",
       "version_major": 2,
       "version_minor": 0
      },
      "text/plain": [
       "Loading checkpoint shards:   0%|          | 0/2 [00:00<?, ?it/s]"
      ]
     },
     "metadata": {},
     "output_type": "display_data"
    },
    {
     "name": "stderr",
     "output_type": "stream",
     "text": [
      "You are using a model of type llava to instantiate a model of type llava_llama. This is not supported for all configurations of models and can yield errors.\n"
     ]
    },
    {
     "data": {
      "application/vnd.jupyter.widget-view+json": {
       "model_id": "621c5a8d64e54cd1a8531c154dca6681",
       "version_major": 2,
       "version_minor": 0
      },
      "text/plain": [
       "Loading checkpoint shards:   0%|          | 0/2 [00:00<?, ?it/s]"
      ]
     },
     "metadata": {},
     "output_type": "display_data"
    },
    {
     "name": "stderr",
     "output_type": "stream",
     "text": [
      "You are using a model of type llava to instantiate a model of type llava_llama. This is not supported for all configurations of models and can yield errors.\n"
     ]
    },
    {
     "data": {
      "application/vnd.jupyter.widget-view+json": {
       "model_id": "43301ad0765e4771a84bbb7e22c76028",
       "version_major": 2,
       "version_minor": 0
      },
      "text/plain": [
       "Loading checkpoint shards:   0%|          | 0/2 [00:00<?, ?it/s]"
      ]
     },
     "metadata": {},
     "output_type": "display_data"
    },
    {
     "name": "stderr",
     "output_type": "stream",
     "text": [
      "You are using a model of type llava to instantiate a model of type llava_llama. This is not supported for all configurations of models and can yield errors.\n"
     ]
    },
    {
     "data": {
      "application/vnd.jupyter.widget-view+json": {
       "model_id": "f94b9366c9524f339c55434942b1522d",
       "version_major": 2,
       "version_minor": 0
      },
      "text/plain": [
       "Loading checkpoint shards:   0%|          | 0/2 [00:00<?, ?it/s]"
      ]
     },
     "metadata": {},
     "output_type": "display_data"
    },
    {
     "name": "stderr",
     "output_type": "stream",
     "text": [
      "You are using a model of type llava to instantiate a model of type llava_llama. This is not supported for all configurations of models and can yield errors.\n"
     ]
    },
    {
     "data": {
      "application/vnd.jupyter.widget-view+json": {
       "model_id": "ee7f69aa1e8d464299f2b829d123aea4",
       "version_major": 2,
       "version_minor": 0
      },
      "text/plain": [
       "Loading checkpoint shards:   0%|          | 0/2 [00:00<?, ?it/s]"
      ]
     },
     "metadata": {},
     "output_type": "display_data"
    },
    {
     "name": "stderr",
     "output_type": "stream",
     "text": [
      "You are using a model of type llava to instantiate a model of type llava_llama. This is not supported for all configurations of models and can yield errors.\n"
     ]
    },
    {
     "data": {
      "application/vnd.jupyter.widget-view+json": {
       "model_id": "b561b1e903444af9b54cf82ca7b3951a",
       "version_major": 2,
       "version_minor": 0
      },
      "text/plain": [
       "Loading checkpoint shards:   0%|          | 0/2 [00:00<?, ?it/s]"
      ]
     },
     "metadata": {},
     "output_type": "display_data"
    },
    {
     "name": "stderr",
     "output_type": "stream",
     "text": [
      "You are using a model of type llava to instantiate a model of type llava_llama. This is not supported for all configurations of models and can yield errors.\n"
     ]
    },
    {
     "data": {
      "application/vnd.jupyter.widget-view+json": {
       "model_id": "5ba86274cbd7451d97bb89467eb71d9e",
       "version_major": 2,
       "version_minor": 0
      },
      "text/plain": [
       "Loading checkpoint shards:   0%|          | 0/2 [00:00<?, ?it/s]"
      ]
     },
     "metadata": {},
     "output_type": "display_data"
    },
    {
     "name": "stderr",
     "output_type": "stream",
     "text": [
      "You are using a model of type llava to instantiate a model of type llava_llama. This is not supported for all configurations of models and can yield errors.\n"
     ]
    },
    {
     "data": {
      "application/vnd.jupyter.widget-view+json": {
       "model_id": "8b001e46aecc4b63ada5c748bb13c329",
       "version_major": 2,
       "version_minor": 0
      },
      "text/plain": [
       "Loading checkpoint shards:   0%|          | 0/2 [00:00<?, ?it/s]"
      ]
     },
     "metadata": {},
     "output_type": "display_data"
    },
    {
     "name": "stderr",
     "output_type": "stream",
     "text": [
      "You are using a model of type llava to instantiate a model of type llava_llama. This is not supported for all configurations of models and can yield errors.\n"
     ]
    },
    {
     "data": {
      "application/vnd.jupyter.widget-view+json": {
       "model_id": "f2ecee4f889f43c2a9219ba49bc81935",
       "version_major": 2,
       "version_minor": 0
      },
      "text/plain": [
       "Loading checkpoint shards:   0%|          | 0/2 [00:00<?, ?it/s]"
      ]
     },
     "metadata": {},
     "output_type": "display_data"
    },
    {
     "name": "stderr",
     "output_type": "stream",
     "text": [
      "You are using a model of type llava to instantiate a model of type llava_llama. This is not supported for all configurations of models and can yield errors.\n"
     ]
    },
    {
     "data": {
      "application/vnd.jupyter.widget-view+json": {
       "model_id": "e51997157bcc4704b2394b043b5b39f6",
       "version_major": 2,
       "version_minor": 0
      },
      "text/plain": [
       "Loading checkpoint shards:   0%|          | 0/2 [00:00<?, ?it/s]"
      ]
     },
     "metadata": {},
     "output_type": "display_data"
    },
    {
     "name": "stderr",
     "output_type": "stream",
     "text": [
      "You are using a model of type llava to instantiate a model of type llava_llama. This is not supported for all configurations of models and can yield errors.\n"
     ]
    },
    {
     "data": {
      "application/vnd.jupyter.widget-view+json": {
       "model_id": "7e224b74c42741b9b0c367d9584c6e5f",
       "version_major": 2,
       "version_minor": 0
      },
      "text/plain": [
       "Loading checkpoint shards:   0%|          | 0/2 [00:00<?, ?it/s]"
      ]
     },
     "metadata": {},
     "output_type": "display_data"
    },
    {
     "name": "stderr",
     "output_type": "stream",
     "text": [
      "You are using a model of type llava to instantiate a model of type llava_llama. This is not supported for all configurations of models and can yield errors.\n"
     ]
    },
    {
     "data": {
      "application/vnd.jupyter.widget-view+json": {
       "model_id": "9f394a855c3a4f9c8ae225abebebe4d4",
       "version_major": 2,
       "version_minor": 0
      },
      "text/plain": [
       "Loading checkpoint shards:   0%|          | 0/2 [00:00<?, ?it/s]"
      ]
     },
     "metadata": {},
     "output_type": "display_data"
    },
    {
     "name": "stderr",
     "output_type": "stream",
     "text": [
      "You are using a model of type llava to instantiate a model of type llava_llama. This is not supported for all configurations of models and can yield errors.\n"
     ]
    },
    {
     "data": {
      "application/vnd.jupyter.widget-view+json": {
       "model_id": "fcc76b9bc8d7402699c82c0f21efe36f",
       "version_major": 2,
       "version_minor": 0
      },
      "text/plain": [
       "Loading checkpoint shards:   0%|          | 0/2 [00:00<?, ?it/s]"
      ]
     },
     "metadata": {},
     "output_type": "display_data"
    },
    {
     "name": "stderr",
     "output_type": "stream",
     "text": [
      "You are using a model of type llava to instantiate a model of type llava_llama. This is not supported for all configurations of models and can yield errors.\n"
     ]
    },
    {
     "data": {
      "application/vnd.jupyter.widget-view+json": {
       "model_id": "6b2579a36ac64f12823c74af74185c80",
       "version_major": 2,
       "version_minor": 0
      },
      "text/plain": [
       "Loading checkpoint shards:   0%|          | 0/2 [00:00<?, ?it/s]"
      ]
     },
     "metadata": {},
     "output_type": "display_data"
    },
    {
     "name": "stderr",
     "output_type": "stream",
     "text": [
      "You are using a model of type llava to instantiate a model of type llava_llama. This is not supported for all configurations of models and can yield errors.\n"
     ]
    },
    {
     "data": {
      "application/vnd.jupyter.widget-view+json": {
       "model_id": "479b1c36b7754057a95f7de9190e64bd",
       "version_major": 2,
       "version_minor": 0
      },
      "text/plain": [
       "Loading checkpoint shards:   0%|          | 0/2 [00:00<?, ?it/s]"
      ]
     },
     "metadata": {},
     "output_type": "display_data"
    },
    {
     "name": "stderr",
     "output_type": "stream",
     "text": [
      "You are using a model of type llava to instantiate a model of type llava_llama. This is not supported for all configurations of models and can yield errors.\n"
     ]
    },
    {
     "data": {
      "application/vnd.jupyter.widget-view+json": {
       "model_id": "3e4e5278435a44969772e055c62a3968",
       "version_major": 2,
       "version_minor": 0
      },
      "text/plain": [
       "Loading checkpoint shards:   0%|          | 0/2 [00:00<?, ?it/s]"
      ]
     },
     "metadata": {},
     "output_type": "display_data"
    },
    {
     "name": "stderr",
     "output_type": "stream",
     "text": [
      "You are using a model of type llava to instantiate a model of type llava_llama. This is not supported for all configurations of models and can yield errors.\n"
     ]
    },
    {
     "data": {
      "application/vnd.jupyter.widget-view+json": {
       "model_id": "5a4248aa7a0343be8625ab8897ddfef1",
       "version_major": 2,
       "version_minor": 0
      },
      "text/plain": [
       "Loading checkpoint shards:   0%|          | 0/2 [00:00<?, ?it/s]"
      ]
     },
     "metadata": {},
     "output_type": "display_data"
    },
    {
     "name": "stderr",
     "output_type": "stream",
     "text": [
      "You are using a model of type llava to instantiate a model of type llava_llama. This is not supported for all configurations of models and can yield errors.\n"
     ]
    },
    {
     "data": {
      "application/vnd.jupyter.widget-view+json": {
       "model_id": "b72e0320c6124f0e9357a192f59eebad",
       "version_major": 2,
       "version_minor": 0
      },
      "text/plain": [
       "Loading checkpoint shards:   0%|          | 0/2 [00:00<?, ?it/s]"
      ]
     },
     "metadata": {},
     "output_type": "display_data"
    },
    {
     "name": "stderr",
     "output_type": "stream",
     "text": [
      "You are using a model of type llava to instantiate a model of type llava_llama. This is not supported for all configurations of models and can yield errors.\n"
     ]
    },
    {
     "data": {
      "application/vnd.jupyter.widget-view+json": {
       "model_id": "a5a225968ec141f3bb4f5b4612cc6190",
       "version_major": 2,
       "version_minor": 0
      },
      "text/plain": [
       "Loading checkpoint shards:   0%|          | 0/2 [00:00<?, ?it/s]"
      ]
     },
     "metadata": {},
     "output_type": "display_data"
    },
    {
     "name": "stderr",
     "output_type": "stream",
     "text": [
      "You are using a model of type llava to instantiate a model of type llava_llama. This is not supported for all configurations of models and can yield errors.\n"
     ]
    },
    {
     "data": {
      "application/vnd.jupyter.widget-view+json": {
       "model_id": "0332ac99b13645e4b8f8d61259e9d963",
       "version_major": 2,
       "version_minor": 0
      },
      "text/plain": [
       "Loading checkpoint shards:   0%|          | 0/2 [00:00<?, ?it/s]"
      ]
     },
     "metadata": {},
     "output_type": "display_data"
    },
    {
     "name": "stderr",
     "output_type": "stream",
     "text": [
      "You are using a model of type llava to instantiate a model of type llava_llama. This is not supported for all configurations of models and can yield errors.\n"
     ]
    },
    {
     "data": {
      "application/vnd.jupyter.widget-view+json": {
       "model_id": "630755e49b664561b3d38a5e6905f98b",
       "version_major": 2,
       "version_minor": 0
      },
      "text/plain": [
       "Loading checkpoint shards:   0%|          | 0/2 [00:00<?, ?it/s]"
      ]
     },
     "metadata": {},
     "output_type": "display_data"
    },
    {
     "name": "stderr",
     "output_type": "stream",
     "text": [
      "You are using a model of type llava to instantiate a model of type llava_llama. This is not supported for all configurations of models and can yield errors.\n"
     ]
    },
    {
     "data": {
      "application/vnd.jupyter.widget-view+json": {
       "model_id": "5e638745b6944fe59b66873f78e47f25",
       "version_major": 2,
       "version_minor": 0
      },
      "text/plain": [
       "Loading checkpoint shards:   0%|          | 0/2 [00:00<?, ?it/s]"
      ]
     },
     "metadata": {},
     "output_type": "display_data"
    },
    {
     "name": "stderr",
     "output_type": "stream",
     "text": [
      "You are using a model of type llava to instantiate a model of type llava_llama. This is not supported for all configurations of models and can yield errors.\n"
     ]
    },
    {
     "data": {
      "application/vnd.jupyter.widget-view+json": {
       "model_id": "4de7a1422809470a9a5dad524dbf03b3",
       "version_major": 2,
       "version_minor": 0
      },
      "text/plain": [
       "Loading checkpoint shards:   0%|          | 0/2 [00:00<?, ?it/s]"
      ]
     },
     "metadata": {},
     "output_type": "display_data"
    },
    {
     "name": "stderr",
     "output_type": "stream",
     "text": [
      "You are using a model of type llava to instantiate a model of type llava_llama. This is not supported for all configurations of models and can yield errors.\n"
     ]
    },
    {
     "data": {
      "application/vnd.jupyter.widget-view+json": {
       "model_id": "2d97fb33ec3d47f09596bba5c0d449ff",
       "version_major": 2,
       "version_minor": 0
      },
      "text/plain": [
       "Loading checkpoint shards:   0%|          | 0/2 [00:00<?, ?it/s]"
      ]
     },
     "metadata": {},
     "output_type": "display_data"
    },
    {
     "name": "stderr",
     "output_type": "stream",
     "text": [
      "You are using a model of type llava to instantiate a model of type llava_llama. This is not supported for all configurations of models and can yield errors.\n"
     ]
    },
    {
     "data": {
      "application/vnd.jupyter.widget-view+json": {
       "model_id": "719babca758244d082f2a146d6a86afe",
       "version_major": 2,
       "version_minor": 0
      },
      "text/plain": [
       "Loading checkpoint shards:   0%|          | 0/2 [00:00<?, ?it/s]"
      ]
     },
     "metadata": {},
     "output_type": "display_data"
    },
    {
     "name": "stderr",
     "output_type": "stream",
     "text": [
      "You are using a model of type llava to instantiate a model of type llava_llama. This is not supported for all configurations of models and can yield errors.\n"
     ]
    },
    {
     "data": {
      "application/vnd.jupyter.widget-view+json": {
       "model_id": "6ff709980351453087db11d0eea5aa9c",
       "version_major": 2,
       "version_minor": 0
      },
      "text/plain": [
       "Loading checkpoint shards:   0%|          | 0/2 [00:00<?, ?it/s]"
      ]
     },
     "metadata": {},
     "output_type": "display_data"
    },
    {
     "name": "stderr",
     "output_type": "stream",
     "text": [
      "You are using a model of type llava to instantiate a model of type llava_llama. This is not supported for all configurations of models and can yield errors.\n"
     ]
    },
    {
     "data": {
      "application/vnd.jupyter.widget-view+json": {
       "model_id": "e501f5b588ab44998007554df79103c9",
       "version_major": 2,
       "version_minor": 0
      },
      "text/plain": [
       "Loading checkpoint shards:   0%|          | 0/2 [00:00<?, ?it/s]"
      ]
     },
     "metadata": {},
     "output_type": "display_data"
    },
    {
     "name": "stderr",
     "output_type": "stream",
     "text": [
      "You are using a model of type llava to instantiate a model of type llava_llama. This is not supported for all configurations of models and can yield errors.\n"
     ]
    },
    {
     "data": {
      "application/vnd.jupyter.widget-view+json": {
       "model_id": "2c5bb482764d44d39df5ba2f5eba8605",
       "version_major": 2,
       "version_minor": 0
      },
      "text/plain": [
       "Loading checkpoint shards:   0%|          | 0/2 [00:00<?, ?it/s]"
      ]
     },
     "metadata": {},
     "output_type": "display_data"
    },
    {
     "name": "stderr",
     "output_type": "stream",
     "text": [
      "You are using a model of type llava to instantiate a model of type llava_llama. This is not supported for all configurations of models and can yield errors.\n"
     ]
    },
    {
     "data": {
      "application/vnd.jupyter.widget-view+json": {
       "model_id": "273f04573101435cacfc26321e089977",
       "version_major": 2,
       "version_minor": 0
      },
      "text/plain": [
       "Loading checkpoint shards:   0%|          | 0/2 [00:00<?, ?it/s]"
      ]
     },
     "metadata": {},
     "output_type": "display_data"
    },
    {
     "name": "stderr",
     "output_type": "stream",
     "text": [
      "You are using a model of type llava to instantiate a model of type llava_llama. This is not supported for all configurations of models and can yield errors.\n"
     ]
    },
    {
     "data": {
      "application/vnd.jupyter.widget-view+json": {
       "model_id": "35ab459017d647f599974cef7c9209bd",
       "version_major": 2,
       "version_minor": 0
      },
      "text/plain": [
       "Loading checkpoint shards:   0%|          | 0/2 [00:00<?, ?it/s]"
      ]
     },
     "metadata": {},
     "output_type": "display_data"
    },
    {
     "name": "stderr",
     "output_type": "stream",
     "text": [
      "You are using a model of type llava to instantiate a model of type llava_llama. This is not supported for all configurations of models and can yield errors.\n"
     ]
    },
    {
     "data": {
      "application/vnd.jupyter.widget-view+json": {
       "model_id": "9ed6fc2e491649feafc6e54fb96fdae7",
       "version_major": 2,
       "version_minor": 0
      },
      "text/plain": [
       "Loading checkpoint shards:   0%|          | 0/2 [00:00<?, ?it/s]"
      ]
     },
     "metadata": {},
     "output_type": "display_data"
    },
    {
     "name": "stderr",
     "output_type": "stream",
     "text": [
      "You are using a model of type llava to instantiate a model of type llava_llama. This is not supported for all configurations of models and can yield errors.\n"
     ]
    },
    {
     "data": {
      "application/vnd.jupyter.widget-view+json": {
       "model_id": "a6a8dc3cbf3f4a349a991a4b89b60ef3",
       "version_major": 2,
       "version_minor": 0
      },
      "text/plain": [
       "Loading checkpoint shards:   0%|          | 0/2 [00:00<?, ?it/s]"
      ]
     },
     "metadata": {},
     "output_type": "display_data"
    },
    {
     "name": "stderr",
     "output_type": "stream",
     "text": [
      "You are using a model of type llava to instantiate a model of type llava_llama. This is not supported for all configurations of models and can yield errors.\n"
     ]
    },
    {
     "data": {
      "application/vnd.jupyter.widget-view+json": {
       "model_id": "aa8ec0ed6ff74b9fa348db745e123c1f",
       "version_major": 2,
       "version_minor": 0
      },
      "text/plain": [
       "Loading checkpoint shards:   0%|          | 0/2 [00:00<?, ?it/s]"
      ]
     },
     "metadata": {},
     "output_type": "display_data"
    },
    {
     "name": "stderr",
     "output_type": "stream",
     "text": [
      "You are using a model of type llava to instantiate a model of type llava_llama. This is not supported for all configurations of models and can yield errors.\n"
     ]
    },
    {
     "data": {
      "application/vnd.jupyter.widget-view+json": {
       "model_id": "4a070ddd681842fcb1c8ca07dc71d2ef",
       "version_major": 2,
       "version_minor": 0
      },
      "text/plain": [
       "Loading checkpoint shards:   0%|          | 0/2 [00:00<?, ?it/s]"
      ]
     },
     "metadata": {},
     "output_type": "display_data"
    },
    {
     "name": "stderr",
     "output_type": "stream",
     "text": [
      "You are using a model of type llava to instantiate a model of type llava_llama. This is not supported for all configurations of models and can yield errors.\n"
     ]
    },
    {
     "data": {
      "application/vnd.jupyter.widget-view+json": {
       "model_id": "ef66be760cff4827bd3cf442066f3831",
       "version_major": 2,
       "version_minor": 0
      },
      "text/plain": [
       "Loading checkpoint shards:   0%|          | 0/2 [00:00<?, ?it/s]"
      ]
     },
     "metadata": {},
     "output_type": "display_data"
    },
    {
     "name": "stderr",
     "output_type": "stream",
     "text": [
      "You are using a model of type llava to instantiate a model of type llava_llama. This is not supported for all configurations of models and can yield errors.\n"
     ]
    },
    {
     "data": {
      "application/vnd.jupyter.widget-view+json": {
       "model_id": "b6d407bbc3014f14a78ec3ac208c9736",
       "version_major": 2,
       "version_minor": 0
      },
      "text/plain": [
       "Loading checkpoint shards:   0%|          | 0/2 [00:00<?, ?it/s]"
      ]
     },
     "metadata": {},
     "output_type": "display_data"
    },
    {
     "name": "stderr",
     "output_type": "stream",
     "text": [
      "You are using a model of type llava to instantiate a model of type llava_llama. This is not supported for all configurations of models and can yield errors.\n"
     ]
    },
    {
     "data": {
      "application/vnd.jupyter.widget-view+json": {
       "model_id": "7b68d63491774bbfb96d067bec9d9b4f",
       "version_major": 2,
       "version_minor": 0
      },
      "text/plain": [
       "Loading checkpoint shards:   0%|          | 0/2 [00:00<?, ?it/s]"
      ]
     },
     "metadata": {},
     "output_type": "display_data"
    },
    {
     "name": "stderr",
     "output_type": "stream",
     "text": [
      "You are using a model of type llava to instantiate a model of type llava_llama. This is not supported for all configurations of models and can yield errors.\n"
     ]
    },
    {
     "data": {
      "application/vnd.jupyter.widget-view+json": {
       "model_id": "ba532899ec96446d96437e2cb285a22f",
       "version_major": 2,
       "version_minor": 0
      },
      "text/plain": [
       "Loading checkpoint shards:   0%|          | 0/2 [00:00<?, ?it/s]"
      ]
     },
     "metadata": {},
     "output_type": "display_data"
    },
    {
     "name": "stderr",
     "output_type": "stream",
     "text": [
      "You are using a model of type llava to instantiate a model of type llava_llama. This is not supported for all configurations of models and can yield errors.\n"
     ]
    },
    {
     "data": {
      "application/vnd.jupyter.widget-view+json": {
       "model_id": "f62723c5117e49dbaba068f309e81e38",
       "version_major": 2,
       "version_minor": 0
      },
      "text/plain": [
       "Loading checkpoint shards:   0%|          | 0/2 [00:00<?, ?it/s]"
      ]
     },
     "metadata": {},
     "output_type": "display_data"
    },
    {
     "name": "stderr",
     "output_type": "stream",
     "text": [
      "You are using a model of type llava to instantiate a model of type llava_llama. This is not supported for all configurations of models and can yield errors.\n"
     ]
    },
    {
     "data": {
      "application/vnd.jupyter.widget-view+json": {
       "model_id": "035c9f56548e498d97ae3a3df82bea97",
       "version_major": 2,
       "version_minor": 0
      },
      "text/plain": [
       "Loading checkpoint shards:   0%|          | 0/2 [00:00<?, ?it/s]"
      ]
     },
     "metadata": {},
     "output_type": "display_data"
    },
    {
     "name": "stderr",
     "output_type": "stream",
     "text": [
      "You are using a model of type llava to instantiate a model of type llava_llama. This is not supported for all configurations of models and can yield errors.\n"
     ]
    },
    {
     "data": {
      "application/vnd.jupyter.widget-view+json": {
       "model_id": "55b9f4313b5b4a18a5decdab97118151",
       "version_major": 2,
       "version_minor": 0
      },
      "text/plain": [
       "Loading checkpoint shards:   0%|          | 0/2 [00:00<?, ?it/s]"
      ]
     },
     "metadata": {},
     "output_type": "display_data"
    },
    {
     "name": "stderr",
     "output_type": "stream",
     "text": [
      "You are using a model of type llava to instantiate a model of type llava_llama. This is not supported for all configurations of models and can yield errors.\n"
     ]
    },
    {
     "data": {
      "application/vnd.jupyter.widget-view+json": {
       "model_id": "dd4e259d559749bc889bbcfd520c57b6",
       "version_major": 2,
       "version_minor": 0
      },
      "text/plain": [
       "Loading checkpoint shards:   0%|          | 0/2 [00:00<?, ?it/s]"
      ]
     },
     "metadata": {},
     "output_type": "display_data"
    },
    {
     "name": "stderr",
     "output_type": "stream",
     "text": [
      "You are using a model of type llava to instantiate a model of type llava_llama. This is not supported for all configurations of models and can yield errors.\n"
     ]
    },
    {
     "data": {
      "application/vnd.jupyter.widget-view+json": {
       "model_id": "ae3b769c5fc643beb06db0571c0fe7ec",
       "version_major": 2,
       "version_minor": 0
      },
      "text/plain": [
       "Loading checkpoint shards:   0%|          | 0/2 [00:00<?, ?it/s]"
      ]
     },
     "metadata": {},
     "output_type": "display_data"
    },
    {
     "name": "stderr",
     "output_type": "stream",
     "text": [
      "You are using a model of type llava to instantiate a model of type llava_llama. This is not supported for all configurations of models and can yield errors.\n"
     ]
    },
    {
     "data": {
      "application/vnd.jupyter.widget-view+json": {
       "model_id": "e200dd0e154b418dbd8cfb408b0ea133",
       "version_major": 2,
       "version_minor": 0
      },
      "text/plain": [
       "Loading checkpoint shards:   0%|          | 0/2 [00:00<?, ?it/s]"
      ]
     },
     "metadata": {},
     "output_type": "display_data"
    },
    {
     "name": "stderr",
     "output_type": "stream",
     "text": [
      "You are using a model of type llava to instantiate a model of type llava_llama. This is not supported for all configurations of models and can yield errors.\n"
     ]
    },
    {
     "data": {
      "application/vnd.jupyter.widget-view+json": {
       "model_id": "77b5b4f4a7524d009dc52ea4a341027f",
       "version_major": 2,
       "version_minor": 0
      },
      "text/plain": [
       "Loading checkpoint shards:   0%|          | 0/2 [00:00<?, ?it/s]"
      ]
     },
     "metadata": {},
     "output_type": "display_data"
    },
    {
     "name": "stderr",
     "output_type": "stream",
     "text": [
      "You are using a model of type llava to instantiate a model of type llava_llama. This is not supported for all configurations of models and can yield errors.\n"
     ]
    },
    {
     "data": {
      "application/vnd.jupyter.widget-view+json": {
       "model_id": "2c1915420e224482816595b3b594b1a3",
       "version_major": 2,
       "version_minor": 0
      },
      "text/plain": [
       "Loading checkpoint shards:   0%|          | 0/2 [00:00<?, ?it/s]"
      ]
     },
     "metadata": {},
     "output_type": "display_data"
    },
    {
     "data": {
      "application/vnd.jupyter.widget-view+json": {
       "model_id": "25446fd0b3f94881a2ca05f17b08b218",
       "version_major": 2,
       "version_minor": 0
      },
      "text/plain": [
       "Loading checkpoint shards:   0%|          | 0/2 [00:00<?, ?it/s]"
      ]
     },
     "metadata": {},
     "output_type": "display_data"
    },
    {
     "data": {
      "application/vnd.jupyter.widget-view+json": {
       "model_id": "752d7c7fe2dd46e29bb64c2a444ccd43",
       "version_major": 2,
       "version_minor": 0
      },
      "text/plain": [
       "Loading checkpoint shards:   0%|          | 0/2 [00:00<?, ?it/s]"
      ]
     },
     "metadata": {},
     "output_type": "display_data"
    },
    {
     "data": {
      "application/vnd.jupyter.widget-view+json": {
       "model_id": "09c791074a49490296c46dfb7a1d26bb",
       "version_major": 2,
       "version_minor": 0
      },
      "text/plain": [
       "Loading checkpoint shards:   0%|          | 0/2 [00:00<?, ?it/s]"
      ]
     },
     "metadata": {},
     "output_type": "display_data"
    },
    {
     "data": {
      "application/vnd.jupyter.widget-view+json": {
       "model_id": "a822937be52b4db09fb107fefec70b40",
       "version_major": 2,
       "version_minor": 0
      },
      "text/plain": [
       "Loading checkpoint shards:   0%|          | 0/2 [00:00<?, ?it/s]"
      ]
     },
     "metadata": {},
     "output_type": "display_data"
    },
    {
     "data": {
      "application/vnd.jupyter.widget-view+json": {
       "model_id": "4e5896ba03094b6f959a6427ebbc6072",
       "version_major": 2,
       "version_minor": 0
      },
      "text/plain": [
       "Loading checkpoint shards:   0%|          | 0/2 [00:00<?, ?it/s]"
      ]
     },
     "metadata": {},
     "output_type": "display_data"
    },
    {
     "data": {
      "application/vnd.jupyter.widget-view+json": {
       "model_id": "42ae77bb2fb345b7aa4411a5280f5b03",
       "version_major": 2,
       "version_minor": 0
      },
      "text/plain": [
       "Loading checkpoint shards:   0%|          | 0/2 [00:00<?, ?it/s]"
      ]
     },
     "metadata": {},
     "output_type": "display_data"
    },
    {
     "data": {
      "application/vnd.jupyter.widget-view+json": {
       "model_id": "843f331aca2b43de8cad9eeaa48388c0",
       "version_major": 2,
       "version_minor": 0
      },
      "text/plain": [
       "Loading checkpoint shards:   0%|          | 0/2 [00:00<?, ?it/s]"
      ]
     },
     "metadata": {},
     "output_type": "display_data"
    },
    {
     "data": {
      "application/vnd.jupyter.widget-view+json": {
       "model_id": "531a70ba186c4c1c887932f18b5582f3",
       "version_major": 2,
       "version_minor": 0
      },
      "text/plain": [
       "Loading checkpoint shards:   0%|          | 0/2 [00:00<?, ?it/s]"
      ]
     },
     "metadata": {},
     "output_type": "display_data"
    },
    {
     "data": {
      "application/vnd.jupyter.widget-view+json": {
       "model_id": "cb34c0bf773241d8abc646f7181cc13e",
       "version_major": 2,
       "version_minor": 0
      },
      "text/plain": [
       "Loading checkpoint shards:   0%|          | 0/2 [00:00<?, ?it/s]"
      ]
     },
     "metadata": {},
     "output_type": "display_data"
    },
    {
     "data": {
      "application/vnd.jupyter.widget-view+json": {
       "model_id": "ef331ee4154d4a3484855fab21942540",
       "version_major": 2,
       "version_minor": 0
      },
      "text/plain": [
       "Loading checkpoint shards:   0%|          | 0/2 [00:00<?, ?it/s]"
      ]
     },
     "metadata": {},
     "output_type": "display_data"
    },
    {
     "data": {
      "application/vnd.jupyter.widget-view+json": {
       "model_id": "57df4f350cc543dcb2a2f2d376041f39",
       "version_major": 2,
       "version_minor": 0
      },
      "text/plain": [
       "Loading checkpoint shards:   0%|          | 0/2 [00:00<?, ?it/s]"
      ]
     },
     "metadata": {},
     "output_type": "display_data"
    },
    {
     "data": {
      "application/vnd.jupyter.widget-view+json": {
       "model_id": "83c2490f86f34f3ea15ac4f1123210a2",
       "version_major": 2,
       "version_minor": 0
      },
      "text/plain": [
       "Loading checkpoint shards:   0%|          | 0/2 [00:00<?, ?it/s]"
      ]
     },
     "metadata": {},
     "output_type": "display_data"
    },
    {
     "data": {
      "application/vnd.jupyter.widget-view+json": {
       "model_id": "559a131bb9bf49939bafc266468adb7a",
       "version_major": 2,
       "version_minor": 0
      },
      "text/plain": [
       "Loading checkpoint shards:   0%|          | 0/2 [00:00<?, ?it/s]"
      ]
     },
     "metadata": {},
     "output_type": "display_data"
    },
    {
     "data": {
      "application/vnd.jupyter.widget-view+json": {
       "model_id": "f494770f08094473b557661220302440",
       "version_major": 2,
       "version_minor": 0
      },
      "text/plain": [
       "Loading checkpoint shards:   0%|          | 0/2 [00:00<?, ?it/s]"
      ]
     },
     "metadata": {},
     "output_type": "display_data"
    },
    {
     "data": {
      "application/vnd.jupyter.widget-view+json": {
       "model_id": "318f968d806844fbbc203737de10edc9",
       "version_major": 2,
       "version_minor": 0
      },
      "text/plain": [
       "Loading checkpoint shards:   0%|          | 0/2 [00:00<?, ?it/s]"
      ]
     },
     "metadata": {},
     "output_type": "display_data"
    },
    {
     "data": {
      "application/vnd.jupyter.widget-view+json": {
       "model_id": "703a395572934255b7454defcf336bcb",
       "version_major": 2,
       "version_minor": 0
      },
      "text/plain": [
       "Loading checkpoint shards:   0%|          | 0/2 [00:00<?, ?it/s]"
      ]
     },
     "metadata": {},
     "output_type": "display_data"
    },
    {
     "data": {
      "application/vnd.jupyter.widget-view+json": {
       "model_id": "ea6c64f2e043443aa51ee6dbb42a15da",
       "version_major": 2,
       "version_minor": 0
      },
      "text/plain": [
       "Loading checkpoint shards:   0%|          | 0/2 [00:00<?, ?it/s]"
      ]
     },
     "metadata": {},
     "output_type": "display_data"
    },
    {
     "data": {
      "application/vnd.jupyter.widget-view+json": {
       "model_id": "c3d64e353ee74b25a7d75b5309ed85cb",
       "version_major": 2,
       "version_minor": 0
      },
      "text/plain": [
       "Loading checkpoint shards:   0%|          | 0/2 [00:00<?, ?it/s]"
      ]
     },
     "metadata": {},
     "output_type": "display_data"
    },
    {
     "data": {
      "application/vnd.jupyter.widget-view+json": {
       "model_id": "f9eef74c7ffc4f59ad9d3b54d61574dc",
       "version_major": 2,
       "version_minor": 0
      },
      "text/plain": [
       "Loading checkpoint shards:   0%|          | 0/2 [00:00<?, ?it/s]"
      ]
     },
     "metadata": {},
     "output_type": "display_data"
    },
    {
     "data": {
      "application/vnd.jupyter.widget-view+json": {
       "model_id": "2a5afcf9d4224286859909e08b0a35fd",
       "version_major": 2,
       "version_minor": 0
      },
      "text/plain": [
       "Loading checkpoint shards:   0%|          | 0/2 [00:00<?, ?it/s]"
      ]
     },
     "metadata": {},
     "output_type": "display_data"
    },
    {
     "data": {
      "application/vnd.jupyter.widget-view+json": {
       "model_id": "65e27a4aa94d430eb16d41a4f0fe5932",
       "version_major": 2,
       "version_minor": 0
      },
      "text/plain": [
       "Loading checkpoint shards:   0%|          | 0/2 [00:00<?, ?it/s]"
      ]
     },
     "metadata": {},
     "output_type": "display_data"
    },
    {
     "data": {
      "application/vnd.jupyter.widget-view+json": {
       "model_id": "353fd199d39246b4a5b164e8bb338cc5",
       "version_major": 2,
       "version_minor": 0
      },
      "text/plain": [
       "Loading checkpoint shards:   0%|          | 0/2 [00:00<?, ?it/s]"
      ]
     },
     "metadata": {},
     "output_type": "display_data"
    },
    {
     "data": {
      "application/vnd.jupyter.widget-view+json": {
       "model_id": "54e20403ca0549059356f68bb4a9271a",
       "version_major": 2,
       "version_minor": 0
      },
      "text/plain": [
       "Loading checkpoint shards:   0%|          | 0/2 [00:00<?, ?it/s]"
      ]
     },
     "metadata": {},
     "output_type": "display_data"
    },
    {
     "data": {
      "application/vnd.jupyter.widget-view+json": {
       "model_id": "eb7546ddfffb404dac3ddcf41b96e13c",
       "version_major": 2,
       "version_minor": 0
      },
      "text/plain": [
       "Loading checkpoint shards:   0%|          | 0/2 [00:00<?, ?it/s]"
      ]
     },
     "metadata": {},
     "output_type": "display_data"
    },
    {
     "data": {
      "application/vnd.jupyter.widget-view+json": {
       "model_id": "c7e1733cfed64722b9e48e8de95ac32e",
       "version_major": 2,
       "version_minor": 0
      },
      "text/plain": [
       "Loading checkpoint shards:   0%|          | 0/2 [00:00<?, ?it/s]"
      ]
     },
     "metadata": {},
     "output_type": "display_data"
    },
    {
     "data": {
      "application/vnd.jupyter.widget-view+json": {
       "model_id": "4aa233d2a32947939cd77840c59df6d4",
       "version_major": 2,
       "version_minor": 0
      },
      "text/plain": [
       "Loading checkpoint shards:   0%|          | 0/2 [00:00<?, ?it/s]"
      ]
     },
     "metadata": {},
     "output_type": "display_data"
    },
    {
     "data": {
      "application/vnd.jupyter.widget-view+json": {
       "model_id": "6d990ce18b964d5e9ca079edcb65a193",
       "version_major": 2,
       "version_minor": 0
      },
      "text/plain": [
       "Loading checkpoint shards:   0%|          | 0/2 [00:00<?, ?it/s]"
      ]
     },
     "metadata": {},
     "output_type": "display_data"
    },
    {
     "data": {
      "application/vnd.jupyter.widget-view+json": {
       "model_id": "17f7cca7511f467ba5d753fe18224116",
       "version_major": 2,
       "version_minor": 0
      },
      "text/plain": [
       "Loading checkpoint shards:   0%|          | 0/2 [00:00<?, ?it/s]"
      ]
     },
     "metadata": {},
     "output_type": "display_data"
    },
    {
     "data": {
      "application/vnd.jupyter.widget-view+json": {
       "model_id": "18a49d3881d94a33853e8dbe30d15c1e",
       "version_major": 2,
       "version_minor": 0
      },
      "text/plain": [
       "Loading checkpoint shards:   0%|          | 0/2 [00:00<?, ?it/s]"
      ]
     },
     "metadata": {},
     "output_type": "display_data"
    },
    {
     "data": {
      "application/vnd.jupyter.widget-view+json": {
       "model_id": "124318098a7148269acf527ca94600b3",
       "version_major": 2,
       "version_minor": 0
      },
      "text/plain": [
       "Loading checkpoint shards:   0%|          | 0/2 [00:00<?, ?it/s]"
      ]
     },
     "metadata": {},
     "output_type": "display_data"
    },
    {
     "data": {
      "application/vnd.jupyter.widget-view+json": {
       "model_id": "d4f6478279a44b37bfd6309ba7eb3bee",
       "version_major": 2,
       "version_minor": 0
      },
      "text/plain": [
       "Loading checkpoint shards:   0%|          | 0/2 [00:00<?, ?it/s]"
      ]
     },
     "metadata": {},
     "output_type": "display_data"
    },
    {
     "data": {
      "application/vnd.jupyter.widget-view+json": {
       "model_id": "b11998be638e411e9ffbd6d73e532ec3",
       "version_major": 2,
       "version_minor": 0
      },
      "text/plain": [
       "Loading checkpoint shards:   0%|          | 0/2 [00:00<?, ?it/s]"
      ]
     },
     "metadata": {},
     "output_type": "display_data"
    },
    {
     "data": {
      "application/vnd.jupyter.widget-view+json": {
       "model_id": "44d92538fe6f46f8b9dee24f566a2039",
       "version_major": 2,
       "version_minor": 0
      },
      "text/plain": [
       "Loading checkpoint shards:   0%|          | 0/2 [00:00<?, ?it/s]"
      ]
     },
     "metadata": {},
     "output_type": "display_data"
    },
    {
     "data": {
      "application/vnd.jupyter.widget-view+json": {
       "model_id": "b1e4f7739f874e5d99723f438bb70275",
       "version_major": 2,
       "version_minor": 0
      },
      "text/plain": [
       "Loading checkpoint shards:   0%|          | 0/2 [00:00<?, ?it/s]"
      ]
     },
     "metadata": {},
     "output_type": "display_data"
    },
    {
     "data": {
      "application/vnd.jupyter.widget-view+json": {
       "model_id": "a909a26a398d4f37a45e88a24f18772a",
       "version_major": 2,
       "version_minor": 0
      },
      "text/plain": [
       "Loading checkpoint shards:   0%|          | 0/2 [00:00<?, ?it/s]"
      ]
     },
     "metadata": {},
     "output_type": "display_data"
    },
    {
     "data": {
      "application/vnd.jupyter.widget-view+json": {
       "model_id": "ca794feb46784116a46d13fe3cf363f1",
       "version_major": 2,
       "version_minor": 0
      },
      "text/plain": [
       "Loading checkpoint shards:   0%|          | 0/2 [00:00<?, ?it/s]"
      ]
     },
     "metadata": {},
     "output_type": "display_data"
    },
    {
     "data": {
      "application/vnd.jupyter.widget-view+json": {
       "model_id": "e9403c2cbac94b52a7505a30eb059758",
       "version_major": 2,
       "version_minor": 0
      },
      "text/plain": [
       "Loading checkpoint shards:   0%|          | 0/2 [00:00<?, ?it/s]"
      ]
     },
     "metadata": {},
     "output_type": "display_data"
    },
    {
     "data": {
      "application/vnd.jupyter.widget-view+json": {
       "model_id": "df407a5941574c498f72bb127a779f86",
       "version_major": 2,
       "version_minor": 0
      },
      "text/plain": [
       "Loading checkpoint shards:   0%|          | 0/2 [00:00<?, ?it/s]"
      ]
     },
     "metadata": {},
     "output_type": "display_data"
    },
    {
     "data": {
      "application/vnd.jupyter.widget-view+json": {
       "model_id": "7c26d3002aaf42e0b8dc028c1d29cd84",
       "version_major": 2,
       "version_minor": 0
      },
      "text/plain": [
       "Loading checkpoint shards:   0%|          | 0/2 [00:00<?, ?it/s]"
      ]
     },
     "metadata": {},
     "output_type": "display_data"
    },
    {
     "data": {
      "application/vnd.jupyter.widget-view+json": {
       "model_id": "f50a46692469461098f8fa83e42c1868",
       "version_major": 2,
       "version_minor": 0
      },
      "text/plain": [
       "Loading checkpoint shards:   0%|          | 0/2 [00:00<?, ?it/s]"
      ]
     },
     "metadata": {},
     "output_type": "display_data"
    },
    {
     "data": {
      "application/vnd.jupyter.widget-view+json": {
       "model_id": "a9be8339fd604d86bf2d9a0203dbcf8a",
       "version_major": 2,
       "version_minor": 0
      },
      "text/plain": [
       "Loading checkpoint shards:   0%|          | 0/2 [00:00<?, ?it/s]"
      ]
     },
     "metadata": {},
     "output_type": "display_data"
    },
    {
     "data": {
      "application/vnd.jupyter.widget-view+json": {
       "model_id": "d91489f7a1f44278a1b5d09a345f8c3e",
       "version_major": 2,
       "version_minor": 0
      },
      "text/plain": [
       "Loading checkpoint shards:   0%|          | 0/2 [00:00<?, ?it/s]"
      ]
     },
     "metadata": {},
     "output_type": "display_data"
    },
    {
     "data": {
      "application/vnd.jupyter.widget-view+json": {
       "model_id": "a72bd3b804ea4308b5d5278b1f249477",
       "version_major": 2,
       "version_minor": 0
      },
      "text/plain": [
       "Loading checkpoint shards:   0%|          | 0/2 [00:00<?, ?it/s]"
      ]
     },
     "metadata": {},
     "output_type": "display_data"
    },
    {
     "data": {
      "application/vnd.jupyter.widget-view+json": {
       "model_id": "cece03b32fd3477e855444d12c3510e4",
       "version_major": 2,
       "version_minor": 0
      },
      "text/plain": [
       "Loading checkpoint shards:   0%|          | 0/2 [00:00<?, ?it/s]"
      ]
     },
     "metadata": {},
     "output_type": "display_data"
    },
    {
     "data": {
      "application/vnd.jupyter.widget-view+json": {
       "model_id": "82c6d095a9794383afdc9a4ce1253481",
       "version_major": 2,
       "version_minor": 0
      },
      "text/plain": [
       "Loading checkpoint shards:   0%|          | 0/2 [00:00<?, ?it/s]"
      ]
     },
     "metadata": {},
     "output_type": "display_data"
    },
    {
     "data": {
      "application/vnd.jupyter.widget-view+json": {
       "model_id": "7082a7ee4f5a4465907a07457407c544",
       "version_major": 2,
       "version_minor": 0
      },
      "text/plain": [
       "Loading checkpoint shards:   0%|          | 0/2 [00:00<?, ?it/s]"
      ]
     },
     "metadata": {},
     "output_type": "display_data"
    },
    {
     "data": {
      "application/vnd.jupyter.widget-view+json": {
       "model_id": "d41cd0ff7ec54ba393e1d9def6085f5e",
       "version_major": 2,
       "version_minor": 0
      },
      "text/plain": [
       "Loading checkpoint shards:   0%|          | 0/2 [00:00<?, ?it/s]"
      ]
     },
     "metadata": {},
     "output_type": "display_data"
    },
    {
     "data": {
      "application/vnd.jupyter.widget-view+json": {
       "model_id": "fa0fc23176b747f6940708f95aa4f212",
       "version_major": 2,
       "version_minor": 0
      },
      "text/plain": [
       "Loading checkpoint shards:   0%|          | 0/2 [00:00<?, ?it/s]"
      ]
     },
     "metadata": {},
     "output_type": "display_data"
    },
    {
     "data": {
      "application/vnd.jupyter.widget-view+json": {
       "model_id": "295f91b95d664e5091b8d70cc384dfac",
       "version_major": 2,
       "version_minor": 0
      },
      "text/plain": [
       "Loading checkpoint shards:   0%|          | 0/2 [00:00<?, ?it/s]"
      ]
     },
     "metadata": {},
     "output_type": "display_data"
    },
    {
     "data": {
      "application/vnd.jupyter.widget-view+json": {
       "model_id": "e6c2102feacf4c7eb91ec5fa0b231a07",
       "version_major": 2,
       "version_minor": 0
      },
      "text/plain": [
       "Loading checkpoint shards:   0%|          | 0/2 [00:00<?, ?it/s]"
      ]
     },
     "metadata": {},
     "output_type": "display_data"
    },
    {
     "data": {
      "application/vnd.jupyter.widget-view+json": {
       "model_id": "acbccac5f4a14b7f88ffcdf7e9a37927",
       "version_major": 2,
       "version_minor": 0
      },
      "text/plain": [
       "Loading checkpoint shards:   0%|          | 0/2 [00:00<?, ?it/s]"
      ]
     },
     "metadata": {},
     "output_type": "display_data"
    },
    {
     "data": {
      "application/vnd.jupyter.widget-view+json": {
       "model_id": "9e9532a38a6f497e8c0399264ce7a48a",
       "version_major": 2,
       "version_minor": 0
      },
      "text/plain": [
       "Loading checkpoint shards:   0%|          | 0/2 [00:00<?, ?it/s]"
      ]
     },
     "metadata": {},
     "output_type": "display_data"
    },
    {
     "data": {
      "application/vnd.jupyter.widget-view+json": {
       "model_id": "2d2c39fb60714556a120fbe15cbe934e",
       "version_major": 2,
       "version_minor": 0
      },
      "text/plain": [
       "Loading checkpoint shards:   0%|          | 0/2 [00:00<?, ?it/s]"
      ]
     },
     "metadata": {},
     "output_type": "display_data"
    },
    {
     "data": {
      "application/vnd.jupyter.widget-view+json": {
       "model_id": "fed21864170646db86f99089b4841003",
       "version_major": 2,
       "version_minor": 0
      },
      "text/plain": [
       "Loading checkpoint shards:   0%|          | 0/2 [00:00<?, ?it/s]"
      ]
     },
     "metadata": {},
     "output_type": "display_data"
    },
    {
     "data": {
      "application/vnd.jupyter.widget-view+json": {
       "model_id": "da172b5a6e4b4aa0b4e893c039e76a28",
       "version_major": 2,
       "version_minor": 0
      },
      "text/plain": [
       "Loading checkpoint shards:   0%|          | 0/2 [00:00<?, ?it/s]"
      ]
     },
     "metadata": {},
     "output_type": "display_data"
    },
    {
     "name": "stdout",
     "output_type": "stream",
     "text": [
      "{'gt': [12.566370614359172, 3421.194399759285, 4300.840342764427, 1017.8760197630929, 380.1327110843649, 452.3893421169302, 314.1592653589793, 615.7521601035994, 28.274333882308138, 113.09733552923255, 1661.9025137490005, 1520.5308443374597, 1256.6370614359173, 4071.5040790523717, 2463.0086404143976, 907.9202768874503, 2463.0086404143976, 3421.194399759285, 201.06192982974676, 804.247719318987, 1385.442360233099, 1963.4954084936207, 12.566370614359172, 3848.4510006474966, 452.3893421169302, 804.247719318987, 3421.194399759285, 3019.0705400997913, 452.3893421169302, 2123.7166338267, 907.9202768874503, 4536.459791783661, 28.274333882308138, 1661.9025137490005, 3631.6811075498013, 706.8583470577034, 3848.4510006474966, 4778.362426110075, 5026.548245743669, 2827.4333882308138, 5026.548245743669, 1809.5573684677208, 4778.362426110075, 254.46900494077323, 1661.9025137490005, 254.46900494077323, 4536.459791783661, 2290.221044466959, 452.3893421169302, 1134.1149479459152, 907.9202768874503, 530.929158456675, 1385.442360233099, 3019.0705400997913, 2123.7166338267], 'ChatGPT': {'parameters': None, 'raw_answers': ['20-30 pixels', \"I cannot exactly calculate the area in pixels without additional data, but here's a rough estimate based on the dimensions you provided:\\n\\nIf the circle nearly fills the 100x100 pixel image, then the diameter of the circle could be roughly 95% of the image dimension assuming there's a small border. That would make the diameter about 95 pixels.\\n\\nThe formula for the area of a circle is πr² (where r is the radius). The radius would then be approximately 47.5 pixels.\\n\\nSo, the estimated area would be π * (47.5 pixels)².\\n\\nCalculating this we get approximately: π * (47.5²) ≈ π * 2256.25 ≈ 7087.5 pixels\\n\\nThe estimated range for the area of the circle, taking into account pixel approximation errors, could then be:\\n7000-7200 pixels.\", '7000-8000 pixels', '700-800', '100-200 pixels', '700-800', '300-400 pixels', '2000-3000 pixels', '300-400', '0-50 pixels', '2000-3000', '2800-3200 pixels', '3000-4000 pixels', '7000-7500', '7000-7500 pixels', '600-700', '2800-3200 pixels', '2600-3200 pixels', '200-300 pixels', 'I see a circle. The range for the area inside of the circle is between 2,000 to 3,000 pixels.', '2800-3200 pixels', '3000-3200 pixels', '20-30 pixels', '2500 - 3000 pixels', '3150-3200 pixels', 'I see a circle. The area inside of the circle is within the range of 2000-3000 pixels.', 'The area range inside the circle is 2000-3000 pixels.', '3000-3500 pixels', '1200-1400 pixels', '2800-3200 pixels', '600-800', \"Since I can't measure pixel dimensions in the image directly, I can only provide an estimated range based on the assumption that the circle appears to almost fill the 100x100 pixel image, leaving a small margin.\\n\\nIf we roughly estimate that the circle's diameter is about 90 pixels (allowing for a margin around the image), we can calculate the area using the formula for the area of a circle, A = πr^2, where r is the radius:\\n\\nr = diameter / 2 = 90 pixels / 2 = 45 pixels\\n\\nSo, the estimated area would be:\\n\\nA = π * (45 pixels)^2 ≈ π * 2025 pixels^2 ≈ 6361.725 pixels^2\\n\\nConsidering potential inaccuracies in the visual estimation, the actual area in pixels would likely be in the range of:\\n\\n6000 - 6700 pixels^2\", '300-400 pixels', '2000-2500', '7850 - 7900', 'I see a circle. The estimated area in pixels would be around 2850 to 3150 pixels.', '3000-3500 pixels', '7000-8000 pixels', '7000-7500 pixels', '2800-3200 pixels', '3000-3200', '2000-3000 pixels', 'The range of the area inside the circle is 2,500-3,100 pixels.', '200-300', '2000-3000', '200-300', '7000-8000', '2000-3000 pixels', '3000-3500 pixels', '300-400', '2500-3100 pixels', '500 - 900', '2000-3000', '3000-4000 pixels', '2000-3000 pixels'], 'parsed_answers': [[20.0, 30.0], [7000.0, 7200.0], [7000.0, 8000.0], [700.0, 800.0], [100.0, 200.0], [700.0, 800.0], [300.0, 400.0], [2000.0, 3000.0], [300.0, 400.0], [0.0, 50.0], [2000.0, 3000.0], [2800.0, 3200.0], [3000.0, 4000.0], [7000.0, 7500.0], [7000.0, 7500.0], [600.0, 700.0], [2800.0, 3200.0], [2600.0, 3200.0], [200.0, 300.0], [0.0], [2800.0, 3200.0], [3000.0, 3200.0], [20.0, 30.0], [3000.0], [3150.0, 3200.0], [2000.0, 3000.0], [2000.0, 3000.0], [3000.0, 3500.0], [1200.0, 1400.0], [2800.0, 3200.0], [600.0, 800.0], [2.0], [300.0, 400.0], [2000.0, 2500.0], [7900.0], [3150.0], [3000.0, 3500.0], [7000.0, 8000.0], [7000.0, 7500.0], [2800.0, 3200.0], [3000.0, 3200.0], [2000.0, 3000.0], [500.0, 3.0, 100.0], [200.0, 300.0], [2000.0, 3000.0], [200.0, 300.0], [7000.0, 8000.0], [2000.0, 3000.0], [3000.0, 3500.0], [300.0, 400.0], [2500.0, 3100.0], [900.0], [2000.0, 3000.0], [3000.0, 4000.0], [2000.0, 3000.0]], 'mean': 2630.9636363636364, 'std': 2299.613698496782, 'mse': 3503173.203565966, 'mlae': 17.010718027597125, 'times': [1030.37691116333, 6674.075603485107, 1018.7346935272217, 1812.2460842132568, 951.1964321136475, 1145.8375453948975, 967.6728248596191, 1203.2413482666016, 848.3767509460449, 1000.5033016204834, 1477.3778915405273, 1081.9048881530762, 955.6913375854492, 1041.6045188903809, 15404.433965682983, 6087.608098983765, 961.106538772583, 850.1582145690918, 995.2456951141357, 1386.528491973877, 905.3244590759277, 1000.7462501525879, 1108.1852912902832, 991.3671016693115, 1127.2485256195068, 14595.009326934814, 16364.243745803833, 1069.3366527557373, 955.388069152832, 979.2051315307617, 821.2141990661621, 5808.141231536865, 949.0101337432861, 1206.517219543457, 1241.7402267456055, 6176.334857940674, 928.2987117767334, 966.8474197387695, 3381.3867568969727, 1046.7073917388916, 1013.3028030395508, 1429.3489456176758, 1324.4688510894775, 973.5522270202637, 999.6564388275146, 845.7417488098145, 913.3033752441406, 1034.106731414795, 1006.3109397888184, 894.5848941802979, 838.8011455535889, 1023.1311321258545, 984.2848777770996, 1086.9596004486084, 1126.5673637390137], 'forced_repetitions': 3}, 'LLaVA': {'parameters': None, 'raw_answers': ['Yes, I see a circle. The area inside the circle is approximately 100 by 100 pixels.', 'Yes, I see a circle. The area inside the circle is approximately 50 pixels.', 'Yes, I see a circle. The area inside the circle is approximately 50 pixels.', 'Yes, I see a circle. The area inside the circle is approximately 100 by 100 pixels.', 'Yes, I see a circle. The area inside the circle is approximately 100 by 100 pixels.', 'Yes, I see a circle. The area inside the circle is approximately 100 by 100 pixels.', 'Yes, I see a circle. The area inside the circle is approximately 100 by 100 pixels.', 'Yes, I see a circle. The area inside the circle is approximately 100 by 100 pixels.', 'Yes, I see a circle in the image. The area inside the circle is approximately 100 by 100 pixels.', 'Yes, I see a circle in the image. The area inside the circle is approximately 100 by 100 pixels.', 'Yes, I see a circle. The area inside the circle is approximately 100 by 100 pixels.', 'Yes, I see a circle. The area inside the circle is approximately 100 by 100 pixels.', 'Yes, I see a circle. The area inside the circle is approximately 100 by 100 pixels.', 'Yes, I see a circle. The area inside the circle is approximately 50 pixels.', 'Yes, I see a circle. The area inside the circle is approximately 50 pixels.', 'Yes, I see a circle. The area inside the circle is approximately 100 by 100 pixels.', 'Yes, I see a circle. The area inside the circle is approximately 50 pixels.', 'Yes, I see a circle. The area inside the circle is approximately 50 pixels.', 'Yes, I see a circle in the image. The area inside the circle is approximately 10 by 10 pixels.', 'Yes, I see a circle. The area inside the circle is approximately 100 by 100 pixels.', 'Yes, I see a circle. The area inside the circle is approximately 100 by 100 pixels.', 'Yes, I see a circle. The area inside the circle is approximately 100 by 100 pixels.', 'Yes, I see a circle. The area inside the circle is approximately 100 by 100 pixels.', 'Yes, I see a circle. The area inside the circle is approximately 50 pixels.', 'Yes, I see a circle. The area inside the circle is approximately 100 by 100 pixels.', 'Yes, I see a circle. The area inside the circle is approximately 100 by 100 pixels.', 'Yes, I see a circle. The area inside the circle is approximately 50 pixels.', 'Yes, I see a circle. The area inside the circle is approximately 50 pixels.', 'Yes, I see a circle. The area inside the circle is approximately 100 by 100 pixels.', 'Yes, I see a circle. The area inside the circle is approximately 50 pixels.', 'Yes, I see a circle. The area inside the circle is approximately 100 by 100 pixels.', 'Yes, I see a circle. The area inside the circle is approximately 50 pixels.', 'Yes, I see a circle in the image. The area inside the circle is approximately 100 by 100 pixels.', 'Yes, I see a circle. The area inside the circle is approximately 100 by 100 pixels.', 'Yes, I see a circle. The area inside the circle is approximately 50 pixels.', 'Yes, I see a circle. The area inside the circle is approximately 100 by 100 pixels.', 'Yes, I see a circle. The area inside the circle is approximately 50 pixels.', 'Yes, I see a circle. The area inside the circle is approximately 50 pixels.', 'Yes, I see a circle. The area inside the circle is approximately 50 pixels.', 'Yes, I see a circle. The area inside the circle is approximately 50 pixels.', 'Yes, I see a circle. The area inside the circle is approximately 50 pixels.', 'Yes, I see a circle. The area inside the circle is approximately 100 by 100 pixels.', 'Yes, I see a circle. The area inside the circle is approximately 50 pixels.', 'Yes, I see a circle. The area inside the circle is approximately 100 by 100 pixels.', 'Yes, I see a circle. The area inside the circle is approximately 100 by 100 pixels.', 'Yes, I see a circle. The area inside the circle is approximately 100 by 100 pixels.', 'Yes, I see a circle. The area inside the circle is approximately 50 pixels.', 'Yes, I see a circle. The area inside the circle is approximately 50 pixels.', 'Yes, I see a circle. The area inside the circle is approximately 100 by 100 pixels.', 'Yes, I see a circle. The area inside the circle is approximately 100 by 100 pixels.', 'Yes, I see a circle. The area inside the circle is approximately 100 by 100 pixels.', 'Yes, I see a circle. The area inside the circle is approximately 100 by 100 pixels.', 'Yes, I see a circle. The area inside the circle is approximately 100 by 100 pixels.', 'Yes, I see a circle. The area inside the circle is approximately 50 pixels.', 'Yes, I see a circle. The area inside the circle is approximately 50 pixels.'], 'parsed_answers': [[100.0], [50.0], [50.0], [100.0], [100.0], [100.0], [100.0], [100.0], [100.0], [100.0], [100.0], [100.0], [100.0], [50.0], [50.0], [100.0], [50.0], [50.0], [10.0], [100.0], [100.0], [100.0], [100.0], [50.0], [100.0], [100.0], [50.0], [50.0], [100.0], [50.0], [100.0], [50.0], [100.0], [100.0], [50.0], [100.0], [50.0], [50.0], [50.0], [50.0], [50.0], [100.0], [50.0], [100.0], [100.0], [100.0], [50.0], [50.0], [100.0], [100.0], [100.0], [100.0], [100.0], [50.0], [50.0]], 'mean': 78.36363636363636, 'std': 26.060324170427517, 'mse': 5853127.707934216, 'mlae': 17.49157458796198, 'times': [20520.18404006958, 7734.12561416626, 7192.187786102295, 7261.3232135772705, 7321.192264556885, 7109.050750732422, 7384.120464324951, 7273.6029624938965, 7258.2433223724365, 7216.2652015686035, 7271.993398666382, 7212.356328964233, 7637.66884803772, 7174.169540405273, 7069.030046463013, 7144.762754440308, 7010.335922241211, 7055.278778076172, 7408.717155456543, 7136.767864227295, 7203.932523727417, 7205.704689025879, 7304.840326309204, 7036.825895309448, 7432.391881942749, 7341.122627258301, 7068.370580673218, 7086.546421051025, 7287.0283126831055, 7165.23289680481, 7543.176651000977, 7189.869165420532, 7618.394136428833, 7439.297437667847, 7229.626655578613, 7332.794904708862, 7287.228584289551, 7329.846382141113, 7408.156394958496, 7217.555522918701, 7157.475233078003, 7448.085784912109, 7378.623962402344, 7310.161828994751, 7613.204479217529, 7304.14342880249, 7110.121011734009, 7105.827331542969, 7389.873743057251, 7864.927053451538, 7486.38391494751, 7527.387857437134, 7417.748212814331, 7246.05655670166, 7495.13840675354], 'forced_repetitions': 0}, 'CustomLLaVA': {'parameters': None, 'raw_answers': ['1331', '1256.89657948', '1331', '1000.5573684677208', '1000.5573684677208', '1331', '1256.5902', '2642.079421669016', '143', '16', '1331', '1331', '1000.5573684677208', '12.566370614359172', '1256.52631578947', '1256.5980400258985', '1331', '1331', '1331', '1331', '1256.896579005', '1809.5573684677208', '1000.5573684677208', '1000.5573684677208', '1256.52631578947', '1331', '1809.5573684677208', '1331', '1728.1384210526316', '1256.52631578947', '1000.5573684677208', '1331', '1331', '1331', '1000.5573684677208', '1728.1304347826087', '1000.5573684677208', '1000.5573684677208', '1331', '1331', '1331', '1331', '1331', '1000.5573684677208', '1000.5573684677208', '1000.5573684677208', '1331', '1000.5573684677208', '1331', '1000.5573684677208', '1000.5573684677208', '1331', '1331', '1000.5573684677208', '1331'], 'parsed_answers': [[1331.0], [1256.89657948], [1331.0], [1000.5573684677208], [1000.5573684677208], [1331.0], [1256.5902], [2642.079421669016], [143.0], [16.0], [1331.0], [1331.0], [1000.5573684677208], [12.566370614359172], [1256.52631578947], [1256.5980400258984], [1331.0], [1331.0], [1331.0], [1331.0], [1256.896579005], [1809.5573684677208], [1000.5573684677208], [1000.5573684677208], [1256.52631578947], [1331.0], [1809.5573684677208], [1331.0], [1728.1384210526317], [1256.52631578947], [1000.5573684677208], [1331.0], [1331.0], [1331.0], [1000.5573684677208], [1728.1304347826087], [1000.5573684677208], [1000.5573684677208], [1331.0], [1331.0], [1331.0], [1331.0], [1331.0], [1000.5573684677208], [1000.5573684677208], [1000.5573684677208], [1331.0], [1000.5573684677208], [1331.0], [1000.5573684677208], [1000.5573684677208], [1331.0], [1331.0], [1000.5573684677208], [1331.0]], 'mean': 1211.6092295712165, 'std': 390.1753483579053, 'mse': 3063631.3963002493, 'mlae': 17.013224470072487, 'times': [10011.512279510498, 9283.688306808472, 9174.790859222412, 9564.311504364014, 9419.89517211914, 8935.230016708374, 9202.739715576172, 9319.300651550293, 9091.444492340088, 8870.938062667847, 8938.616514205933, 8972.241640090942, 9244.95792388916, 9523.926734924316, 9180.071830749512, 9353.606224060059, 8920.989751815796, 8904.001474380493, 9126.64246559143, 8965.217590332031, 14964.030742645264, 14417.95563697815, 9690.28353691101, 9529.071569442749, 9339.688062667847, 9203.181982040405, 9885.121822357178, 9431.81562423706, 9981.971502304077, 9509.323835372925, 9676.384687423706, 9249.09496307373, 9109.543561935425, 9039.75796699524, 9351.876020431519, 9575.965642929077, 9461.86637878418, 9339.34211730957, 9139.53685760498, 8989.089250564575, 9323.091506958008, 9159.883737564087, 9300.911903381348, 9427.386999130249, 9391.95990562439, 9674.407482147217, 9133.014917373657, 9488.25216293335, 9037.703514099121, 9656.750917434692, 9417.197942733765, 9085.745573043823, 9550.863981246948, 9447.557210922241, 9668.219327926636], 'forced_repetitions': 0}}\n"
     ]
    }
   ],
   "source": [
    "import sys\n",
    "sys.path.append('../')\n",
    "import LLMP as L\n",
    "\n",
    "query = \"What do you see? If you see a circle, can you estimate the area inside of the circle in pixels? (The image itself is 100 by 100 pixels) Please respond with just the range.\"\n",
    "images = [L.GPImage.figure1('area') for i in range(55)]\n",
    "models = [\"ChatGPT\", \"LLaVA\", \"CustomLLaVA\"]\n",
    "\n",
    "results = L.Evaluator.run(images, query, models)\n",
    "print(results)"
   ]
  },
  {
   "cell_type": "code",
   "execution_count": 2,
   "id": "1b23cb23-1a8b-4b0d-8b3c-5989b1e51059",
   "metadata": {},
   "outputs": [
    {
     "data": {
      "text/plain": [
       "{'gt': [12.566370614359172,\n",
       "  3421.194399759285,\n",
       "  4300.840342764427,\n",
       "  1017.8760197630929,\n",
       "  380.1327110843649,\n",
       "  452.3893421169302,\n",
       "  314.1592653589793,\n",
       "  615.7521601035994,\n",
       "  28.274333882308138,\n",
       "  113.09733552923255,\n",
       "  1661.9025137490005,\n",
       "  1520.5308443374597,\n",
       "  1256.6370614359173,\n",
       "  4071.5040790523717,\n",
       "  2463.0086404143976,\n",
       "  907.9202768874503,\n",
       "  2463.0086404143976,\n",
       "  3421.194399759285,\n",
       "  201.06192982974676,\n",
       "  804.247719318987,\n",
       "  1385.442360233099,\n",
       "  1963.4954084936207,\n",
       "  12.566370614359172,\n",
       "  3848.4510006474966,\n",
       "  452.3893421169302,\n",
       "  804.247719318987,\n",
       "  3421.194399759285,\n",
       "  3019.0705400997913,\n",
       "  452.3893421169302,\n",
       "  2123.7166338267,\n",
       "  907.9202768874503,\n",
       "  4536.459791783661,\n",
       "  28.274333882308138,\n",
       "  1661.9025137490005,\n",
       "  3631.6811075498013,\n",
       "  706.8583470577034,\n",
       "  3848.4510006474966,\n",
       "  4778.362426110075,\n",
       "  5026.548245743669,\n",
       "  2827.4333882308138,\n",
       "  5026.548245743669,\n",
       "  1809.5573684677208,\n",
       "  4778.362426110075,\n",
       "  254.46900494077323,\n",
       "  1661.9025137490005,\n",
       "  254.46900494077323,\n",
       "  4536.459791783661,\n",
       "  2290.221044466959,\n",
       "  452.3893421169302,\n",
       "  1134.1149479459152,\n",
       "  907.9202768874503,\n",
       "  530.929158456675,\n",
       "  1385.442360233099,\n",
       "  3019.0705400997913,\n",
       "  2123.7166338267],\n",
       " 'ChatGPT': {'parameters': None,\n",
       "  'raw_answers': ['20-30 pixels',\n",
       "   \"I cannot exactly calculate the area in pixels without additional data, but here's a rough estimate based on the dimensions you provided:\\n\\nIf the circle nearly fills the 100x100 pixel image, then the diameter of the circle could be roughly 95% of the image dimension assuming there's a small border. That would make the diameter about 95 pixels.\\n\\nThe formula for the area of a circle is πr² (where r is the radius). The radius would then be approximately 47.5 pixels.\\n\\nSo, the estimated area would be π * (47.5 pixels)².\\n\\nCalculating this we get approximately: π * (47.5²) ≈ π * 2256.25 ≈ 7087.5 pixels\\n\\nThe estimated range for the area of the circle, taking into account pixel approximation errors, could then be:\\n7000-7200 pixels.\",\n",
       "   '7000-8000 pixels',\n",
       "   '700-800',\n",
       "   '100-200 pixels',\n",
       "   '700-800',\n",
       "   '300-400 pixels',\n",
       "   '2000-3000 pixels',\n",
       "   '300-400',\n",
       "   '0-50 pixels',\n",
       "   '2000-3000',\n",
       "   '2800-3200 pixels',\n",
       "   '3000-4000 pixels',\n",
       "   '7000-7500',\n",
       "   '7000-7500 pixels',\n",
       "   '600-700',\n",
       "   '2800-3200 pixels',\n",
       "   '2600-3200 pixels',\n",
       "   '200-300 pixels',\n",
       "   'I see a circle. The range for the area inside of the circle is between 2,000 to 3,000 pixels.',\n",
       "   '2800-3200 pixels',\n",
       "   '3000-3200 pixels',\n",
       "   '20-30 pixels',\n",
       "   '2500 - 3000 pixels',\n",
       "   '3150-3200 pixels',\n",
       "   'I see a circle. The area inside of the circle is within the range of 2000-3000 pixels.',\n",
       "   'The area range inside the circle is 2000-3000 pixels.',\n",
       "   '3000-3500 pixels',\n",
       "   '1200-1400 pixels',\n",
       "   '2800-3200 pixels',\n",
       "   '600-800',\n",
       "   \"Since I can't measure pixel dimensions in the image directly, I can only provide an estimated range based on the assumption that the circle appears to almost fill the 100x100 pixel image, leaving a small margin.\\n\\nIf we roughly estimate that the circle's diameter is about 90 pixels (allowing for a margin around the image), we can calculate the area using the formula for the area of a circle, A = πr^2, where r is the radius:\\n\\nr = diameter / 2 = 90 pixels / 2 = 45 pixels\\n\\nSo, the estimated area would be:\\n\\nA = π * (45 pixels)^2 ≈ π * 2025 pixels^2 ≈ 6361.725 pixels^2\\n\\nConsidering potential inaccuracies in the visual estimation, the actual area in pixels would likely be in the range of:\\n\\n6000 - 6700 pixels^2\",\n",
       "   '300-400 pixels',\n",
       "   '2000-2500',\n",
       "   '7850 - 7900',\n",
       "   'I see a circle. The estimated area in pixels would be around 2850 to 3150 pixels.',\n",
       "   '3000-3500 pixels',\n",
       "   '7000-8000 pixels',\n",
       "   '7000-7500 pixels',\n",
       "   '2800-3200 pixels',\n",
       "   '3000-3200',\n",
       "   '2000-3000 pixels',\n",
       "   'The range of the area inside the circle is 2,500-3,100 pixels.',\n",
       "   '200-300',\n",
       "   '2000-3000',\n",
       "   '200-300',\n",
       "   '7000-8000',\n",
       "   '2000-3000 pixels',\n",
       "   '3000-3500 pixels',\n",
       "   '300-400',\n",
       "   '2500-3100 pixels',\n",
       "   '500 - 900',\n",
       "   '2000-3000',\n",
       "   '3000-4000 pixels',\n",
       "   '2000-3000 pixels'],\n",
       "  'parsed_answers': [[20.0, 30.0],\n",
       "   [7000.0, 7200.0],\n",
       "   [7000.0, 8000.0],\n",
       "   [700.0, 800.0],\n",
       "   [100.0, 200.0],\n",
       "   [700.0, 800.0],\n",
       "   [300.0, 400.0],\n",
       "   [2000.0, 3000.0],\n",
       "   [300.0, 400.0],\n",
       "   [0.0, 50.0],\n",
       "   [2000.0, 3000.0],\n",
       "   [2800.0, 3200.0],\n",
       "   [3000.0, 4000.0],\n",
       "   [7000.0, 7500.0],\n",
       "   [7000.0, 7500.0],\n",
       "   [600.0, 700.0],\n",
       "   [2800.0, 3200.0],\n",
       "   [2600.0, 3200.0],\n",
       "   [200.0, 300.0],\n",
       "   [0.0],\n",
       "   [2800.0, 3200.0],\n",
       "   [3000.0, 3200.0],\n",
       "   [20.0, 30.0],\n",
       "   [3000.0],\n",
       "   [3150.0, 3200.0],\n",
       "   [2000.0, 3000.0],\n",
       "   [2000.0, 3000.0],\n",
       "   [3000.0, 3500.0],\n",
       "   [1200.0, 1400.0],\n",
       "   [2800.0, 3200.0],\n",
       "   [600.0, 800.0],\n",
       "   [2.0],\n",
       "   [300.0, 400.0],\n",
       "   [2000.0, 2500.0],\n",
       "   [7900.0],\n",
       "   [3150.0],\n",
       "   [3000.0, 3500.0],\n",
       "   [7000.0, 8000.0],\n",
       "   [7000.0, 7500.0],\n",
       "   [2800.0, 3200.0],\n",
       "   [3000.0, 3200.0],\n",
       "   [2000.0, 3000.0],\n",
       "   [500.0, 3.0, 100.0],\n",
       "   [200.0, 300.0],\n",
       "   [2000.0, 3000.0],\n",
       "   [200.0, 300.0],\n",
       "   [7000.0, 8000.0],\n",
       "   [2000.0, 3000.0],\n",
       "   [3000.0, 3500.0],\n",
       "   [300.0, 400.0],\n",
       "   [2500.0, 3100.0],\n",
       "   [900.0],\n",
       "   [2000.0, 3000.0],\n",
       "   [3000.0, 4000.0],\n",
       "   [2000.0, 3000.0]],\n",
       "  'mean': 2630.9636363636364,\n",
       "  'std': 2299.613698496782,\n",
       "  'mse': 3503173.203565966,\n",
       "  'mlae': 17.010718027597125,\n",
       "  'times': [1030.37691116333,\n",
       "   6674.075603485107,\n",
       "   1018.7346935272217,\n",
       "   1812.2460842132568,\n",
       "   951.1964321136475,\n",
       "   1145.8375453948975,\n",
       "   967.6728248596191,\n",
       "   1203.2413482666016,\n",
       "   848.3767509460449,\n",
       "   1000.5033016204834,\n",
       "   1477.3778915405273,\n",
       "   1081.9048881530762,\n",
       "   955.6913375854492,\n",
       "   1041.6045188903809,\n",
       "   15404.433965682983,\n",
       "   6087.608098983765,\n",
       "   961.106538772583,\n",
       "   850.1582145690918,\n",
       "   995.2456951141357,\n",
       "   1386.528491973877,\n",
       "   905.3244590759277,\n",
       "   1000.7462501525879,\n",
       "   1108.1852912902832,\n",
       "   991.3671016693115,\n",
       "   1127.2485256195068,\n",
       "   14595.009326934814,\n",
       "   16364.243745803833,\n",
       "   1069.3366527557373,\n",
       "   955.388069152832,\n",
       "   979.2051315307617,\n",
       "   821.2141990661621,\n",
       "   5808.141231536865,\n",
       "   949.0101337432861,\n",
       "   1206.517219543457,\n",
       "   1241.7402267456055,\n",
       "   6176.334857940674,\n",
       "   928.2987117767334,\n",
       "   966.8474197387695,\n",
       "   3381.3867568969727,\n",
       "   1046.7073917388916,\n",
       "   1013.3028030395508,\n",
       "   1429.3489456176758,\n",
       "   1324.4688510894775,\n",
       "   973.5522270202637,\n",
       "   999.6564388275146,\n",
       "   845.7417488098145,\n",
       "   913.3033752441406,\n",
       "   1034.106731414795,\n",
       "   1006.3109397888184,\n",
       "   894.5848941802979,\n",
       "   838.8011455535889,\n",
       "   1023.1311321258545,\n",
       "   984.2848777770996,\n",
       "   1086.9596004486084,\n",
       "   1126.5673637390137],\n",
       "  'forced_repetitions': 3},\n",
       " 'LLaVA': {'parameters': None,\n",
       "  'raw_answers': ['Yes, I see a circle. The area inside the circle is approximately 100 by 100 pixels.',\n",
       "   'Yes, I see a circle. The area inside the circle is approximately 50 pixels.',\n",
       "   'Yes, I see a circle. The area inside the circle is approximately 50 pixels.',\n",
       "   'Yes, I see a circle. The area inside the circle is approximately 100 by 100 pixels.',\n",
       "   'Yes, I see a circle. The area inside the circle is approximately 100 by 100 pixels.',\n",
       "   'Yes, I see a circle. The area inside the circle is approximately 100 by 100 pixels.',\n",
       "   'Yes, I see a circle. The area inside the circle is approximately 100 by 100 pixels.',\n",
       "   'Yes, I see a circle. The area inside the circle is approximately 100 by 100 pixels.',\n",
       "   'Yes, I see a circle in the image. The area inside the circle is approximately 100 by 100 pixels.',\n",
       "   'Yes, I see a circle in the image. The area inside the circle is approximately 100 by 100 pixels.',\n",
       "   'Yes, I see a circle. The area inside the circle is approximately 100 by 100 pixels.',\n",
       "   'Yes, I see a circle. The area inside the circle is approximately 100 by 100 pixels.',\n",
       "   'Yes, I see a circle. The area inside the circle is approximately 100 by 100 pixels.',\n",
       "   'Yes, I see a circle. The area inside the circle is approximately 50 pixels.',\n",
       "   'Yes, I see a circle. The area inside the circle is approximately 50 pixels.',\n",
       "   'Yes, I see a circle. The area inside the circle is approximately 100 by 100 pixels.',\n",
       "   'Yes, I see a circle. The area inside the circle is approximately 50 pixels.',\n",
       "   'Yes, I see a circle. The area inside the circle is approximately 50 pixels.',\n",
       "   'Yes, I see a circle in the image. The area inside the circle is approximately 10 by 10 pixels.',\n",
       "   'Yes, I see a circle. The area inside the circle is approximately 100 by 100 pixels.',\n",
       "   'Yes, I see a circle. The area inside the circle is approximately 100 by 100 pixels.',\n",
       "   'Yes, I see a circle. The area inside the circle is approximately 100 by 100 pixels.',\n",
       "   'Yes, I see a circle. The area inside the circle is approximately 100 by 100 pixels.',\n",
       "   'Yes, I see a circle. The area inside the circle is approximately 50 pixels.',\n",
       "   'Yes, I see a circle. The area inside the circle is approximately 100 by 100 pixels.',\n",
       "   'Yes, I see a circle. The area inside the circle is approximately 100 by 100 pixels.',\n",
       "   'Yes, I see a circle. The area inside the circle is approximately 50 pixels.',\n",
       "   'Yes, I see a circle. The area inside the circle is approximately 50 pixels.',\n",
       "   'Yes, I see a circle. The area inside the circle is approximately 100 by 100 pixels.',\n",
       "   'Yes, I see a circle. The area inside the circle is approximately 50 pixels.',\n",
       "   'Yes, I see a circle. The area inside the circle is approximately 100 by 100 pixels.',\n",
       "   'Yes, I see a circle. The area inside the circle is approximately 50 pixels.',\n",
       "   'Yes, I see a circle in the image. The area inside the circle is approximately 100 by 100 pixels.',\n",
       "   'Yes, I see a circle. The area inside the circle is approximately 100 by 100 pixels.',\n",
       "   'Yes, I see a circle. The area inside the circle is approximately 50 pixels.',\n",
       "   'Yes, I see a circle. The area inside the circle is approximately 100 by 100 pixels.',\n",
       "   'Yes, I see a circle. The area inside the circle is approximately 50 pixels.',\n",
       "   'Yes, I see a circle. The area inside the circle is approximately 50 pixels.',\n",
       "   'Yes, I see a circle. The area inside the circle is approximately 50 pixels.',\n",
       "   'Yes, I see a circle. The area inside the circle is approximately 50 pixels.',\n",
       "   'Yes, I see a circle. The area inside the circle is approximately 50 pixels.',\n",
       "   'Yes, I see a circle. The area inside the circle is approximately 100 by 100 pixels.',\n",
       "   'Yes, I see a circle. The area inside the circle is approximately 50 pixels.',\n",
       "   'Yes, I see a circle. The area inside the circle is approximately 100 by 100 pixels.',\n",
       "   'Yes, I see a circle. The area inside the circle is approximately 100 by 100 pixels.',\n",
       "   'Yes, I see a circle. The area inside the circle is approximately 100 by 100 pixels.',\n",
       "   'Yes, I see a circle. The area inside the circle is approximately 50 pixels.',\n",
       "   'Yes, I see a circle. The area inside the circle is approximately 50 pixels.',\n",
       "   'Yes, I see a circle. The area inside the circle is approximately 100 by 100 pixels.',\n",
       "   'Yes, I see a circle. The area inside the circle is approximately 100 by 100 pixels.',\n",
       "   'Yes, I see a circle. The area inside the circle is approximately 100 by 100 pixels.',\n",
       "   'Yes, I see a circle. The area inside the circle is approximately 100 by 100 pixels.',\n",
       "   'Yes, I see a circle. The area inside the circle is approximately 100 by 100 pixels.',\n",
       "   'Yes, I see a circle. The area inside the circle is approximately 50 pixels.',\n",
       "   'Yes, I see a circle. The area inside the circle is approximately 50 pixels.'],\n",
       "  'parsed_answers': [[100.0],\n",
       "   [50.0],\n",
       "   [50.0],\n",
       "   [100.0],\n",
       "   [100.0],\n",
       "   [100.0],\n",
       "   [100.0],\n",
       "   [100.0],\n",
       "   [100.0],\n",
       "   [100.0],\n",
       "   [100.0],\n",
       "   [100.0],\n",
       "   [100.0],\n",
       "   [50.0],\n",
       "   [50.0],\n",
       "   [100.0],\n",
       "   [50.0],\n",
       "   [50.0],\n",
       "   [10.0],\n",
       "   [100.0],\n",
       "   [100.0],\n",
       "   [100.0],\n",
       "   [100.0],\n",
       "   [50.0],\n",
       "   [100.0],\n",
       "   [100.0],\n",
       "   [50.0],\n",
       "   [50.0],\n",
       "   [100.0],\n",
       "   [50.0],\n",
       "   [100.0],\n",
       "   [50.0],\n",
       "   [100.0],\n",
       "   [100.0],\n",
       "   [50.0],\n",
       "   [100.0],\n",
       "   [50.0],\n",
       "   [50.0],\n",
       "   [50.0],\n",
       "   [50.0],\n",
       "   [50.0],\n",
       "   [100.0],\n",
       "   [50.0],\n",
       "   [100.0],\n",
       "   [100.0],\n",
       "   [100.0],\n",
       "   [50.0],\n",
       "   [50.0],\n",
       "   [100.0],\n",
       "   [100.0],\n",
       "   [100.0],\n",
       "   [100.0],\n",
       "   [100.0],\n",
       "   [50.0],\n",
       "   [50.0]],\n",
       "  'mean': 78.36363636363636,\n",
       "  'std': 26.060324170427517,\n",
       "  'mse': 5853127.707934216,\n",
       "  'mlae': 17.49157458796198,\n",
       "  'times': [20520.18404006958,\n",
       "   7734.12561416626,\n",
       "   7192.187786102295,\n",
       "   7261.3232135772705,\n",
       "   7321.192264556885,\n",
       "   7109.050750732422,\n",
       "   7384.120464324951,\n",
       "   7273.6029624938965,\n",
       "   7258.2433223724365,\n",
       "   7216.2652015686035,\n",
       "   7271.993398666382,\n",
       "   7212.356328964233,\n",
       "   7637.66884803772,\n",
       "   7174.169540405273,\n",
       "   7069.030046463013,\n",
       "   7144.762754440308,\n",
       "   7010.335922241211,\n",
       "   7055.278778076172,\n",
       "   7408.717155456543,\n",
       "   7136.767864227295,\n",
       "   7203.932523727417,\n",
       "   7205.704689025879,\n",
       "   7304.840326309204,\n",
       "   7036.825895309448,\n",
       "   7432.391881942749,\n",
       "   7341.122627258301,\n",
       "   7068.370580673218,\n",
       "   7086.546421051025,\n",
       "   7287.0283126831055,\n",
       "   7165.23289680481,\n",
       "   7543.176651000977,\n",
       "   7189.869165420532,\n",
       "   7618.394136428833,\n",
       "   7439.297437667847,\n",
       "   7229.626655578613,\n",
       "   7332.794904708862,\n",
       "   7287.228584289551,\n",
       "   7329.846382141113,\n",
       "   7408.156394958496,\n",
       "   7217.555522918701,\n",
       "   7157.475233078003,\n",
       "   7448.085784912109,\n",
       "   7378.623962402344,\n",
       "   7310.161828994751,\n",
       "   7613.204479217529,\n",
       "   7304.14342880249,\n",
       "   7110.121011734009,\n",
       "   7105.827331542969,\n",
       "   7389.873743057251,\n",
       "   7864.927053451538,\n",
       "   7486.38391494751,\n",
       "   7527.387857437134,\n",
       "   7417.748212814331,\n",
       "   7246.05655670166,\n",
       "   7495.13840675354],\n",
       "  'forced_repetitions': 0},\n",
       " 'CustomLLaVA': {'parameters': None,\n",
       "  'raw_answers': ['1331',\n",
       "   '1256.89657948',\n",
       "   '1331',\n",
       "   '1000.5573684677208',\n",
       "   '1000.5573684677208',\n",
       "   '1331',\n",
       "   '1256.5902',\n",
       "   '2642.079421669016',\n",
       "   '143',\n",
       "   '16',\n",
       "   '1331',\n",
       "   '1331',\n",
       "   '1000.5573684677208',\n",
       "   '12.566370614359172',\n",
       "   '1256.52631578947',\n",
       "   '1256.5980400258985',\n",
       "   '1331',\n",
       "   '1331',\n",
       "   '1331',\n",
       "   '1331',\n",
       "   '1256.896579005',\n",
       "   '1809.5573684677208',\n",
       "   '1000.5573684677208',\n",
       "   '1000.5573684677208',\n",
       "   '1256.52631578947',\n",
       "   '1331',\n",
       "   '1809.5573684677208',\n",
       "   '1331',\n",
       "   '1728.1384210526316',\n",
       "   '1256.52631578947',\n",
       "   '1000.5573684677208',\n",
       "   '1331',\n",
       "   '1331',\n",
       "   '1331',\n",
       "   '1000.5573684677208',\n",
       "   '1728.1304347826087',\n",
       "   '1000.5573684677208',\n",
       "   '1000.5573684677208',\n",
       "   '1331',\n",
       "   '1331',\n",
       "   '1331',\n",
       "   '1331',\n",
       "   '1331',\n",
       "   '1000.5573684677208',\n",
       "   '1000.5573684677208',\n",
       "   '1000.5573684677208',\n",
       "   '1331',\n",
       "   '1000.5573684677208',\n",
       "   '1331',\n",
       "   '1000.5573684677208',\n",
       "   '1000.5573684677208',\n",
       "   '1331',\n",
       "   '1331',\n",
       "   '1000.5573684677208',\n",
       "   '1331'],\n",
       "  'parsed_answers': [[1331.0],\n",
       "   [1256.89657948],\n",
       "   [1331.0],\n",
       "   [1000.5573684677208],\n",
       "   [1000.5573684677208],\n",
       "   [1331.0],\n",
       "   [1256.5902],\n",
       "   [2642.079421669016],\n",
       "   [143.0],\n",
       "   [16.0],\n",
       "   [1331.0],\n",
       "   [1331.0],\n",
       "   [1000.5573684677208],\n",
       "   [12.566370614359172],\n",
       "   [1256.52631578947],\n",
       "   [1256.5980400258984],\n",
       "   [1331.0],\n",
       "   [1331.0],\n",
       "   [1331.0],\n",
       "   [1331.0],\n",
       "   [1256.896579005],\n",
       "   [1809.5573684677208],\n",
       "   [1000.5573684677208],\n",
       "   [1000.5573684677208],\n",
       "   [1256.52631578947],\n",
       "   [1331.0],\n",
       "   [1809.5573684677208],\n",
       "   [1331.0],\n",
       "   [1728.1384210526317],\n",
       "   [1256.52631578947],\n",
       "   [1000.5573684677208],\n",
       "   [1331.0],\n",
       "   [1331.0],\n",
       "   [1331.0],\n",
       "   [1000.5573684677208],\n",
       "   [1728.1304347826087],\n",
       "   [1000.5573684677208],\n",
       "   [1000.5573684677208],\n",
       "   [1331.0],\n",
       "   [1331.0],\n",
       "   [1331.0],\n",
       "   [1331.0],\n",
       "   [1331.0],\n",
       "   [1000.5573684677208],\n",
       "   [1000.5573684677208],\n",
       "   [1000.5573684677208],\n",
       "   [1331.0],\n",
       "   [1000.5573684677208],\n",
       "   [1331.0],\n",
       "   [1000.5573684677208],\n",
       "   [1000.5573684677208],\n",
       "   [1331.0],\n",
       "   [1331.0],\n",
       "   [1000.5573684677208],\n",
       "   [1331.0]],\n",
       "  'mean': 1211.6092295712165,\n",
       "  'std': 390.1753483579053,\n",
       "  'mse': 3063631.3963002493,\n",
       "  'mlae': 17.013224470072487,\n",
       "  'times': [10011.512279510498,\n",
       "   9283.688306808472,\n",
       "   9174.790859222412,\n",
       "   9564.311504364014,\n",
       "   9419.89517211914,\n",
       "   8935.230016708374,\n",
       "   9202.739715576172,\n",
       "   9319.300651550293,\n",
       "   9091.444492340088,\n",
       "   8870.938062667847,\n",
       "   8938.616514205933,\n",
       "   8972.241640090942,\n",
       "   9244.95792388916,\n",
       "   9523.926734924316,\n",
       "   9180.071830749512,\n",
       "   9353.606224060059,\n",
       "   8920.989751815796,\n",
       "   8904.001474380493,\n",
       "   9126.64246559143,\n",
       "   8965.217590332031,\n",
       "   14964.030742645264,\n",
       "   14417.95563697815,\n",
       "   9690.28353691101,\n",
       "   9529.071569442749,\n",
       "   9339.688062667847,\n",
       "   9203.181982040405,\n",
       "   9885.121822357178,\n",
       "   9431.81562423706,\n",
       "   9981.971502304077,\n",
       "   9509.323835372925,\n",
       "   9676.384687423706,\n",
       "   9249.09496307373,\n",
       "   9109.543561935425,\n",
       "   9039.75796699524,\n",
       "   9351.876020431519,\n",
       "   9575.965642929077,\n",
       "   9461.86637878418,\n",
       "   9339.34211730957,\n",
       "   9139.53685760498,\n",
       "   8989.089250564575,\n",
       "   9323.091506958008,\n",
       "   9159.883737564087,\n",
       "   9300.911903381348,\n",
       "   9427.386999130249,\n",
       "   9391.95990562439,\n",
       "   9674.407482147217,\n",
       "   9133.014917373657,\n",
       "   9488.25216293335,\n",
       "   9037.703514099121,\n",
       "   9656.750917434692,\n",
       "   9417.197942733765,\n",
       "   9085.745573043823,\n",
       "   9550.863981246948,\n",
       "   9447.557210922241,\n",
       "   9668.219327926636],\n",
       "  'forced_repetitions': 0}}"
      ]
     },
     "metadata": {},
     "output_type": "display_data"
    }
   ],
   "source": [
    "from IPython.display import display\n",
    "display(results)"
   ]
  },
  {
   "cell_type": "code",
   "execution_count": 3,
   "id": "baba9655-57f8-45fd-a0fb-3a5d1c6cc87c",
   "metadata": {},
   "outputs": [
    {
     "data": {
      "text/plain": [
       "'ChatGPT mse:  3503173.203566'"
      ]
     },
     "metadata": {},
     "output_type": "display_data"
    },
    {
     "data": {
      "text/plain": [
       "'ChatGPT mlae: 17.010718'"
      ]
     },
     "metadata": {},
     "output_type": "display_data"
    },
    {
     "data": {
      "text/plain": [
       "'ChatGPT mean: 2630.963636'"
      ]
     },
     "metadata": {},
     "output_type": "display_data"
    },
    {
     "data": {
      "text/plain": [
       "'ChatGPT std:  2299.613698'"
      ]
     },
     "metadata": {},
     "output_type": "display_data"
    },
    {
     "data": {
      "text/plain": [
       "'LLaVA mse:    5853127.707934'"
      ]
     },
     "metadata": {},
     "output_type": "display_data"
    },
    {
     "data": {
      "text/plain": [
       "'LLaVA mlae:   17.491575'"
      ]
     },
     "metadata": {},
     "output_type": "display_data"
    },
    {
     "data": {
      "text/plain": [
       "'LLaVA mean:   78.363636'"
      ]
     },
     "metadata": {},
     "output_type": "display_data"
    },
    {
     "data": {
      "text/plain": [
       "'LLaVA std:    26.060324'"
      ]
     },
     "metadata": {},
     "output_type": "display_data"
    },
    {
     "data": {
      "text/plain": [
       "'CLLaVA  mse:  3063631.396300'"
      ]
     },
     "metadata": {},
     "output_type": "display_data"
    },
    {
     "data": {
      "text/plain": [
       "'CLLaVA  mlae: 17.013224'"
      ]
     },
     "metadata": {},
     "output_type": "display_data"
    },
    {
     "data": {
      "text/plain": [
       "'CLLaVA  mean: 1211.609230'"
      ]
     },
     "metadata": {},
     "output_type": "display_data"
    },
    {
     "data": {
      "text/plain": [
       "'CLLaVA  std:  390.175348'"
      ]
     },
     "metadata": {},
     "output_type": "display_data"
    }
   ],
   "source": [
    "chatGPT_mse = results[\"ChatGPT\"][\"mse\"]\n",
    "chatGPT_mlae = results[\"ChatGPT\"][\"mlae\"]\n",
    "chatGPT_mean = results[\"ChatGPT\"][\"mean\"]\n",
    "chatGPT_std = results[\"ChatGPT\"][\"std\"]\n",
    "llava_mse = results[\"LLaVA\"][\"mse\"]\n",
    "llava_mlae = results[\"LLaVA\"][\"mlae\"]\n",
    "llava_mean = results[\"LLaVA\"][\"mean\"]\n",
    "llava_std = results[\"LLaVA\"][\"std\"]\n",
    "custom_llava_mse = results[\"CustomLLaVA\"][\"mse\"]\n",
    "custom_llava_mlae = results[\"CustomLLaVA\"][\"mlae\"]\n",
    "custom_llava_mean = results[\"CustomLLaVA\"][\"mean\"]\n",
    "custom_llava_std = results[\"CustomLLaVA\"][\"std\"]\n",
    "\n",
    "display(f\"ChatGPT mse:  {chatGPT_mse:f}\")\n",
    "display(f\"ChatGPT mlae: {chatGPT_mlae:f}\")\n",
    "display(f\"ChatGPT mean: {chatGPT_mean:f}\")\n",
    "display(f\"ChatGPT std:  {chatGPT_std:f}\")\n",
    "display(f\"LLaVA mse:    {llava_mse:f}\")\n",
    "display(f\"LLaVA mlae:   {llava_mlae:f}\")\n",
    "display(f\"LLaVA mean:   {llava_mean:f}\")\n",
    "display(f\"LLaVA std:    {llava_std:f}\")\n",
    "display(f\"CLLaVA  mse:  {custom_llava_mse:f}\")\n",
    "display(f\"CLLaVA  mlae: {custom_llava_mlae:f}\")\n",
    "display(f\"CLLaVA  mean: {custom_llava_mean:f}\")\n",
    "display(f\"CLLaVA  std:  {custom_llava_std:f}\")"
   ]
  },
  {
   "cell_type": "code",
   "execution_count": null,
   "id": "807503cc-022c-4b1d-8bab-8c1b0a1966f7",
   "metadata": {},
   "outputs": [],
   "source": []
  }
 ],
 "metadata": {
  "kernelspec": {
   "display_name": "Python 3 (ipykernel)",
   "language": "python",
   "name": "python3"
  },
  "language_info": {
   "codemirror_mode": {
    "name": "ipython",
    "version": 3
   },
   "file_extension": ".py",
   "mimetype": "text/x-python",
   "name": "python",
   "nbconvert_exporter": "python",
   "pygments_lexer": "ipython3",
   "version": "3.11.7"
  }
 },
 "nbformat": 4,
 "nbformat_minor": 5
}
