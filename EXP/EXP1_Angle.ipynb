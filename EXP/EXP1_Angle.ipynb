{
 "cells": [
  {
   "cell_type": "code",
   "execution_count": null,
   "id": "b3a34c89-1ee2-4333-8a8f-ed8c6f2eedc4",
   "metadata": {},
   "outputs": [],
   "source": [
    "import sys\n",
    "import os\n",
    "import torch\n",
    "import json\n",
    "from dotenv import load_dotenv\n",
    "# Add the parent directory to the system path for module imports\n",
    "sys.path.append('../')\n",
    "\n",
    "import LLMP as L\n",
    "\n",
    "# Load environment variables from the .env file\n",
    "load_dotenv()\n",
    "\n",
    "# Clear CUDA cache if using GPU\n",
    "torch.cuda.empty_cache()\n",
    "\n",
    "# Create instances of the GPT and Gemini models\n",
    "gpt4vision = L.GPTModel(\"gpt-4-turbo\")\n",
    "gpt4o = L.GPTModel(\"gpt-4o\")\n",
    "LLaVA = L.LLaVAModel(\"llava-hf/llava-1.5-7b-hf\")\n",
    "customLLaVA = L.LLaVAModel(\"raminguyen/fine-tuned-data\")\n",
    "gemini1 = L.GeminiProVision()  \n",
    "gemini2 = L.Gemini1_5Flash() \n",
    "\n",
    "model_instances = {\n",
    "    \"gpt4o\": gpt4o,\n",
    "    \"gpt4vision\": gpt4vision,\n",
    "    \"llava-1.5-7b-hf\": LLaVA, \n",
    "    \"CustomLLaVA\": customLLaVA,\n",
    "    \"GeminiProVision\": gemini1,  \n",
    "    \"Gemini1_5Flash\": gemini2\n",
    "}\n",
    "\n",
    "# Define query and images\n",
    "query = \"This image contains a simple line drawing that forms an acute angle. Please estimate the angle. Please respond with a possible range not larger than 10 degrees and report just the numbers.\"\n",
    "images = [L.GPImage.figure1('angle') for i in range(55)]\n",
    "\n",
    "# Run the evaluator\n",
    "result1 = L.Evaluator.run(images, query, model_instances)\n",
    "print(result1)\n",
    "\n",
    "with open('EXP1_Angle.json', 'w') as json_file:\n",
    "    json.dump(result1, json_file, indent=4) "
   ]
  },
  {
   "cell_type": "code",
   "execution_count": null,
   "id": "ad0ba256-00aa-4873-b47f-0af8ce7143ed",
   "metadata": {},
   "outputs": [],
   "source": []
  },
  {
   "cell_type": "code",
   "execution_count": null,
   "id": "ddd5b3c8-d8e9-400f-8dd6-47ba2e0960f3",
   "metadata": {},
   "outputs": [],
   "source": []
  }
 ],
 "metadata": {
  "kernelspec": {
   "display_name": "Python 3 (ipykernel)",
   "language": "python",
   "name": "python3"
  },
  "language_info": {
   "codemirror_mode": {
    "name": "ipython",
    "version": 3
   },
   "file_extension": ".py",
   "mimetype": "text/x-python",
   "name": "python",
   "nbconvert_exporter": "python",
   "pygments_lexer": "ipython3",
   "version": "3.11.7"
  }
 },
 "nbformat": 4,
 "nbformat_minor": 5
}
