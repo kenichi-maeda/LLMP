{
 "cells": [
  {
   "cell_type": "code",
   "execution_count": null,
   "id": "fd1a5af2-97c7-4124-9854-09b4e844b5aa",
   "metadata": {},
   "outputs": [],
   "source": [
    "import sys\n",
    "import os\n",
    "import torch\n",
    "import json\n",
    "from dotenv import load_dotenv\n",
    "# Add the parent directory to the system path for module imports\n",
    "sys.path.append('../')\n",
    "\n",
    "import LLMP as L\n",
    "\n",
    "# Create instances of the GPT and Gemini models\n",
    "gpt4vision = L.GPTModel(\"gpt-4-turbo\")\n",
    "gpt4o = L.GPTModel(\"gpt-4o\")\n",
    "LLaVA = L.NewLLaVAModel(\"llava-hf/llava-1.5-7b-hf\")\n",
    "customLLaVA = L.NewLLaVAModel(\"raminguyen/fine-tuned-data\")\n",
    "gemini1 = L.GeminiProVision()  \n",
    "gemini2 = L.Gemini1_5Flash() \n",
    "\n",
    "model_instances = {\n",
    "    \"gpt4o\": gpt4o,\n",
    "    \"gpt4vision\": gpt4vision,\n",
    "    \"llava-1.5-7b-hf\": LLaVA, \n",
    "    \"CustomLLaVA\": customLLaVA,\n",
    "    \"GeminiProVision\": gemini1,  \n",
    "    \"Gemini1_5Flash\": gemini2\n",
    "}\n",
    "\n",
    "# Define query and images\n",
    "query = 'What do you see? There are two black bars.  Estimate the length of the left bar and the right bar in pixels (the value should be between 0 and 100). Give me the numbers.'\n",
    "images = [L.GPImage.figure12(False) for i in range(55)]\n",
    "\n",
    "# Run the evaluator\n",
    "result1 = L.Evaluator4.run(images, query, model_instances)\n",
    "print(result1)\n",
    "\n",
    "with open('EXP4_Framed_Rectangle_vs_Bars.json', 'w') as json_file:\n",
    "    json.dump(result1, json_file, indent=4) "
   ]
  },
  {
   "cell_type": "code",
   "execution_count": null,
   "id": "c12da808-34ce-4d43-bae5-90f69a09650a",
   "metadata": {},
   "outputs": [],
   "source": []
  },
  {
   "cell_type": "code",
   "execution_count": null,
   "id": "bfe01d7c-d053-4a55-8e09-1c7061d098df",
   "metadata": {},
   "outputs": [],
   "source": []
  }
 ],
 "metadata": {
  "kernelspec": {
   "display_name": "Python 3 (ipykernel)",
   "language": "python",
   "name": "python3"
  },
  "language_info": {
   "codemirror_mode": {
    "name": "ipython",
    "version": 3
   },
   "file_extension": ".py",
   "mimetype": "text/x-python",
   "name": "python",
   "nbconvert_exporter": "python",
   "pygments_lexer": "ipython3",
   "version": "3.11.7"
  }
 },
 "nbformat": 4,
 "nbformat_minor": 5
}
