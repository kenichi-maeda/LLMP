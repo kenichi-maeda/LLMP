{
 "cells": [
  {
   "cell_type": "code",
   "execution_count": null,
   "id": "fd1a5af2-97c7-4124-9854-09b4e844b5aa",
   "metadata": {},
   "outputs": [],
   "source": [
    "import sys\n",
    "import os\n",
    "import torch\n",
    "from dotenv import load_dotenv\n",
    "sys.path.append('../')\n",
    "import LLMP as L\n",
    "\n",
    "load_dotenv()\n",
    "torch.cuda.empty_cache()\n",
    "\n",
    "# Models\n",
    "model_instances = {\n",
    "    \"gpt4o\": L.GPTModel(\"gpt-4o\"),\n",
    "    \"llama\": L.llamaModel(\"meta-llama/Llama-3.2-11B-Vision-Instruct\"),\n",
    "    \"fineTunedllama\": L.llamaModel(\"raminguyen/llama-3.2-vision-instruct-100\"),\n",
    "    \"GeminiProVision\": L.GeminiProVision(),  \n",
    "    \"Gemini1_5Flash\": L.Gemini1_5Flash() \n",
    "}\n",
    "\n",
    "# Define query and images\n",
    "query = '...'\n",
    "images = [L.GPImage.figure12(False) for i in range(55)]\n",
    "\n",
    "# Run the evaluator\n",
    "e = L.Evaluator()\n",
    "e.run(images, query, model_instances)\n",
    "e.save_results('RESULTS/EXP4_Framed_Rectangles_vs_Bars.json')"
   ]
  },
  {
   "cell_type": "code",
   "execution_count": null,
   "id": "c12da808-34ce-4d43-bae5-90f69a09650a",
   "metadata": {},
   "outputs": [],
   "source": []
  },
  {
   "cell_type": "code",
   "execution_count": null,
   "id": "bfe01d7c-d053-4a55-8e09-1c7061d098df",
   "metadata": {},
   "outputs": [],
   "source": []
  }
 ],
 "metadata": {
  "kernelspec": {
   "display_name": "Python 3 (ipykernel)",
   "language": "python",
   "name": "python3"
  },
  "language_info": {
   "codemirror_mode": {
    "name": "ipython",
    "version": 3
   },
   "file_extension": ".py",
   "mimetype": "text/x-python",
   "name": "python",
   "nbconvert_exporter": "python",
   "pygments_lexer": "ipython3",
   "version": "3.11.7"
  }
 },
 "nbformat": 4,
 "nbformat_minor": 5
}
