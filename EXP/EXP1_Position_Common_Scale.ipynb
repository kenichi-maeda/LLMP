{
 "cells": [
  {
   "cell_type": "code",
   "execution_count": 1,
   "id": "b64289c4-a7a1-41f2-85f0-9ce1ecc74bee",
   "metadata": {},
   "outputs": [
    {
     "name": "stdout",
     "output_type": "stream",
     "text": [
      "[2024-04-15 22:42:16,953] [INFO] [real_accelerator.py:191:get_accelerator] Setting ds_accelerator to cuda (auto detect)\n"
     ]
    },
    {
     "name": "stderr",
     "output_type": "stream",
     "text": [
      "You are using a model of type llava to instantiate a model of type llava_llama. This is not supported for all configurations of models and can yield errors.\n"
     ]
    },
    {
     "data": {
      "application/vnd.jupyter.widget-view+json": {
       "model_id": "abcfa342ab6d424f89736895342ecd97",
       "version_major": 2,
       "version_minor": 0
      },
      "text/plain": [
       "Loading checkpoint shards:   0%|          | 0/2 [00:00<?, ?it/s]"
      ]
     },
     "metadata": {},
     "output_type": "display_data"
    },
    {
     "name": "stderr",
     "output_type": "stream",
     "text": [
      "/home/kenichi.maeda001/anaconda3/envs/LLMP/lib/python3.11/site-packages/transformers/generation/configuration_utils.py:389: UserWarning: `do_sample` is set to `False`. However, `temperature` is set to `0` -- this flag is only used in sample-based generation modes. You should set `do_sample=True` or unset `temperature`.\n",
      "  warnings.warn(\n",
      "/home/kenichi.maeda001/anaconda3/envs/LLMP/lib/python3.11/site-packages/transformers/generation/configuration_utils.py:394: UserWarning: `do_sample` is set to `False`. However, `top_p` is set to `None` -- this flag is only used in sample-based generation modes. You should set `do_sample=True` or unset `top_p`.\n",
      "  warnings.warn(\n",
      "You are using a model of type llava to instantiate a model of type llava_llama. This is not supported for all configurations of models and can yield errors.\n"
     ]
    },
    {
     "data": {
      "application/vnd.jupyter.widget-view+json": {
       "model_id": "4607d41c754a473a8d4ced9f3ce570b1",
       "version_major": 2,
       "version_minor": 0
      },
      "text/plain": [
       "Loading checkpoint shards:   0%|          | 0/2 [00:00<?, ?it/s]"
      ]
     },
     "metadata": {},
     "output_type": "display_data"
    },
    {
     "name": "stderr",
     "output_type": "stream",
     "text": [
      "You are using a model of type llava to instantiate a model of type llava_llama. This is not supported for all configurations of models and can yield errors.\n"
     ]
    },
    {
     "data": {
      "application/vnd.jupyter.widget-view+json": {
       "model_id": "0baf1ae537344c91a2b7245faf0d9de0",
       "version_major": 2,
       "version_minor": 0
      },
      "text/plain": [
       "Loading checkpoint shards:   0%|          | 0/2 [00:00<?, ?it/s]"
      ]
     },
     "metadata": {},
     "output_type": "display_data"
    },
    {
     "name": "stderr",
     "output_type": "stream",
     "text": [
      "You are using a model of type llava to instantiate a model of type llava_llama. This is not supported for all configurations of models and can yield errors.\n"
     ]
    },
    {
     "data": {
      "application/vnd.jupyter.widget-view+json": {
       "model_id": "348d9f32877740888bd06a0c5987ddf1",
       "version_major": 2,
       "version_minor": 0
      },
      "text/plain": [
       "Loading checkpoint shards:   0%|          | 0/2 [00:00<?, ?it/s]"
      ]
     },
     "metadata": {},
     "output_type": "display_data"
    },
    {
     "name": "stderr",
     "output_type": "stream",
     "text": [
      "You are using a model of type llava to instantiate a model of type llava_llama. This is not supported for all configurations of models and can yield errors.\n"
     ]
    },
    {
     "data": {
      "application/vnd.jupyter.widget-view+json": {
       "model_id": "6b82bfcf67954f5e8c69cdb9ffc4dbf3",
       "version_major": 2,
       "version_minor": 0
      },
      "text/plain": [
       "Loading checkpoint shards:   0%|          | 0/2 [00:00<?, ?it/s]"
      ]
     },
     "metadata": {},
     "output_type": "display_data"
    },
    {
     "name": "stderr",
     "output_type": "stream",
     "text": [
      "You are using a model of type llava to instantiate a model of type llava_llama. This is not supported for all configurations of models and can yield errors.\n"
     ]
    },
    {
     "data": {
      "application/vnd.jupyter.widget-view+json": {
       "model_id": "067c01b37af2411e951577ad029d7f33",
       "version_major": 2,
       "version_minor": 0
      },
      "text/plain": [
       "Loading checkpoint shards:   0%|          | 0/2 [00:00<?, ?it/s]"
      ]
     },
     "metadata": {},
     "output_type": "display_data"
    },
    {
     "name": "stderr",
     "output_type": "stream",
     "text": [
      "You are using a model of type llava to instantiate a model of type llava_llama. This is not supported for all configurations of models and can yield errors.\n"
     ]
    },
    {
     "data": {
      "application/vnd.jupyter.widget-view+json": {
       "model_id": "65f6eb1693004b83979119f86cd36c41",
       "version_major": 2,
       "version_minor": 0
      },
      "text/plain": [
       "Loading checkpoint shards:   0%|          | 0/2 [00:00<?, ?it/s]"
      ]
     },
     "metadata": {},
     "output_type": "display_data"
    },
    {
     "name": "stderr",
     "output_type": "stream",
     "text": [
      "You are using a model of type llava to instantiate a model of type llava_llama. This is not supported for all configurations of models and can yield errors.\n"
     ]
    },
    {
     "data": {
      "application/vnd.jupyter.widget-view+json": {
       "model_id": "36b1649ce5af4c289b5adf732cee6eab",
       "version_major": 2,
       "version_minor": 0
      },
      "text/plain": [
       "Loading checkpoint shards:   0%|          | 0/2 [00:00<?, ?it/s]"
      ]
     },
     "metadata": {},
     "output_type": "display_data"
    },
    {
     "name": "stderr",
     "output_type": "stream",
     "text": [
      "You are using a model of type llava to instantiate a model of type llava_llama. This is not supported for all configurations of models and can yield errors.\n"
     ]
    },
    {
     "data": {
      "application/vnd.jupyter.widget-view+json": {
       "model_id": "ba0760967a444f6c8dc485cb24c7e8df",
       "version_major": 2,
       "version_minor": 0
      },
      "text/plain": [
       "Loading checkpoint shards:   0%|          | 0/2 [00:00<?, ?it/s]"
      ]
     },
     "metadata": {},
     "output_type": "display_data"
    },
    {
     "name": "stderr",
     "output_type": "stream",
     "text": [
      "You are using a model of type llava to instantiate a model of type llava_llama. This is not supported for all configurations of models and can yield errors.\n"
     ]
    },
    {
     "data": {
      "application/vnd.jupyter.widget-view+json": {
       "model_id": "49cab3c27bd543d6b46eb076560a4a1e",
       "version_major": 2,
       "version_minor": 0
      },
      "text/plain": [
       "Loading checkpoint shards:   0%|          | 0/2 [00:00<?, ?it/s]"
      ]
     },
     "metadata": {},
     "output_type": "display_data"
    },
    {
     "name": "stdout",
     "output_type": "stream",
     "text": [
      "{'gt': [28, 39, 58, 13, 5, 17, 41, 48, 39, 19], 'ChatGPT': {'parameters': None, 'raw_answers': ['The difference between the y-coordinates of the dot and the top of the line appears to be approximately 60-70 pixels.', \"I'm sorry, but as an AI developed by OpenAI, I don't have the capability to view images or visuals. Therefore, I can't provide any information about the content of an image or its elements. My programming is focused on text-based interaction and providing information or answering questions to the best of my knowledge and abilities as of my last training data in April 2023. If you have any other types of questions, feel free to ask!\", 'I see a black vertical line and a small square dot in the image provided. Estimating the difference between the y-coordinates of the dot and the top of the line, it appears to be roughly in the range of 60-70 pixels. Please note that this is an estimation and might not be precise.', \"To estimate the difference between the y-coordinates of the dot and the top of the line, I'll compare the space above the line to the known height of the image, which is 100 pixels.\\n\\nGiven the scale of the image, the space from the top of the line to the top edge of the image appears to be about less than one tenth of the overall height. An approximate numerical estimation of this difference is 5-10 pixels.\", 'The dot appears to be located several pixels below the top of the vertical line. Estimating the difference in y-coordinates between the dot and the top of the line, my best approximation would be within the range of 10-20 pixels.', 'The square dot appears to be approximately 20-30 pixels below the top of the vertical line.', 'In the 100x100 pixel image you provided, there is indeed a vertical black line on the left side and a small square dot toward the right. Given the scale and considering that you require an estimate rather than precise measurements, the difference in y-coordinates between the dot and the top of the line appears to be approximately 60-70 pixels.', 'I cannot provide measurements for the elements in an image. However, I can provide guidance on how you might estimate it yourself. To make an estimation, you could use a software tool that allows you to determine pixel positions or manually count the pixels using the image zoom feature and a visual reference. If you are estimating visually, consider that a 100x100 pixel image will have each 10x10 pixel square representing 10% of the total height or width, which could assist you in ball-parking the measurement.', 'In the image, there appears to be a black vertical line and a small black square dot. Given the constraints of the image size and the positions of the dot and the top of the line, the difference between the y-coordinates of the dot and the top of the line looks to be approximately 20-30 pixels.', 'The difference between the y-coordinates of the dot and the top of the line appears to be approximately 20-30 pixels.'], 'parsed_answers': [[60, 70], [2023], [60, 70], [100, 5, 10], [10, 20], [20, 30], [60, 70], [10], [20, 30], [20, 30]], 'mse': 394202.6, 'mlae': 14.406744785470783, 'times': [16969.333171844482, 2939.8295879364014, 18014.198064804077, 44330.827951431274, 114164.17407989502, 73797.13749885559, 44859.80987548828, 74796.06747627258, 19020.59268951416, 15099.70736503601], 'forced_repetitions': 26}, 'LLaVA': {'parameters': None, 'raw_answers': ['The difference between the y-coordinate of the dot and the top of the line is approximately 100 pixels.', 'The difference between the y-coordinate of the dot and the top of the line is approximately 100 pixels.', 'The difference between the y-coordinate of the dot and the top of the line is approximately 100 pixels.', 'The difference between the y-coordinate of the dot and the top of the line is approximately 100 pixels.', 'The difference between the y-coordinate of the dot and the top of the line is approximately 100 pixels.', 'The difference between the y-coordinate of the dot and the top of the line is approximately 100 pixels.', 'The difference between the y-coordinate of the dot and the top of the line is approximately 100 pixels.', 'The difference between the y-coordinate of the dot and the top of the line is approximately 100 pixels.', 'The difference between the y-coordinate of the dot and the top of the line is approximately 100 pixels.', 'The difference between the y-coordinate of the dot and the top of the line is approximately 100 pixels.'], 'parsed_answers': [[100], [100], [100], [100], [100], [100], [100], [100], [100], [100]], 'mse': 5061.9, 'mlae': 12.75866565942771, 'times': [23071.458339691162, 7980.447769165039, 7276.872396469116, 7236.053943634033, 7174.034833908081, 7334.938287734985, 7305.485248565674, 7454.38027381897, 7301.986217498779, 7298.207998275757], 'forced_repetitions': 0}, 'CustomLLaVA': {'parameters': None, 'raw_answers': ['45', '33', '39', '39', '36', '39', '37', '49', '39', '49'], 'parsed_answers': [[45], [33], [39], [39], [36], [39], [37], [49], [39], [49]], 'mse': 372.4, 'mlae': 10.6074459096826, 'times': [20073.091983795166, 19451.67875289917, 20560.237169265747, 19583.219289779663, 21803.09009552002, 19657.05370903015, 22101.550817489624, 19521.142959594727, 19062.418937683105, 19448.216199874878], 'forced_repetitions': 0}}\n"
     ]
    }
   ],
   "source": [
    "import sys\n",
    "sys.path.append('../')\n",
    "import LLMP as L\n",
    "import torch\n",
    "torch.torch.cuda.empty_cache()\n",
    "\n",
    "query = \"What do you see? You should see a black vertical line and a small square dot in the 100x100 pixel image. \\\n",
    "         Suppose the x-coordinate is the horizontal position and the y-coordinate is the vertical position where \\\n",
    "         the origin is at the bottom-left corner. Estimate the difference between the y-coordinates of the dot and the \\\n",
    "         top of the line in pixels. It does not have to be perfectly precise; just give me your numerical estimation \\\n",
    "         (Sample answer form: 40-50)\"\n",
    "images = [L.GPImage.figure1('position_common_scale') for i in range(10)]\n",
    "models = [\"ChatGPT\", \"LLaVA\", \"CustomLLaVA\"]\n",
    "\n",
    "results = L.Evaluator.run(images, query, models)\n",
    "print(results)"
   ]
  },
  {
   "cell_type": "code",
   "execution_count": 2,
   "id": "d096735f-c1a3-4aae-8537-98811dbd9a24",
   "metadata": {},
   "outputs": [],
   "source": [
    "chatGPT_mse = results[\"ChatGPT\"][\"mse\"]\n",
    "chatGPT_mlae = results[\"ChatGPT\"][\"mlae\"]\n",
    "llava_mse = results[\"LLaVA\"][\"mse\"]\n",
    "llava_mlae = results[\"LLaVA\"][\"mlae\"]\n",
    "custom_llava_mse = results[\"CustomLLaVA\"][\"mse\"]\n",
    "custom_llava_mlae = results[\"CustomLLaVA\"][\"mlae\"]"
   ]
  },
  {
   "cell_type": "code",
   "execution_count": 3,
   "id": "a11cda03-1c0f-4dd4-b4c2-3f9d92828b94",
   "metadata": {},
   "outputs": [
    {
     "name": "stdout",
     "output_type": "stream",
     "text": [
      "ChatGPT mse:  394202.6\n",
      "ChatGPT mlae: 14.406744785470783\n",
      "LLaVA mse:    5061.9\n",
      "LLaVA mlae:   12.75866565942771\n",
      "CLLaVA mse:   372.4\n",
      "CLLaVA mlae:  10.6074459096826\n"
     ]
    }
   ],
   "source": [
    "print(\"ChatGPT mse: \", chatGPT_mse)\n",
    "print(\"ChatGPT mlae:\", chatGPT_mlae)\n",
    "print(\"LLaVA mse:   \", llava_mse)\n",
    "print(\"LLaVA mlae:  \", llava_mlae)\n",
    "print(\"CLLaVA mse:  \", custom_llava_mse)\n",
    "print(\"CLLaVA mlae: \", custom_llava_mlae)"
   ]
  },
  {
   "cell_type": "code",
   "execution_count": null,
   "id": "9b5a522d-200a-40e2-9053-e3dfe62d2464",
   "metadata": {},
   "outputs": [],
   "source": []
  },
  {
   "cell_type": "code",
   "execution_count": null,
   "id": "2cbdbd7b-dbc6-4e3a-b016-e3032a0859b2",
   "metadata": {},
   "outputs": [],
   "source": []
  },
  {
   "cell_type": "code",
   "execution_count": 1,
   "id": "c5c9fa76-f1ad-4f13-9214-28b49b1b832e",
   "metadata": {},
   "outputs": [
    {
     "name": "stdout",
     "output_type": "stream",
     "text": [
      "[2024-04-21 09:18:53,517] [INFO] [real_accelerator.py:191:get_accelerator] Setting ds_accelerator to cuda (auto detect)\n"
     ]
    },
    {
     "name": "stderr",
     "output_type": "stream",
     "text": [
      "You are using a model of type llava to instantiate a model of type llava_llama. This is not supported for all configurations of models and can yield errors.\n"
     ]
    },
    {
     "data": {
      "application/vnd.jupyter.widget-view+json": {
       "model_id": "0371700834264102aff78d7a2d23947c",
       "version_major": 2,
       "version_minor": 0
      },
      "text/plain": [
       "Loading checkpoint shards:   0%|          | 0/2 [00:00<?, ?it/s]"
      ]
     },
     "metadata": {},
     "output_type": "display_data"
    },
    {
     "name": "stderr",
     "output_type": "stream",
     "text": [
      "/home/kenichi.maeda001/anaconda3/envs/LLMP/lib/python3.11/site-packages/transformers/generation/configuration_utils.py:389: UserWarning: `do_sample` is set to `False`. However, `temperature` is set to `0` -- this flag is only used in sample-based generation modes. You should set `do_sample=True` or unset `temperature`.\n",
      "  warnings.warn(\n",
      "/home/kenichi.maeda001/anaconda3/envs/LLMP/lib/python3.11/site-packages/transformers/generation/configuration_utils.py:394: UserWarning: `do_sample` is set to `False`. However, `top_p` is set to `None` -- this flag is only used in sample-based generation modes. You should set `do_sample=True` or unset `top_p`.\n",
      "  warnings.warn(\n",
      "You are using a model of type llava to instantiate a model of type llava_llama. This is not supported for all configurations of models and can yield errors.\n"
     ]
    },
    {
     "data": {
      "application/vnd.jupyter.widget-view+json": {
       "model_id": "8f46732234b240cebc433b35ec140970",
       "version_major": 2,
       "version_minor": 0
      },
      "text/plain": [
       "Loading checkpoint shards:   0%|          | 0/2 [00:00<?, ?it/s]"
      ]
     },
     "metadata": {},
     "output_type": "display_data"
    },
    {
     "name": "stderr",
     "output_type": "stream",
     "text": [
      "You are using a model of type llava to instantiate a model of type llava_llama. This is not supported for all configurations of models and can yield errors.\n"
     ]
    },
    {
     "data": {
      "application/vnd.jupyter.widget-view+json": {
       "model_id": "ba626e45cbb04b31869c33502be19490",
       "version_major": 2,
       "version_minor": 0
      },
      "text/plain": [
       "Loading checkpoint shards:   0%|          | 0/2 [00:00<?, ?it/s]"
      ]
     },
     "metadata": {},
     "output_type": "display_data"
    },
    {
     "name": "stderr",
     "output_type": "stream",
     "text": [
      "You are using a model of type llava to instantiate a model of type llava_llama. This is not supported for all configurations of models and can yield errors.\n"
     ]
    },
    {
     "data": {
      "application/vnd.jupyter.widget-view+json": {
       "model_id": "ffc1e3b6d1a0478481bd14d3edf8f682",
       "version_major": 2,
       "version_minor": 0
      },
      "text/plain": [
       "Loading checkpoint shards:   0%|          | 0/2 [00:00<?, ?it/s]"
      ]
     },
     "metadata": {},
     "output_type": "display_data"
    },
    {
     "name": "stderr",
     "output_type": "stream",
     "text": [
      "You are using a model of type llava to instantiate a model of type llava_llama. This is not supported for all configurations of models and can yield errors.\n"
     ]
    },
    {
     "data": {
      "application/vnd.jupyter.widget-view+json": {
       "model_id": "2b2bd8c291a74118ad79fce7f7e8e91c",
       "version_major": 2,
       "version_minor": 0
      },
      "text/plain": [
       "Loading checkpoint shards:   0%|          | 0/2 [00:00<?, ?it/s]"
      ]
     },
     "metadata": {},
     "output_type": "display_data"
    },
    {
     "name": "stderr",
     "output_type": "stream",
     "text": [
      "You are using a model of type llava to instantiate a model of type llava_llama. This is not supported for all configurations of models and can yield errors.\n"
     ]
    },
    {
     "data": {
      "application/vnd.jupyter.widget-view+json": {
       "model_id": "c5abe43392d34f78add676d602062386",
       "version_major": 2,
       "version_minor": 0
      },
      "text/plain": [
       "Loading checkpoint shards:   0%|          | 0/2 [00:00<?, ?it/s]"
      ]
     },
     "metadata": {},
     "output_type": "display_data"
    },
    {
     "name": "stderr",
     "output_type": "stream",
     "text": [
      "You are using a model of type llava to instantiate a model of type llava_llama. This is not supported for all configurations of models and can yield errors.\n"
     ]
    },
    {
     "data": {
      "application/vnd.jupyter.widget-view+json": {
       "model_id": "898d81c2614249aaa35966a30478cc1c",
       "version_major": 2,
       "version_minor": 0
      },
      "text/plain": [
       "Loading checkpoint shards:   0%|          | 0/2 [00:00<?, ?it/s]"
      ]
     },
     "metadata": {},
     "output_type": "display_data"
    },
    {
     "name": "stderr",
     "output_type": "stream",
     "text": [
      "You are using a model of type llava to instantiate a model of type llava_llama. This is not supported for all configurations of models and can yield errors.\n"
     ]
    },
    {
     "data": {
      "application/vnd.jupyter.widget-view+json": {
       "model_id": "0065d7653a244231815a3b25cc9478db",
       "version_major": 2,
       "version_minor": 0
      },
      "text/plain": [
       "Loading checkpoint shards:   0%|          | 0/2 [00:00<?, ?it/s]"
      ]
     },
     "metadata": {},
     "output_type": "display_data"
    },
    {
     "name": "stderr",
     "output_type": "stream",
     "text": [
      "You are using a model of type llava to instantiate a model of type llava_llama. This is not supported for all configurations of models and can yield errors.\n"
     ]
    },
    {
     "data": {
      "application/vnd.jupyter.widget-view+json": {
       "model_id": "b297e85bbe5346418749f5dae7616651",
       "version_major": 2,
       "version_minor": 0
      },
      "text/plain": [
       "Loading checkpoint shards:   0%|          | 0/2 [00:00<?, ?it/s]"
      ]
     },
     "metadata": {},
     "output_type": "display_data"
    },
    {
     "name": "stderr",
     "output_type": "stream",
     "text": [
      "You are using a model of type llava to instantiate a model of type llava_llama. This is not supported for all configurations of models and can yield errors.\n"
     ]
    },
    {
     "data": {
      "application/vnd.jupyter.widget-view+json": {
       "model_id": "85c945b359214aa481896ca87ab56c68",
       "version_major": 2,
       "version_minor": 0
      },
      "text/plain": [
       "Loading checkpoint shards:   0%|          | 0/2 [00:00<?, ?it/s]"
      ]
     },
     "metadata": {},
     "output_type": "display_data"
    },
    {
     "name": "stderr",
     "output_type": "stream",
     "text": [
      "You are using a model of type llava to instantiate a model of type llava_llama. This is not supported for all configurations of models and can yield errors.\n"
     ]
    },
    {
     "data": {
      "application/vnd.jupyter.widget-view+json": {
       "model_id": "448536ccb9d14365bce449d892f789a6",
       "version_major": 2,
       "version_minor": 0
      },
      "text/plain": [
       "Loading checkpoint shards:   0%|          | 0/2 [00:00<?, ?it/s]"
      ]
     },
     "metadata": {},
     "output_type": "display_data"
    },
    {
     "name": "stderr",
     "output_type": "stream",
     "text": [
      "You are using a model of type llava to instantiate a model of type llava_llama. This is not supported for all configurations of models and can yield errors.\n"
     ]
    },
    {
     "data": {
      "application/vnd.jupyter.widget-view+json": {
       "model_id": "dd1e00ce0aa74211b7ee29d0fa0ed71b",
       "version_major": 2,
       "version_minor": 0
      },
      "text/plain": [
       "Loading checkpoint shards:   0%|          | 0/2 [00:00<?, ?it/s]"
      ]
     },
     "metadata": {},
     "output_type": "display_data"
    },
    {
     "name": "stderr",
     "output_type": "stream",
     "text": [
      "You are using a model of type llava to instantiate a model of type llava_llama. This is not supported for all configurations of models and can yield errors.\n"
     ]
    },
    {
     "data": {
      "application/vnd.jupyter.widget-view+json": {
       "model_id": "130748d3bc3f4900bf86799bf1836739",
       "version_major": 2,
       "version_minor": 0
      },
      "text/plain": [
       "Loading checkpoint shards:   0%|          | 0/2 [00:00<?, ?it/s]"
      ]
     },
     "metadata": {},
     "output_type": "display_data"
    },
    {
     "name": "stderr",
     "output_type": "stream",
     "text": [
      "You are using a model of type llava to instantiate a model of type llava_llama. This is not supported for all configurations of models and can yield errors.\n"
     ]
    },
    {
     "data": {
      "application/vnd.jupyter.widget-view+json": {
       "model_id": "d519d347b0a34e1e981339c2f0302389",
       "version_major": 2,
       "version_minor": 0
      },
      "text/plain": [
       "Loading checkpoint shards:   0%|          | 0/2 [00:00<?, ?it/s]"
      ]
     },
     "metadata": {},
     "output_type": "display_data"
    },
    {
     "name": "stderr",
     "output_type": "stream",
     "text": [
      "You are using a model of type llava to instantiate a model of type llava_llama. This is not supported for all configurations of models and can yield errors.\n"
     ]
    },
    {
     "data": {
      "application/vnd.jupyter.widget-view+json": {
       "model_id": "6fc84d04725a42dc933644c767507061",
       "version_major": 2,
       "version_minor": 0
      },
      "text/plain": [
       "Loading checkpoint shards:   0%|          | 0/2 [00:00<?, ?it/s]"
      ]
     },
     "metadata": {},
     "output_type": "display_data"
    },
    {
     "name": "stderr",
     "output_type": "stream",
     "text": [
      "You are using a model of type llava to instantiate a model of type llava_llama. This is not supported for all configurations of models and can yield errors.\n"
     ]
    },
    {
     "data": {
      "application/vnd.jupyter.widget-view+json": {
       "model_id": "f82b95212d61493ab7b4868dcdddb907",
       "version_major": 2,
       "version_minor": 0
      },
      "text/plain": [
       "Loading checkpoint shards:   0%|          | 0/2 [00:00<?, ?it/s]"
      ]
     },
     "metadata": {},
     "output_type": "display_data"
    },
    {
     "name": "stderr",
     "output_type": "stream",
     "text": [
      "You are using a model of type llava to instantiate a model of type llava_llama. This is not supported for all configurations of models and can yield errors.\n"
     ]
    },
    {
     "data": {
      "application/vnd.jupyter.widget-view+json": {
       "model_id": "d4dffe8edc824c33868f1c8f281caa7c",
       "version_major": 2,
       "version_minor": 0
      },
      "text/plain": [
       "Loading checkpoint shards:   0%|          | 0/2 [00:00<?, ?it/s]"
      ]
     },
     "metadata": {},
     "output_type": "display_data"
    },
    {
     "name": "stderr",
     "output_type": "stream",
     "text": [
      "You are using a model of type llava to instantiate a model of type llava_llama. This is not supported for all configurations of models and can yield errors.\n"
     ]
    },
    {
     "data": {
      "application/vnd.jupyter.widget-view+json": {
       "model_id": "3bf4fcd20b394f5fbab85e5a05e929c8",
       "version_major": 2,
       "version_minor": 0
      },
      "text/plain": [
       "Loading checkpoint shards:   0%|          | 0/2 [00:00<?, ?it/s]"
      ]
     },
     "metadata": {},
     "output_type": "display_data"
    },
    {
     "name": "stderr",
     "output_type": "stream",
     "text": [
      "You are using a model of type llava to instantiate a model of type llava_llama. This is not supported for all configurations of models and can yield errors.\n"
     ]
    },
    {
     "data": {
      "application/vnd.jupyter.widget-view+json": {
       "model_id": "8a9e7cb777d442af9bb925b0dee8bd17",
       "version_major": 2,
       "version_minor": 0
      },
      "text/plain": [
       "Loading checkpoint shards:   0%|          | 0/2 [00:00<?, ?it/s]"
      ]
     },
     "metadata": {},
     "output_type": "display_data"
    },
    {
     "name": "stderr",
     "output_type": "stream",
     "text": [
      "You are using a model of type llava to instantiate a model of type llava_llama. This is not supported for all configurations of models and can yield errors.\n"
     ]
    },
    {
     "data": {
      "application/vnd.jupyter.widget-view+json": {
       "model_id": "49456d44399f416991f57afa39ba2373",
       "version_major": 2,
       "version_minor": 0
      },
      "text/plain": [
       "Loading checkpoint shards:   0%|          | 0/2 [00:00<?, ?it/s]"
      ]
     },
     "metadata": {},
     "output_type": "display_data"
    },
    {
     "name": "stderr",
     "output_type": "stream",
     "text": [
      "You are using a model of type llava to instantiate a model of type llava_llama. This is not supported for all configurations of models and can yield errors.\n"
     ]
    },
    {
     "data": {
      "application/vnd.jupyter.widget-view+json": {
       "model_id": "6960e8ffb40249cf8b2242248cd92fbc",
       "version_major": 2,
       "version_minor": 0
      },
      "text/plain": [
       "Loading checkpoint shards:   0%|          | 0/2 [00:00<?, ?it/s]"
      ]
     },
     "metadata": {},
     "output_type": "display_data"
    },
    {
     "name": "stderr",
     "output_type": "stream",
     "text": [
      "You are using a model of type llava to instantiate a model of type llava_llama. This is not supported for all configurations of models and can yield errors.\n"
     ]
    },
    {
     "data": {
      "application/vnd.jupyter.widget-view+json": {
       "model_id": "c6abda8be560404a856da7e94206c27a",
       "version_major": 2,
       "version_minor": 0
      },
      "text/plain": [
       "Loading checkpoint shards:   0%|          | 0/2 [00:00<?, ?it/s]"
      ]
     },
     "metadata": {},
     "output_type": "display_data"
    },
    {
     "name": "stderr",
     "output_type": "stream",
     "text": [
      "You are using a model of type llava to instantiate a model of type llava_llama. This is not supported for all configurations of models and can yield errors.\n"
     ]
    },
    {
     "data": {
      "application/vnd.jupyter.widget-view+json": {
       "model_id": "39350803945448b2b1bc353994b71b37",
       "version_major": 2,
       "version_minor": 0
      },
      "text/plain": [
       "Loading checkpoint shards:   0%|          | 0/2 [00:00<?, ?it/s]"
      ]
     },
     "metadata": {},
     "output_type": "display_data"
    },
    {
     "name": "stderr",
     "output_type": "stream",
     "text": [
      "You are using a model of type llava to instantiate a model of type llava_llama. This is not supported for all configurations of models and can yield errors.\n"
     ]
    },
    {
     "data": {
      "application/vnd.jupyter.widget-view+json": {
       "model_id": "d474ed40fdaf41a0a4620698348c53e1",
       "version_major": 2,
       "version_minor": 0
      },
      "text/plain": [
       "Loading checkpoint shards:   0%|          | 0/2 [00:00<?, ?it/s]"
      ]
     },
     "metadata": {},
     "output_type": "display_data"
    },
    {
     "name": "stderr",
     "output_type": "stream",
     "text": [
      "You are using a model of type llava to instantiate a model of type llava_llama. This is not supported for all configurations of models and can yield errors.\n"
     ]
    },
    {
     "data": {
      "application/vnd.jupyter.widget-view+json": {
       "model_id": "2337741d098e458f9bd76c901e9b2c71",
       "version_major": 2,
       "version_minor": 0
      },
      "text/plain": [
       "Loading checkpoint shards:   0%|          | 0/2 [00:00<?, ?it/s]"
      ]
     },
     "metadata": {},
     "output_type": "display_data"
    },
    {
     "name": "stderr",
     "output_type": "stream",
     "text": [
      "You are using a model of type llava to instantiate a model of type llava_llama. This is not supported for all configurations of models and can yield errors.\n"
     ]
    },
    {
     "data": {
      "application/vnd.jupyter.widget-view+json": {
       "model_id": "7f9bd20b68fb4b598609d10b65be3e90",
       "version_major": 2,
       "version_minor": 0
      },
      "text/plain": [
       "Loading checkpoint shards:   0%|          | 0/2 [00:00<?, ?it/s]"
      ]
     },
     "metadata": {},
     "output_type": "display_data"
    },
    {
     "name": "stderr",
     "output_type": "stream",
     "text": [
      "You are using a model of type llava to instantiate a model of type llava_llama. This is not supported for all configurations of models and can yield errors.\n"
     ]
    },
    {
     "data": {
      "application/vnd.jupyter.widget-view+json": {
       "model_id": "b9b24eb6308143509e003e13bfb8b707",
       "version_major": 2,
       "version_minor": 0
      },
      "text/plain": [
       "Loading checkpoint shards:   0%|          | 0/2 [00:00<?, ?it/s]"
      ]
     },
     "metadata": {},
     "output_type": "display_data"
    },
    {
     "name": "stderr",
     "output_type": "stream",
     "text": [
      "You are using a model of type llava to instantiate a model of type llava_llama. This is not supported for all configurations of models and can yield errors.\n"
     ]
    },
    {
     "data": {
      "application/vnd.jupyter.widget-view+json": {
       "model_id": "b925943ab4e74db4a6efabbd63d21159",
       "version_major": 2,
       "version_minor": 0
      },
      "text/plain": [
       "Loading checkpoint shards:   0%|          | 0/2 [00:00<?, ?it/s]"
      ]
     },
     "metadata": {},
     "output_type": "display_data"
    },
    {
     "name": "stderr",
     "output_type": "stream",
     "text": [
      "You are using a model of type llava to instantiate a model of type llava_llama. This is not supported for all configurations of models and can yield errors.\n"
     ]
    },
    {
     "data": {
      "application/vnd.jupyter.widget-view+json": {
       "model_id": "eaf3f699a00645ee931f5844542d4f7b",
       "version_major": 2,
       "version_minor": 0
      },
      "text/plain": [
       "Loading checkpoint shards:   0%|          | 0/2 [00:00<?, ?it/s]"
      ]
     },
     "metadata": {},
     "output_type": "display_data"
    },
    {
     "name": "stderr",
     "output_type": "stream",
     "text": [
      "You are using a model of type llava to instantiate a model of type llava_llama. This is not supported for all configurations of models and can yield errors.\n"
     ]
    },
    {
     "data": {
      "application/vnd.jupyter.widget-view+json": {
       "model_id": "1ccbb964dd7c432ea13aa8510369348a",
       "version_major": 2,
       "version_minor": 0
      },
      "text/plain": [
       "Loading checkpoint shards:   0%|          | 0/2 [00:00<?, ?it/s]"
      ]
     },
     "metadata": {},
     "output_type": "display_data"
    },
    {
     "name": "stderr",
     "output_type": "stream",
     "text": [
      "You are using a model of type llava to instantiate a model of type llava_llama. This is not supported for all configurations of models and can yield errors.\n"
     ]
    },
    {
     "data": {
      "application/vnd.jupyter.widget-view+json": {
       "model_id": "165fffd877554700830ef66f492f2ac5",
       "version_major": 2,
       "version_minor": 0
      },
      "text/plain": [
       "Loading checkpoint shards:   0%|          | 0/2 [00:00<?, ?it/s]"
      ]
     },
     "metadata": {},
     "output_type": "display_data"
    },
    {
     "name": "stderr",
     "output_type": "stream",
     "text": [
      "You are using a model of type llava to instantiate a model of type llava_llama. This is not supported for all configurations of models and can yield errors.\n"
     ]
    },
    {
     "data": {
      "application/vnd.jupyter.widget-view+json": {
       "model_id": "656cfb524d1a45d0a60cfcb1bd54fcd9",
       "version_major": 2,
       "version_minor": 0
      },
      "text/plain": [
       "Loading checkpoint shards:   0%|          | 0/2 [00:00<?, ?it/s]"
      ]
     },
     "metadata": {},
     "output_type": "display_data"
    },
    {
     "name": "stderr",
     "output_type": "stream",
     "text": [
      "You are using a model of type llava to instantiate a model of type llava_llama. This is not supported for all configurations of models and can yield errors.\n"
     ]
    },
    {
     "data": {
      "application/vnd.jupyter.widget-view+json": {
       "model_id": "3c7b7f7b2ec543f59c2fc8435791307e",
       "version_major": 2,
       "version_minor": 0
      },
      "text/plain": [
       "Loading checkpoint shards:   0%|          | 0/2 [00:00<?, ?it/s]"
      ]
     },
     "metadata": {},
     "output_type": "display_data"
    },
    {
     "name": "stderr",
     "output_type": "stream",
     "text": [
      "You are using a model of type llava to instantiate a model of type llava_llama. This is not supported for all configurations of models and can yield errors.\n"
     ]
    },
    {
     "data": {
      "application/vnd.jupyter.widget-view+json": {
       "model_id": "79651f65711e47a380ac9750231213a3",
       "version_major": 2,
       "version_minor": 0
      },
      "text/plain": [
       "Loading checkpoint shards:   0%|          | 0/2 [00:00<?, ?it/s]"
      ]
     },
     "metadata": {},
     "output_type": "display_data"
    },
    {
     "name": "stderr",
     "output_type": "stream",
     "text": [
      "You are using a model of type llava to instantiate a model of type llava_llama. This is not supported for all configurations of models and can yield errors.\n"
     ]
    },
    {
     "data": {
      "application/vnd.jupyter.widget-view+json": {
       "model_id": "e0e256d0447e4553a7c2275b2a8a67d3",
       "version_major": 2,
       "version_minor": 0
      },
      "text/plain": [
       "Loading checkpoint shards:   0%|          | 0/2 [00:00<?, ?it/s]"
      ]
     },
     "metadata": {},
     "output_type": "display_data"
    },
    {
     "name": "stderr",
     "output_type": "stream",
     "text": [
      "You are using a model of type llava to instantiate a model of type llava_llama. This is not supported for all configurations of models and can yield errors.\n"
     ]
    },
    {
     "data": {
      "application/vnd.jupyter.widget-view+json": {
       "model_id": "dcb44c08194f4d4ea63445a717a168eb",
       "version_major": 2,
       "version_minor": 0
      },
      "text/plain": [
       "Loading checkpoint shards:   0%|          | 0/2 [00:00<?, ?it/s]"
      ]
     },
     "metadata": {},
     "output_type": "display_data"
    },
    {
     "name": "stderr",
     "output_type": "stream",
     "text": [
      "You are using a model of type llava to instantiate a model of type llava_llama. This is not supported for all configurations of models and can yield errors.\n"
     ]
    },
    {
     "data": {
      "application/vnd.jupyter.widget-view+json": {
       "model_id": "ab08f6d639c245c597effb9d57cb65f6",
       "version_major": 2,
       "version_minor": 0
      },
      "text/plain": [
       "Loading checkpoint shards:   0%|          | 0/2 [00:00<?, ?it/s]"
      ]
     },
     "metadata": {},
     "output_type": "display_data"
    },
    {
     "name": "stderr",
     "output_type": "stream",
     "text": [
      "You are using a model of type llava to instantiate a model of type llava_llama. This is not supported for all configurations of models and can yield errors.\n"
     ]
    },
    {
     "data": {
      "application/vnd.jupyter.widget-view+json": {
       "model_id": "2478cb92b79a4b1c89f3d92483f83ebe",
       "version_major": 2,
       "version_minor": 0
      },
      "text/plain": [
       "Loading checkpoint shards:   0%|          | 0/2 [00:00<?, ?it/s]"
      ]
     },
     "metadata": {},
     "output_type": "display_data"
    },
    {
     "name": "stderr",
     "output_type": "stream",
     "text": [
      "You are using a model of type llava to instantiate a model of type llava_llama. This is not supported for all configurations of models and can yield errors.\n"
     ]
    },
    {
     "data": {
      "application/vnd.jupyter.widget-view+json": {
       "model_id": "8970a4b9442e442984fbb54d2b058115",
       "version_major": 2,
       "version_minor": 0
      },
      "text/plain": [
       "Loading checkpoint shards:   0%|          | 0/2 [00:00<?, ?it/s]"
      ]
     },
     "metadata": {},
     "output_type": "display_data"
    },
    {
     "name": "stderr",
     "output_type": "stream",
     "text": [
      "You are using a model of type llava to instantiate a model of type llava_llama. This is not supported for all configurations of models and can yield errors.\n"
     ]
    },
    {
     "data": {
      "application/vnd.jupyter.widget-view+json": {
       "model_id": "f21cd7ca68424779838792818e2f4374",
       "version_major": 2,
       "version_minor": 0
      },
      "text/plain": [
       "Loading checkpoint shards:   0%|          | 0/2 [00:00<?, ?it/s]"
      ]
     },
     "metadata": {},
     "output_type": "display_data"
    },
    {
     "name": "stderr",
     "output_type": "stream",
     "text": [
      "You are using a model of type llava to instantiate a model of type llava_llama. This is not supported for all configurations of models and can yield errors.\n"
     ]
    },
    {
     "data": {
      "application/vnd.jupyter.widget-view+json": {
       "model_id": "fcb20f8103e24466a1a55c5aa07d1add",
       "version_major": 2,
       "version_minor": 0
      },
      "text/plain": [
       "Loading checkpoint shards:   0%|          | 0/2 [00:00<?, ?it/s]"
      ]
     },
     "metadata": {},
     "output_type": "display_data"
    },
    {
     "name": "stderr",
     "output_type": "stream",
     "text": [
      "You are using a model of type llava to instantiate a model of type llava_llama. This is not supported for all configurations of models and can yield errors.\n"
     ]
    },
    {
     "data": {
      "application/vnd.jupyter.widget-view+json": {
       "model_id": "bff78b2a9e50499d8359842d64509197",
       "version_major": 2,
       "version_minor": 0
      },
      "text/plain": [
       "Loading checkpoint shards:   0%|          | 0/2 [00:00<?, ?it/s]"
      ]
     },
     "metadata": {},
     "output_type": "display_data"
    },
    {
     "name": "stderr",
     "output_type": "stream",
     "text": [
      "You are using a model of type llava to instantiate a model of type llava_llama. This is not supported for all configurations of models and can yield errors.\n"
     ]
    },
    {
     "data": {
      "application/vnd.jupyter.widget-view+json": {
       "model_id": "1793ac52ff2449a4be0116f1ac95ef69",
       "version_major": 2,
       "version_minor": 0
      },
      "text/plain": [
       "Loading checkpoint shards:   0%|          | 0/2 [00:00<?, ?it/s]"
      ]
     },
     "metadata": {},
     "output_type": "display_data"
    },
    {
     "name": "stderr",
     "output_type": "stream",
     "text": [
      "You are using a model of type llava to instantiate a model of type llava_llama. This is not supported for all configurations of models and can yield errors.\n"
     ]
    },
    {
     "data": {
      "application/vnd.jupyter.widget-view+json": {
       "model_id": "e6b8ed7cbf7c44c1a949a4e15bd3dfff",
       "version_major": 2,
       "version_minor": 0
      },
      "text/plain": [
       "Loading checkpoint shards:   0%|          | 0/2 [00:00<?, ?it/s]"
      ]
     },
     "metadata": {},
     "output_type": "display_data"
    },
    {
     "name": "stderr",
     "output_type": "stream",
     "text": [
      "You are using a model of type llava to instantiate a model of type llava_llama. This is not supported for all configurations of models and can yield errors.\n"
     ]
    },
    {
     "data": {
      "application/vnd.jupyter.widget-view+json": {
       "model_id": "cc791f762be74dbc8b91569ef946b4ee",
       "version_major": 2,
       "version_minor": 0
      },
      "text/plain": [
       "Loading checkpoint shards:   0%|          | 0/2 [00:00<?, ?it/s]"
      ]
     },
     "metadata": {},
     "output_type": "display_data"
    },
    {
     "name": "stderr",
     "output_type": "stream",
     "text": [
      "You are using a model of type llava to instantiate a model of type llava_llama. This is not supported for all configurations of models and can yield errors.\n"
     ]
    },
    {
     "data": {
      "application/vnd.jupyter.widget-view+json": {
       "model_id": "d32a4ea8c40f449b93887edb246fe1e9",
       "version_major": 2,
       "version_minor": 0
      },
      "text/plain": [
       "Loading checkpoint shards:   0%|          | 0/2 [00:00<?, ?it/s]"
      ]
     },
     "metadata": {},
     "output_type": "display_data"
    },
    {
     "name": "stderr",
     "output_type": "stream",
     "text": [
      "You are using a model of type llava to instantiate a model of type llava_llama. This is not supported for all configurations of models and can yield errors.\n"
     ]
    },
    {
     "data": {
      "application/vnd.jupyter.widget-view+json": {
       "model_id": "6d1474c0018c43da8b66f0eed20f68f4",
       "version_major": 2,
       "version_minor": 0
      },
      "text/plain": [
       "Loading checkpoint shards:   0%|          | 0/2 [00:00<?, ?it/s]"
      ]
     },
     "metadata": {},
     "output_type": "display_data"
    },
    {
     "name": "stderr",
     "output_type": "stream",
     "text": [
      "You are using a model of type llava to instantiate a model of type llava_llama. This is not supported for all configurations of models and can yield errors.\n"
     ]
    },
    {
     "data": {
      "application/vnd.jupyter.widget-view+json": {
       "model_id": "e60cad62a87f4c6fb6cf11799ac01310",
       "version_major": 2,
       "version_minor": 0
      },
      "text/plain": [
       "Loading checkpoint shards:   0%|          | 0/2 [00:00<?, ?it/s]"
      ]
     },
     "metadata": {},
     "output_type": "display_data"
    },
    {
     "name": "stderr",
     "output_type": "stream",
     "text": [
      "You are using a model of type llava to instantiate a model of type llava_llama. This is not supported for all configurations of models and can yield errors.\n"
     ]
    },
    {
     "data": {
      "application/vnd.jupyter.widget-view+json": {
       "model_id": "dc71ec4c6e644680914cb82513d3d9ba",
       "version_major": 2,
       "version_minor": 0
      },
      "text/plain": [
       "Loading checkpoint shards:   0%|          | 0/2 [00:00<?, ?it/s]"
      ]
     },
     "metadata": {},
     "output_type": "display_data"
    },
    {
     "name": "stderr",
     "output_type": "stream",
     "text": [
      "You are using a model of type llava to instantiate a model of type llava_llama. This is not supported for all configurations of models and can yield errors.\n"
     ]
    },
    {
     "data": {
      "application/vnd.jupyter.widget-view+json": {
       "model_id": "a594af49a1814152b12ce9cb0d010da1",
       "version_major": 2,
       "version_minor": 0
      },
      "text/plain": [
       "Loading checkpoint shards:   0%|          | 0/2 [00:00<?, ?it/s]"
      ]
     },
     "metadata": {},
     "output_type": "display_data"
    },
    {
     "name": "stderr",
     "output_type": "stream",
     "text": [
      "You are using a model of type llava to instantiate a model of type llava_llama. This is not supported for all configurations of models and can yield errors.\n"
     ]
    },
    {
     "data": {
      "application/vnd.jupyter.widget-view+json": {
       "model_id": "dbb69c64d40c469591f9f28bf1c0ec3a",
       "version_major": 2,
       "version_minor": 0
      },
      "text/plain": [
       "Loading checkpoint shards:   0%|          | 0/2 [00:00<?, ?it/s]"
      ]
     },
     "metadata": {},
     "output_type": "display_data"
    },
    {
     "name": "stderr",
     "output_type": "stream",
     "text": [
      "You are using a model of type llava to instantiate a model of type llava_llama. This is not supported for all configurations of models and can yield errors.\n"
     ]
    },
    {
     "data": {
      "application/vnd.jupyter.widget-view+json": {
       "model_id": "8e25f88dd5b34838b72989b9115c8579",
       "version_major": 2,
       "version_minor": 0
      },
      "text/plain": [
       "Loading checkpoint shards:   0%|          | 0/2 [00:00<?, ?it/s]"
      ]
     },
     "metadata": {},
     "output_type": "display_data"
    },
    {
     "name": "stderr",
     "output_type": "stream",
     "text": [
      "You are using a model of type llava to instantiate a model of type llava_llama. This is not supported for all configurations of models and can yield errors.\n"
     ]
    },
    {
     "data": {
      "application/vnd.jupyter.widget-view+json": {
       "model_id": "305b477928ba4fd3b838db3e651fea72",
       "version_major": 2,
       "version_minor": 0
      },
      "text/plain": [
       "Loading checkpoint shards:   0%|          | 0/2 [00:00<?, ?it/s]"
      ]
     },
     "metadata": {},
     "output_type": "display_data"
    },
    {
     "name": "stderr",
     "output_type": "stream",
     "text": [
      "You are using a model of type llava to instantiate a model of type llava_llama. This is not supported for all configurations of models and can yield errors.\n"
     ]
    },
    {
     "data": {
      "application/vnd.jupyter.widget-view+json": {
       "model_id": "e167087224cd436fad8287e875aa7760",
       "version_major": 2,
       "version_minor": 0
      },
      "text/plain": [
       "Loading checkpoint shards:   0%|          | 0/2 [00:00<?, ?it/s]"
      ]
     },
     "metadata": {},
     "output_type": "display_data"
    },
    {
     "name": "stderr",
     "output_type": "stream",
     "text": [
      "You are using a model of type llava to instantiate a model of type llava_llama. This is not supported for all configurations of models and can yield errors.\n"
     ]
    },
    {
     "data": {
      "application/vnd.jupyter.widget-view+json": {
       "model_id": "0da104c45a774083b6dbc85449488368",
       "version_major": 2,
       "version_minor": 0
      },
      "text/plain": [
       "Loading checkpoint shards:   0%|          | 0/2 [00:00<?, ?it/s]"
      ]
     },
     "metadata": {},
     "output_type": "display_data"
    },
    {
     "name": "stdout",
     "output_type": "stream",
     "text": [
      "{'gt': [6, 12, 58, 6, 12, 22, 3, 14, 26, 54, 37, 52, 0, 43, 27, 44, 33, 57, 44, 7, 13, 20, 13, 44, 17, 30, 59, 20, 57, 28, 11, 4, 18, 44, 31, 1, 29, 55, 39, 2, 54, 51, 42, 5, 46, 17, 27, 53, 22, 59, 34, 14, 13, 28, 56], 'ChatGPT': {'parameters': None, 'raw_answers': ['In the image, I see a black vertical line on the left and a small square dot on the right. Estimating the difference between the y-coordinates of the dot and the top of the line, it appears to be approximately 10-20 pixels.', 'Based on the image provided, the difference between the y-coordinates of the dot and the top of the line appears to be approximately 10-20 pixels.', 'The difference between the y-coordinates of the dot and the top of the line appears to be approximately 60-70 pixels.', \"To estimate the difference between the y-coordinates of the dot and the top of the line, I'll compare their relative positions in the image.\\n\\nGiven that the image is 100 pixels in height, and without grid lines or exact measuring tools, this will be a rough estimate. The dot appears to be located somewhat lower than the top of the line. The difference in y-coordinates between the top of the line and the center of the square dot is approximately 15-25 pixels.\", 'I see the black vertical line and the square dot as described. Estimating the difference between the y-coordinates of the dot and the top of the line, it appears to be approximately 10-20 pixels.', 'From the image provided, the dot appears to be positioned quite close to the top of the line vertically. Estimating the difference between the y-coordinates of the dot and the top of the line, it seems to be roughly in the range of 5-10 pixels.', 'The dot is positioned at a y-coordinate that is roughly 20-30 pixels lower than the top of the line.', 'I see the black vertical line and a small square dot in the image provided. Estimating the difference between the y-coordinates of the dot and the top of the line would be approximately 20-30 pixels.', 'The difference between the y-coordinates of the dot and the top of the line appears to be approximately 65-75 pixels.', 'In the image, the black vertical line is positioned at what looks to be about the middle of the image, and a small square dot is situated to the right. Given the scale of the image (100x100 pixels), and based on an estimation by eye, the difference between the y-coordinates of the dot and the top of the line looks to be approximately 10-20 pixels.', 'The dot appears to be nearly aligned with the top of the line. Estimating the difference in y-coordinates between the top of the line and the center of the dot, I would say it is about 1-5 pixels.', \"The image you've provided appears to have a black vertical line and a small square dot. Given the image's resolution is 100x100 pixels, the difference in y-coordinates between the dot and the top of the vertical line seems to be approximately 10-20 pixels.\", \"To estimate the difference between the y-coordinates of the dot and the top of the line, I'm examining the image provided.\\n\\nBased on the scale of the image, the distance from the top of the line to the dot appears to be around 20-30 pixels.\", 'I see a black vertical line on the left side of a 100x100 pixel image and a small square dot on the right side. Based on the image size and the relative positions, I estimate the difference between the y-coordinates of the dot and the top of the line to be approximately 60-70 pixels.', 'The image you provided appears to be a simple graphic with a black vertical line and a small black square dot on a white background. Using a rough visual estimate, the difference between the y-coordinates of the dot and the top of the line appears to be in the range of 20-30 pixels.', 'In the image, I see a black vertical line on the left side and a small black square dot positioned towards the right. Estimating the difference between the y-coordinate of the dot and the top of the line by visual inspection only, I would say the difference is approximately 10-20 pixels. Please note this is an estimation and the actual value might vary slightly.', 'Based on the image provided, the difference between the y-coordinates of the dot and the top of the line appears to be approximately 60-70 pixels.', 'In the image, there is a black vertical line on the left side and a small black square dot towards the right. Based on the image, the difference between the y-coordinates of the dot and the top of the line looks to be approximately 25-35 pixels.', 'In the image provided, the dot appears to be roughly 20-30 pixels below the top of the line when estimating the difference in y-coordinates from the visual representation. \\n\\nPlease note this is an estimation and the actual distance may vary slightly.', 'Given the scale and resolution of the image, visually estimating the distance, it looks like the difference between the y-coordinates of the dot and the top of the line is approximately in the range of 20-30 pixels.', \"In the 100x100 pixel image you've provided, the black vertical line appears to reach approximately the top edge of the canvas, making the y-coordinate of the top of the line close to 100 pixels. The square dot is located slightly lower. Estimating the difference between the y-coordinates of the dot and the top of the line, it appears to be approximately 10-20 pixels.\", 'The difference between the y-coordinates of the dot and the top of the line appears to be approximately 60-70 pixels.', 'Based on the provided image, the square dot appears to be located roughly in the upper third quadrant of the image. Given the constraints of a 100x100 pixel image, and estimating by eye, I would say that the difference between the y-coordinates of the dot and the top of the line is approximately 20-30 pixels.', \"In the image provided I can see a black vertical line on the left side and a small square dot towards the right. However, I'm unable to provide an exact measurement of the y-coordinates' difference between the dot and the top of the line, as my capabilities don't include precise image analysis or measurement. But from the visual estimation, considering the size of the image and the relative position of the dot to the top of the line, it appears that the dot might be approximately 15-25 pixels below the top of the line. Please note that this is a very rough estimate and for a precise measurement, image analysis software would be required.\", 'The difference between the y-coordinates of the dot and the top of the line appears to be approximately 10-20 pixels.', 'Based on the image provided, it appears that the dot is approximately in line with the top of the black vertical line. Given this, the difference between the y-coordinates of the dot and the top of the line is around 0-5 pixels.', \"The image you've provided is small and there is no scale reference, so I can only give you a rough estimate. The vertical line appears to occupy nearly the entire height of the canvas, and the dot is situated distinctly lower. Judging from the image, I would estimate the difference between the y-coordinates of the dot and the top of the line to be approximately 20-30 pixels.\", 'In the image, I see a black vertical line on the left side and a small black square dot positioned to the right. To estimate the difference between the y-coordinates of the dot and the top of the line, I will provide a numerical estimation based on visual assessment.\\n\\nThe dot appears to be lower than the top of the line. Estimating visually without precise measurement tools, the difference in the y-coordinates between the dot and the top of the line looks to be approximately 20-30 pixels.', \"In the image you've provided, there is a vertical black line situated to the left and a small black square dot placed toward the bottom right. Based on the scale you've given, where the image is 100x100 pixels and the origin is at the bottom-left corner, I can estimate the difference between the y-coordinates of the dot and the top of the line by visually assessing their relative positions.\\n\\nMy estimation is that the difference between the y-coordinates of the dot and the top of the line is approximately 60-70 pixels.\", 'I can see the image with a black vertical line and a small square dot. Based on the image and assuming a 100x100 pixel scale where the origin is at the bottom-left corner, the y-coordinate difference between the dot and the top of the line appears to be approximately 20 to 30 pixels.', 'In the provided image, there is a black vertical line on the left side and a small square dot located to the right of the line. The distance between the y-coordinate of the dot and the top of the line appears to be approximately 20-30 pixels.', 'In the image provided, there is a black vertical line on the left side and a small black square dot towards the right. To estimate the difference between the y-coordinates of the dot and the top of the line, I need to make a visual measurement against the scale of the 100x100 pixel image.\\n\\nBased on the visual information, I estimate the difference to be in the range of 20-30 pixels.', 'In the image, there is indeed a black vertical line and a small square dot. To estimate the difference between the y-coordinates of the dot and the top of the line in pixels, it looks like the dot is roughly 20-30 pixels below the top of the line.', 'In the image, the dot appears to be significantly lower than the top of the vertical line. Given the scale of the image, if the total height is 100 pixels, I would estimate the difference between the y-coordinates of the dot and the top of the line to be approximately 20-30 pixels.', \"I don't have the ability to measure the exact pixel distances in images. However, based on the provided image, I can make a visual estimation. It appears that the square dot is roughly 20-30 pixels below the top of the line.\", 'The dot appears to be quite close to the top of the line. I estimate the difference between the y-coordinates of the dot and the top of the line to be approximately 5-10 pixels.', 'In the image, there is a black vertical line on the left side and a small black square dot toward the right. Based on the image and the relative sizes, the difference between the y-coordinates of the dot and the top of the line appears to be approximately 65-75 pixels.', 'Since I cannot directly measure the pixels in the image, I will give a rough estimate based on the proportions visible to me. The black vertical line extends almost the entire height of the image, and the square dot seems to be placed lower but not at the bottom.\\n\\nEstimating from the image, it appears that the difference between the y-coordinates of the dot and the top of the line could be approximately 70-80 pixels.', \"I see a black vertical line on the left side and a small black square dot towards the right side of a 100x100 pixel image. Since I can't measure exactly, I will estimate visually: the difference between the y-coordinates of the dot and the top of the line appears to be approximately 60-70 pixels.\", 'The difference between the y-coordinates of the dot and the top of the line appears to be approximately 20-30 pixels.', 'In the image provided, it appears that the dot is located roughly in the lower third of the image, whereas the top of the line is close to the upper edge of the image. Without precise measurements and based on the scale given, I estimate the difference between the y-coordinates of the dot and the top of the line to be approximately 60-70 pixels.', \"I'm sorry for any misunderstanding, but as an AI, I don't have the capability to visually analyze images in the way you're asking. My design is meant to generate responses based on text input and does not include the functionality to process or analyze image content. If you have any text-related inquiries or need information that I can provide based on data up to my last update in April 2023, feel free to ask!\", 'In the image, I see a black vertical line on the left side and a black square dot to the right of it. To estimate the difference between the y-coordinates of the dot and the top of the line, we can look at the image and compare the relative positions.\\n\\nGiven the constraints of this 100x100 pixel image and based on visual estimation, the difference between the y-coordinate of the dot and the top of the line appears to be approximately 60-70 pixels. Please note that this is an estimated range and not an exact measurement.', 'The small square dot appears to be approximately 10-20 pixels below the top of the vertical line.', 'I do not have the capability to measure dimensions in images directly. However, I can provide an estimation based on the visual information provided. The dot appears to be roughly 70-80 pixels below the top of the black vertical line.', 'In the image, the square dot is located above the midpoint but below the top of the vertical line. Estimating the difference between the y-coordinates of the dot and the top of the line, I would say it is roughly in the range of 20-30 pixels.', \"I'm unable to visually estimate or measure differences in an image directly. If you're looking for an estimate, visually judging by the scale of the 100x100 pixel image, the difference between the y-coordinates of the dot and the top of the line appears to be in the range of approximately 20-30 pixels. Please note that this is a rough visual estimate and the actual value may vary.\", \"I'm sorry, but I don't have the capability to measure elements within images or to determine specific pixel coordinates and differences. Without the ability to conduct precise measurements, I cannot provide an accurate estimation of the difference between the y-coordinates. If you have a graphical editing tool, you may use a ruler tool within the program to get a more accurate measurement. If you are looking for an estimate, visually, it appears the difference might be in the range of 60-70 pixels, but this is a rough guess and should not be taken as a precise measurement.\", \"In the image, there's a vertical line on the left side and a small square dot towards the right. Estimating the difference between the y-coordinates of the dot and the top of the line by sight, it appears to be around 20-30 pixels.\", \"I don't have the ability to measure exact pixel distances in an image. However, I can make a rough estimation based on the relative sizes in the image you provided.\\n\\nThe top of the line appears to be near the top of the image, and the square dot is significantly lower. Estimating visually, the difference in y-coordinates between the dot and the top of the line seems to be approximately 70-80 pixels. Remember that this is a rough estimate and not an exact measurement.\", 'The image you provided appears to be a simple black and white graphic with a vertical line and a square dot. Based on the provided resolution and the assumption that the image is 100x100 pixels, it appears that the distance between the dot and the top of the line is approximately 10-20 pixels.', 'The black vertical line extends to the top of the image, so its y-coordinate at the top is 100. The small square dot appears to be roughly in the middle of the vertical span of the image. Estimating the position by eye, I would say the dot has a y-coordinate around 50-60 pixels. Therefore, the difference between the y-coordinates of the dot and the top of the line would be approximately 40-50 pixels.', 'In the image, I see a black vertical line on the left side and a small black square dot towards the right side. Based on the given 100x100 pixel scale and assuming the origin is at the bottom-left corner, the vertical line appears to be nearly the full height of the image, while the dot is positioned horizontally away from it.\\n\\nTo estimate the difference between the y-coordinates of the dot and the top of the line, the dot looks to be approximately in the upper half of the image but not at the very top. Without precise pixel counting tools, I would estimate the difference to be around 20-30 pixels.', \"I'm sorry, but as an AI developed by OpenAI, I don't have the capability to directly measure or estimate differences in pixels within images. However, if this is a 100x100 pixel image and you need an estimate, you can make the estimation based on your own assessment of the image scale. The percentage of the image that the space appears to cover can be converted into an estimation of pixels if you consider the total image height to be 100 pixels. For instance, if it looks like the space is about half of the image height, then the pixel difference might be around 50 pixels. Please make sure to visually compare and use a reference, like a ruler or image editing software, to get a more accurate estimate.\", \"To estimate the difference between the y-coordinates of the dot and the top of the line, I'll compare their apparent positions within the 100x100 pixel image.\\n\\nThe line appears to be very close to the top of the image, making the y-coordinate of the top of the line close to 100 pixels. On the other hand, the dot is positioned lower on the canvas.\\n\\nEstimating visually and comparing the dot's position relative to the image's size, I would say that the difference in y-coordinates between the dot's position and the top of the line is approximately 70-80 pixels.\"], 'parsed_answers': [[10.0, 20.0], [10.0, 20.0], [60.0, 70.0], [100.0, 15.0, 25.0], [10.0, 20.0], [5.0, 10.0], [20.0, 30.0], [20.0, 30.0], [65.0, 75.0], [10.0, 20.0], [1.0, 5.0], [10.0, 20.0], [20.0, 30.0], [60.0, 70.0], [20.0, 30.0], [10.0, 20.0], [60.0, 70.0], [25.0, 35.0], [20.0, 30.0], [20.0, 30.0], [100.0, 10.0, 20.0], [60.0, 70.0], [20.0, 30.0], [15.0, 25.0], [10.0, 20.0], [0.0, 5.0], [20.0, 30.0], [20.0, 30.0], [60.0, 70.0], [20.0, 30.0], [20.0, 30.0], [20.0, 30.0], [20.0, 30.0], [100.0, 20.0, 30.0], [20.0, 30.0], [5.0, 10.0], [65.0, 75.0], [70.0, 80.0], [60.0, 70.0], [20.0, 30.0], [60.0, 70.0], [2023.0], [60.0, 70.0], [10.0, 20.0], [70.0, 80.0], [20.0, 30.0], [20.0, 30.0], [60.0, 70.0], [20.0, 30.0], [70.0, 80.0], [10.0, 20.0], [50.0, 60.0, 40.0, 50.0], [20.0, 30.0], [100.0, 50.0], [100.0, 70.0, 80.0]], 'mean': 75.67272727272727, 'std': 266.4101454896842, 'mse': 71521.21818181819, 'mlae': 12.50141596048255, 'times': [29737.563133239746, 1465.0638103485107, 70767.96960830688, 4234.060049057007, 17402.209758758545, 2452.7230262756348, 42663.42329978943, 28306.724548339844, 253032.11426734924, 29662.63198852539, 2368.4792518615723, 2589.256763458252, 57633.32223892212, 60075.96397399902, 16531.654834747314, 149525.71725845337, 56128.27944755554, 219508.59880447388, 437604.6869754791, 28345.194816589355, 16782.884120941162, 69763.1139755249, 112445.0433254242, 16515.074491500854, 1883.7363719940186, 27877.326250076294, 16971.92621231079, 225201.3819217682, 97711.599111557, 29877.44402885437, 140911.6542339325, 2582.190752029419, 70612.95628547668, 15127.7437210083, 42914.8736000061, 2205.528974533081, 2313.552141189575, 46110.02969741821, 16968.9462184906, 41364.72177505493, 344680.12380599976, 16096.889972686768, 2942.753314971924, 4324.113607406616, 110516.99447631836, 28040.751218795776, 48843.01424026489, 31740.228176116943, 2012.6779079437256, 155004.74500656128, 3008.267641067505, 43484.99393463135, 119333.18495750427, 17713.465929031372, 87081.15553855896], 'forced_repetitions': 246}, 'LLaVA': {'parameters': None, 'raw_answers': ['The difference between the y-coordinate of the dot and the top of the line is approximately 100 pixels.', 'The difference between the y-coordinate of the dot and the top of the line is approximately 100 pixels.', 'The difference between the y-coordinate of the dot and the top of the line is approximately 100 pixels.', 'The difference between the y-coordinate of the dot and the top of the line is approximately 100 pixels.', 'The difference between the y-coordinate of the dot and the top of the line is approximately 100 pixels.', 'The difference between the y-coordinate of the dot and the top of the line is approximately 100 pixels.', 'The difference between the y-coordinate of the dot and the top of the line is approximately 100 pixels.', 'The difference between the y-coordinate of the dot and the top of the line is approximately 100 pixels.', 'The difference between the y-coordinate of the dot and the top of the line is approximately 100 pixels.', 'The difference between the y-coordinate of the dot and the top of the line is approximately 100 pixels.', 'The difference between the y-coordinate of the dot and the top of the line is approximately 100 pixels.', 'The difference between the y-coordinate of the dot and the top of the line is approximately 100 pixels.', 'The difference between the y-coordinate of the dot and the top of the line is approximately 100 pixels.', 'The difference between the y-coordinate of the dot and the top of the line is approximately 100 pixels.', 'The difference between the y-coordinate of the dot and the top of the line is approximately 100 pixels.', 'The difference between the y-coordinate of the dot and the top of the line is approximately 100 pixels.', 'The difference between the y-coordinate of the dot and the top of the line is approximately 100 pixels.', 'The difference between the y-coordinate of the dot and the top of the line is approximately 100 pixels.', 'The difference between the y-coordinate of the dot and the top of the line is approximately 100 pixels.', 'The difference between the y-coordinate of the dot and the top of the line is approximately 100 pixels.', 'The difference between the y-coordinate of the dot and the top of the line is approximately 100 pixels.', 'The difference between the y-coordinate of the dot and the top of the line is approximately 100 pixels.', 'The difference between the y-coordinate of the dot and the top of the line is approximately 100 pixels.', 'The difference between the y-coordinate of the dot and the top of the line is approximately 100 pixels.', 'The difference between the y-coordinate of the dot and the top of the line is approximately 100 pixels.', 'The difference between the y-coordinate of the dot and the top of the line is approximately 100 pixels.', 'The difference between the y-coordinate of the dot and the top of the line is approximately 100 pixels.', 'The difference between the y-coordinate of the dot and the top of the line is approximately 100 pixels.', 'The difference between the y-coordinate of the dot and the top of the line is approximately 100 pixels.', 'The difference between the y-coordinate of the dot and the top of the line is approximately 100 pixels.', 'The difference between the y-coordinate of the dot and the top of the line is approximately 100 pixels.', 'The difference between the y-coordinate of the dot and the top of the line is approximately 100 pixels.', 'The difference between the y-coordinate of the dot and the top of the line is approximately 100 pixels.', 'The difference between the y-coordinate of the dot and the top of the line is approximately 100 pixels.', 'The difference between the y-coordinate of the dot and the top of the line is approximately 100 pixels.', 'The difference between the y-coordinate of the dot and the top of the line is approximately 100 pixels.', 'The difference between the y-coordinate of the dot and the top of the line is approximately 100 pixels.', 'The difference between the y-coordinate of the dot and the top of the line is approximately 100 pixels.', 'The difference between the y-coordinate of the dot and the top of the line is approximately 100 pixels.', 'The difference between the y-coordinate of the dot and the top of the line is approximately 100 pixels.', 'The difference between the y-coordinate of the dot and the top of the line is approximately 100 pixels.', 'The difference between the y-coordinate of the dot and the top of the line is approximately 100 pixels.', 'The difference between the y-coordinate of the dot and the top of the line is approximately 100 pixels.', 'The difference between the y-coordinate of the dot and the top of the line is approximately 100 pixels.', 'The difference between the y-coordinate of the dot and the top of the line is approximately 100 pixels.', 'The difference between the y-coordinate of the dot and the top of the line is approximately 100 pixels.', 'The difference between the y-coordinate of the dot and the top of the line is approximately 100 pixels.', 'The difference between the y-coordinate of the dot and the top of the line is approximately 100 pixels.', 'The difference between the y-coordinate of the dot and the top of the line is approximately 100 pixels.', 'The difference between the y-coordinate of the dot and the top of the line is approximately 100 pixels.', 'The difference between the y-coordinate of the dot and the top of the line is approximately 100 pixels.', 'The difference between the y-coordinate of the dot and the top of the line is approximately 100 pixels.', 'The difference between the y-coordinate of the dot and the top of the line is approximately 100 pixels.', 'The difference between the y-coordinate of the dot and the top of the line is approximately 100 pixels.', 'The difference between the y-coordinate of the dot and the top of the line is approximately 100 pixels.'], 'parsed_answers': [[100.0], [100.0], [100.0], [100.0], [100.0], [100.0], [100.0], [100.0], [100.0], [100.0], [100.0], [100.0], [100.0], [100.0], [100.0], [100.0], [100.0], [100.0], [100.0], [100.0], [100.0], [100.0], [100.0], [100.0], [100.0], [100.0], [100.0], [100.0], [100.0], [100.0], [100.0], [100.0], [100.0], [100.0], [100.0], [100.0], [100.0], [100.0], [100.0], [100.0], [100.0], [100.0], [100.0], [100.0], [100.0], [100.0], [100.0], [100.0], [100.0], [100.0], [100.0], [100.0], [100.0], [100.0], [100.0]], 'mean': 100.0, 'std': 0.0, 'mse': 5336.309090909091, 'mlae': 12.786963385544992, 'times': [31957.119703292847, 7966.870307922363, 7188.653945922852, 7331.352949142456, 7217.0610427856445, 7381.75630569458, 7509.356737136841, 7597.224235534668, 7424.904108047485, 7126.093149185181, 7240.041494369507, 7256.736755371094, 7207.54599571228, 7646.832227706909, 7369.801044464111, 7171.087741851807, 7173.026084899902, 7192.851305007935, 7351.201772689819, 7161.261320114136, 7750.435829162598, 7194.767951965332, 7289.472579956055, 7256.941318511963, 7202.20422744751, 7294.407844543457, 7559.637069702148, 7277.9035568237305, 7210.058689117432, 7205.260992050171, 7242.579936981201, 7479.820728302002, 7138.814210891724, 7391.1590576171875, 7103.769063949585, 7508.898019790649, 7374.807119369507, 7531.459093093872, 7557.995557785034, 7111.098289489746, 7042.200326919556, 7044.388055801392, 7356.978178024292, 7256.0155391693115, 7992.042064666748, 6959.803581237793, 7072.013378143311, 6955.452442169189, 6944.364786148071, 7152.209043502808, 7129.141807556152, 6980.180263519287, 6996.680498123169, 6850.209474563599, 7199.903726577759], 'forced_repetitions': 0}, 'CustomLLaVA': {'parameters': None, 'raw_answers': ['39', '17', '37', '59', '58', '46', '54', '36', '36', '51', '44', '49', '32', '49', '36', '41', '36', '46', '49', '37', '46', '49', '55', '39', '56', '49', '37', '39', '37', '58', '39', '46', '51', '39', '49', '23', '46', '49', '47', '39', '45', '36', '37', '47', '40', '37', '54', '47', '17', '39', '39', '49', '51', '37', '27'], 'parsed_answers': [[39.0], [17.0], [37.0], [59.0], [58.0], [46.0], [54.0], [36.0], [36.0], [51.0], [44.0], [49.0], [32.0], [49.0], [36.0], [41.0], [36.0], [46.0], [49.0], [37.0], [46.0], [49.0], [55.0], [39.0], [56.0], [49.0], [37.0], [39.0], [37.0], [58.0], [39.0], [46.0], [51.0], [39.0], [49.0], [23.0], [46.0], [49.0], [47.0], [39.0], [45.0], [36.0], [37.0], [47.0], [40.0], [37.0], [54.0], [47.0], [17.0], [39.0], [39.0], [49.0], [51.0], [37.0], [27.0]], 'mean': 42.67272727272727, 'std': 9.145400325160077, 'mse': 614.9818181818182, 'mlae': 10.99444183458205, 'times': [44615.95940589905, 19857.45406150818, 19116.46342277527, 19135.895252227783, 18726.890802383423, 18786.090850830078, 19518.83363723755, 19054.49390411377, 20564.77975845337, 19604.37250137329, 19788.379430770874, 20422.932624816895, 18819.97299194336, 18944.20838356018, 19045.88770866394, 21710.396766662598, 18771.790504455566, 21788.689136505127, 18974.100589752197, 19065.940618515015, 20655.68733215332, 19089.66112136841, 19101.49908065796, 19953.135013580322, 18665.668964385986, 19812.54816055298, 20476.80687904358, 19172.306299209595, 21066.688299179077, 19186.510801315308, 19613.375902175903, 18964.96605873108, 20271.356105804443, 20395.718097686768, 18976.204872131348, 18971.307516098022, 21148.351669311523, 19500.734567642212, 18922.25670814514, 18853.551864624023, 19312.714338302612, 19567.265272140503, 19008.254051208496, 18842.840671539307, 19314.33606147766, 20651.93009376526, 18882.312297821045, 19885.46586036682, 19953.639268875122, 19560.5571269989, 18800.349950790405, 18877.793550491333, 18973.600149154663, 20794.750452041626, 18737.12110519409], 'forced_repetitions': 0}}\n"
     ]
    }
   ],
   "source": [
    "import sys\n",
    "sys.path.append('../')\n",
    "import LLMP as L\n",
    "import torch\n",
    "torch.torch.cuda.empty_cache()\n",
    "\n",
    "query = \"What do you see? You should see a black vertical line and a small square dot in the 100x100 pixel image. \\\n",
    "         Suppose the x-coordinate is the horizontal position and the y-coordinate is the vertical position where \\\n",
    "         the origin is at the bottom-left corner. Estimate the difference between the y-coordinates of the dot and the \\\n",
    "         top of the line in pixels. It does not have to be perfectly precise; just give me your numerical estimation \\\n",
    "         (Sample answer form: 40-50)\"\n",
    "images = [L.GPImage.figure1('position_common_scale') for i in range(55)]\n",
    "models = [\"ChatGPT\", \"LLaVA\", \"CustomLLaVA\"]\n",
    "\n",
    "results = L.Evaluator.run(images, query, models)\n",
    "print(results)"
   ]
  },
  {
   "cell_type": "code",
   "execution_count": 2,
   "id": "b5e941ac-ce75-4262-ac27-abda5502c1b0",
   "metadata": {},
   "outputs": [],
   "source": [
    "chatGPT_mse = results[\"ChatGPT\"][\"mse\"]\n",
    "chatGPT_mlae = results[\"ChatGPT\"][\"mlae\"]\n",
    "chatGPT_mean = results[\"ChatGPT\"][\"mean\"]\n",
    "chatGPT_std = results[\"ChatGPT\"][\"std\"]\n",
    "llava_mse = results[\"LLaVA\"][\"mse\"]\n",
    "llava_mlae = results[\"LLaVA\"][\"mlae\"]\n",
    "llava_mean = results[\"LLaVA\"][\"mean\"]\n",
    "llava_std = results[\"LLaVA\"][\"std\"]\n",
    "custom_llava_mse = results[\"CustomLLaVA\"][\"mse\"]\n",
    "custom_llava_mlae = results[\"CustomLLaVA\"][\"mlae\"]\n",
    "custom_llava_mean = results[\"CustomLLaVA\"][\"mean\"]\n",
    "custom_llava_std = results[\"CustomLLaVA\"][\"std\"]"
   ]
  },
  {
   "cell_type": "code",
   "execution_count": 3,
   "id": "b0857b87-cc8f-422e-8c3d-33675da74262",
   "metadata": {},
   "outputs": [
    {
     "name": "stdout",
     "output_type": "stream",
     "text": [
      "ChatGPT mse:  71521.21818181819\n",
      "ChatGPT mlae: 12.50141596048255\n",
      "ChatGPT mean: 75.67272727272727\n",
      "ChatGPT std: 266.4101454896842\n",
      "LLaVA mse:    5336.309090909091\n",
      "LLaVA mlae:   12.786963385544992\n",
      "LLaVA mean:   100.0\n",
      "LLaVA std:   0.0\n",
      "CLLaVA mse:   614.9818181818182\n",
      "CLLaVA mlae:  10.99444183458205\n",
      "CLLaVA mean:  42.67272727272727\n",
      "CLLaVA std:  9.145400325160077\n"
     ]
    }
   ],
   "source": [
    "print(\"ChatGPT mse: \", chatGPT_mse)\n",
    "print(\"ChatGPT mlae:\", chatGPT_mlae)\n",
    "print(\"ChatGPT mean:\", chatGPT_mean)\n",
    "print(\"ChatGPT std:\", chatGPT_std)\n",
    "print(\"LLaVA mse:   \", llava_mse)\n",
    "print(\"LLaVA mlae:  \", llava_mlae)\n",
    "print(\"LLaVA mean:  \", llava_mean)\n",
    "print(\"LLaVA std:  \", llava_std)\n",
    "print(\"CLLaVA mse:  \", custom_llava_mse)\n",
    "print(\"CLLaVA mlae: \", custom_llava_mlae)\n",
    "print(\"CLLaVA mean: \", custom_llava_mean)\n",
    "print(\"CLLaVA std: \", custom_llava_std)"
   ]
  },
  {
   "cell_type": "code",
   "execution_count": null,
   "id": "f9c83ea1-e394-4ae6-b3d1-74a2cb4e1da6",
   "metadata": {},
   "outputs": [],
   "source": []
  }
 ],
 "metadata": {
  "kernelspec": {
   "display_name": "Python 3 (ipykernel)",
   "language": "python",
   "name": "python3"
  },
  "language_info": {
   "codemirror_mode": {
    "name": "ipython",
    "version": 3
   },
   "file_extension": ".py",
   "mimetype": "text/x-python",
   "name": "python",
   "nbconvert_exporter": "python",
   "pygments_lexer": "ipython3",
   "version": "3.11.7"
  }
 },
 "nbformat": 4,
 "nbformat_minor": 5
}
