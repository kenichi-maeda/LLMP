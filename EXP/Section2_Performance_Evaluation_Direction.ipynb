{
 "cells": [
  {
   "cell_type": "code",
   "execution_count": null,
   "id": "4616c395-68c5-49c3-8d7d-0b6961af8a8a",
   "metadata": {},
   "outputs": [],
   "source": [
    "import sys\n",
    "sys.path.append('../')\n",
    "import LLMP as L\n",
    "import torch\n",
    "torch.torch.cuda.empty_cache()\n",
    "\n",
    "# Same question\n",
    "query = \"What do you see? If you see a line, can you estimate the direction of it in degree (0 to 360)? Please respond with just a numerical range \\\n",
    "        not larger than 10 degrees (e.g., 180-190)\""
   ]
  },
  {
   "cell_type": "markdown",
   "id": "007ad749-4c0b-494f-ac92-911f24a2251d",
   "metadata": {},
   "source": [
    "#### Run1"
   ]
  },
  {
   "cell_type": "code",
   "execution_count": null,
   "id": "fbc49619-5b5b-4162-b6ac-5f22a5422f33",
   "metadata": {},
   "outputs": [],
   "source": [
    "image, label = L.GPImage.figure1('direction')\n",
    "imshow(image, cmap='gray')\n",
    "\n",
    "ChatGPT_answer = L.ChatGPT.query(question, image)\n",
    "LLaVA_answer = L.LLaVA.query(question, image)\n",
    "CLLaVA_answer = L.CustomLLaVA.query(question, image)\n",
    "\n",
    "print('GT:          ', label)\n",
    "print('ChatGPT:     ', ChatGPT_answer)\n",
    "print('LLaVA:       ', LLaVA_answer)\n",
    "print('CustomLLaVA: ', CLLaVA_answer)"
   ]
  },
  {
   "cell_type": "markdown",
   "id": "64d75968-1406-453c-8bc8-f8cbe1ea8562",
   "metadata": {},
   "source": [
    "#### Run2"
   ]
  },
  {
   "cell_type": "code",
   "execution_count": null,
   "id": "c9dc9e23-4fcc-4078-afc7-1d1ae9363a0f",
   "metadata": {},
   "outputs": [],
   "source": [
    "image, label = L.GPImage.figure1('direction')\n",
    "imshow(image, cmap='gray')\n",
    "\n",
    "ChatGPT_answer = L.ChatGPT.query(question, image)\n",
    "LLaVA_answer = L.LLaVA.query(question, image)\n",
    "CLLaVA_answer = L.CustomLLaVA.query(question, image)\n",
    "\n",
    "print('GT:          ', label)\n",
    "print('ChatGPT:     ', ChatGPT_answer)\n",
    "print('LLaVA:       ', LLaVA_answer)\n",
    "print('CustomLLaVA: ', CLLaVA_answer)"
   ]
  },
  {
   "cell_type": "markdown",
   "id": "fbb1ca40-1156-44f4-95c0-294af12758fe",
   "metadata": {},
   "source": [
    "#### Run3"
   ]
  },
  {
   "cell_type": "code",
   "execution_count": null,
   "id": "3e36205e-68e4-41b5-9900-4a60ea102c11",
   "metadata": {},
   "outputs": [],
   "source": [
    "image, label = L.GPImage.figure1('direction')\n",
    "imshow(image, cmap='gray')\n",
    "\n",
    "ChatGPT_answer = L.ChatGPT.query(question, image)\n",
    "LLaVA_answer = L.LLaVA.query(question, image)\n",
    "CLLaVA_answer = L.CustomLLaVA.query(question, image)\n",
    "\n",
    "print('GT:          ', label)\n",
    "print('ChatGPT:     ', ChatGPT_answer)\n",
    "print('LLaVA:       ', LLaVA_answer)\n",
    "print('CustomLLaVA: ', CLLaVA_answer)"
   ]
  },
  {
   "cell_type": "markdown",
   "id": "420988e4-c67d-4be6-bfe0-86d8970f27cd",
   "metadata": {},
   "source": [
    "#### Run4"
   ]
  },
  {
   "cell_type": "code",
   "execution_count": null,
   "id": "85994e2f-01d6-4ef3-a335-b8771755243f",
   "metadata": {},
   "outputs": [],
   "source": [
    "image, label = L.GPImage.figure1('direction')\n",
    "imshow(image, cmap='gray')\n",
    "\n",
    "ChatGPT_answer = L.ChatGPT.query(question, image)\n",
    "LLaVA_answer = L.LLaVA.query(question, image)\n",
    "CLLaVA_answer = L.CustomLLaVA.query(question, image)\n",
    "\n",
    "print('GT:          ', label)\n",
    "print('ChatGPT:     ', ChatGPT_answer)\n",
    "print('LLaVA:       ', LLaVA_answer)\n",
    "print('CustomLLaVA: ', CLLaVA_answer)"
   ]
  },
  {
   "cell_type": "markdown",
   "id": "eb523b10-3cca-4c76-9468-90695f2e8a1a",
   "metadata": {},
   "source": [
    "#### Run5"
   ]
  },
  {
   "cell_type": "code",
   "execution_count": null,
   "id": "315abc24-5d4a-4f32-be6b-ec8e68cc5b3f",
   "metadata": {},
   "outputs": [],
   "source": [
    "image, label = L.GPImage.figure1('direction')\n",
    "imshow(image, cmap='gray')\n",
    "\n",
    "ChatGPT_answer = L.ChatGPT.query(question, image)\n",
    "LLaVA_answer = L.LLaVA.query(question, image)\n",
    "CLLaVA_answer = L.CustomLLaVA.query(question, image)\n",
    "\n",
    "print('GT:          ', label)\n",
    "print('ChatGPT:     ', ChatGPT_answer)\n",
    "print('LLaVA:       ', LLaVA_answer)\n",
    "print('CustomLLaVA: ', CLLaVA_answer)"
   ]
  },
  {
   "cell_type": "markdown",
   "id": "76bbf0f7-3959-48b2-b899-acaa5495ffb6",
   "metadata": {},
   "source": [
    "#### Run6"
   ]
  },
  {
   "cell_type": "code",
   "execution_count": null,
   "id": "f6aa3b13-382a-4694-8459-e57238d0274c",
   "metadata": {},
   "outputs": [],
   "source": [
    "image, label = L.GPImage.figure1('direction')\n",
    "imshow(image, cmap='gray')\n",
    "\n",
    "ChatGPT_answer = L.ChatGPT.query(question, image)\n",
    "LLaVA_answer = L.LLaVA.query(question, image)\n",
    "CLLaVA_answer = L.CustomLLaVA.query(question, image)\n",
    "\n",
    "print('GT:          ', label)\n",
    "print('ChatGPT:     ', ChatGPT_answer)\n",
    "print('LLaVA:       ', LLaVA_answer)\n",
    "print('CustomLLaVA: ', CLLaVA_answer)"
   ]
  },
  {
   "cell_type": "markdown",
   "id": "41ef10f1-db2f-4d05-974d-4288908b6797",
   "metadata": {},
   "source": [
    "#### Run7"
   ]
  },
  {
   "cell_type": "code",
   "execution_count": null,
   "id": "191c2954-e07f-4440-a929-c186b9155bf2",
   "metadata": {},
   "outputs": [],
   "source": [
    "image, label = L.GPImage.figure1('direction')\n",
    "imshow(image, cmap='gray')\n",
    "\n",
    "ChatGPT_answer = L.ChatGPT.query(question, image)\n",
    "LLaVA_answer = L.LLaVA.query(question, image)\n",
    "CLLaVA_answer = L.CustomLLaVA.query(question, image)\n",
    "\n",
    "print('GT:          ', label)\n",
    "print('ChatGPT:     ', ChatGPT_answer)\n",
    "print('LLaVA:       ', LLaVA_answer)\n",
    "print('CustomLLaVA: ', CLLaVA_answer)"
   ]
  },
  {
   "cell_type": "markdown",
   "id": "b61caf86-edbf-425d-976e-426acc44354f",
   "metadata": {},
   "source": [
    "#### Run8"
   ]
  },
  {
   "cell_type": "code",
   "execution_count": null,
   "id": "98caac3b-c088-4d80-adf6-0700062aca88",
   "metadata": {},
   "outputs": [],
   "source": [
    "image, label = L.GPImage.figure1('direction')\n",
    "imshow(image, cmap='gray')\n",
    "\n",
    "ChatGPT_answer = L.ChatGPT.query(question, image)\n",
    "LLaVA_answer = L.LLaVA.query(question, image)\n",
    "CLLaVA_answer = L.CustomLLaVA.query(question, image)\n",
    "\n",
    "print('GT:          ', label)\n",
    "print('ChatGPT:     ', ChatGPT_answer)\n",
    "print('LLaVA:       ', LLaVA_answer)\n",
    "print('CustomLLaVA: ', CLLaVA_answer)"
   ]
  },
  {
   "cell_type": "markdown",
   "id": "17bf1297-0ccc-4a19-ada0-a60c82725d64",
   "metadata": {},
   "source": [
    "#### Run9"
   ]
  },
  {
   "cell_type": "code",
   "execution_count": null,
   "id": "657a0383-5a69-40bb-b67e-011548b284a9",
   "metadata": {},
   "outputs": [],
   "source": [
    "image, label = L.GPImage.figure1('direction')\n",
    "imshow(image, cmap='gray')\n",
    "\n",
    "ChatGPT_answer = L.ChatGPT.query(question, image)\n",
    "LLaVA_answer = L.LLaVA.query(question, image)\n",
    "CLLaVA_answer = L.CustomLLaVA.query(question, image)\n",
    "\n",
    "print('GT:          ', label)\n",
    "print('ChatGPT:     ', ChatGPT_answer)\n",
    "print('LLaVA:       ', LLaVA_answer)\n",
    "print('CustomLLaVA: ', CLLaVA_answer)"
   ]
  },
  {
   "cell_type": "markdown",
   "id": "0368e9cf-a99f-4346-9037-53ad312343b3",
   "metadata": {},
   "source": [
    "#### Run10"
   ]
  },
  {
   "cell_type": "code",
   "execution_count": null,
   "id": "c353e98b-c0d9-4fe7-944b-fbf3311a18ab",
   "metadata": {},
   "outputs": [],
   "source": [
    "image, label = L.GPImage.figure1('direction')\n",
    "imshow(image, cmap='gray')\n",
    "\n",
    "ChatGPT_answer = L.ChatGPT.query(question, image)\n",
    "LLaVA_answer = L.LLaVA.query(question, image)\n",
    "CLLaVA_answer = L.CustomLLaVA.query(question, image)\n",
    "\n",
    "print('GT:          ', label)\n",
    "print('ChatGPT:     ', ChatGPT_answer)\n",
    "print('LLaVA:       ', LLaVA_answer)\n",
    "print('CustomLLaVA: ', CLLaVA_answer)"
   ]
  },
  {
   "cell_type": "code",
   "execution_count": null,
   "id": "8aaa2451-d915-4541-be0c-40c922f9e6d9",
   "metadata": {},
   "outputs": [],
   "source": []
  }
 ],
 "metadata": {
  "kernelspec": {
   "display_name": "Python 3 (ipykernel)",
   "language": "python",
   "name": "python3"
  },
  "language_info": {
   "codemirror_mode": {
    "name": "ipython",
    "version": 3
   },
   "file_extension": ".py",
   "mimetype": "text/x-python",
   "name": "python",
   "nbconvert_exporter": "python",
   "pygments_lexer": "ipython3",
   "version": "3.11.7"
  }
 },
 "nbformat": 4,
 "nbformat_minor": 5
}
