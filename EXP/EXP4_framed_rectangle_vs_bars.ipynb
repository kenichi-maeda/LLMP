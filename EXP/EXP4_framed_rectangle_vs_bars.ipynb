{
 "cells": [
  {
   "cell_type": "code",
   "execution_count": 1,
   "id": "ae0a0c46",
   "metadata": {},
   "outputs": [
    {
     "name": "stdout",
     "output_type": "stream",
     "text": [
      "%pylab is deprecated, use %matplotlib inline and import the required libraries.\n",
      "Populating the interactive namespace from numpy and matplotlib\n"
     ]
    }
   ],
   "source": [
    "%load_ext autoreload\n",
    "%pylab inline\n",
    "%autoreload 2\n",
    "    \n",
    "import sys\n",
    "sys.path.append('../')\n",
    "import LLMP as L"
   ]
  },
  {
   "cell_type": "markdown",
   "id": "7e754414",
   "metadata": {},
   "source": [
    "Bars"
   ]
  },
  {
   "cell_type": "code",
   "execution_count": 2,
   "id": "bd86d174",
   "metadata": {},
   "outputs": [
    {
     "name": "stdout",
     "output_type": "stream",
     "text": [
      "Left bar: 40-50 pixels\n",
      "Right bar: 60-70 pixels GT: [51, 57]\n"
     ]
    },
    {
     "data": {
      "image/png": "[encoded data removed]",
      "text/plain": [
       "<Figure size 640x480 with 1 Axes>"
      ]
     },
     "metadata": {},
     "output_type": "display_data"
    }
   ],
   "source": [
    "image, label = L.GPImage.figure12(False)\n",
    "imshow(image, cmap='gray')\n",
    "\n",
    "question = 'What do you see? There are two black bars. The image is 100 by 100 pixels. Estimate the length of the left bar in pixels (the value should be between 0 and 100). It does not have to be a precise calculation; I just need an estimation. JUST give me the range. After that, give me the length range for the right bar as well.'\n",
    "answer = L.ChatGPT.query(question, image)\n",
    "print(answer, 'GT:', label)"
   ]
  },
  {
   "cell_type": "code",
   "execution_count": 4,
   "id": "79704f9e",
   "metadata": {},
   "outputs": [
    {
     "data": {
      "text/plain": [
       "[40, 50]"
      ]
     },
     "execution_count": 4,
     "metadata": {},
     "output_type": "execute_result"
    }
   ],
   "source": [
    "import re\n",
    "left_match = re.search(r'Left bar: (\\d+)-(\\d+) pixels', answer)\n",
    "right_match = re.search(r'Right bar: (\\d+)-(\\d+) pixels', answer)\n",
    "\n",
    "left_range = [int(left_match.group(1)), int(left_match.group(2))] if left_match else None\n",
    "right_range = [int(right_match.group(1)), int(right_match.group(2))] if right_match else None"
   ]
  },
  {
   "cell_type": "code",
   "execution_count": 5,
   "id": "7edab1af",
   "metadata": {},
   "outputs": [
    {
     "name": "stdout",
     "output_type": "stream",
     "text": [
      "[40, 50]\n",
      "[60, 70]\n"
     ]
    }
   ],
   "source": [
    "print(left_range)\n",
    "print(right_range)"
   ]
  },
  {
   "cell_type": "code",
   "execution_count": 7,
   "id": "65806f98",
   "metadata": {},
   "outputs": [
    {
     "data": {
      "text/plain": [
       "[-11, -1]"
      ]
     },
     "execution_count": 7,
     "metadata": {},
     "output_type": "execute_result"
    }
   ],
   "source": [
    "left_error = []\n",
    "for r in left_range:\n",
    "    left_error.append(r - label[0])\n",
    "left_error"
   ]
  },
  {
   "cell_type": "code",
   "execution_count": 8,
   "id": "ff22d7ee",
   "metadata": {},
   "outputs": [
    {
     "data": {
      "text/plain": [
       "[3, 13]"
      ]
     },
     "execution_count": 8,
     "metadata": {},
     "output_type": "execute_result"
    }
   ],
   "source": [
    "right_error = []\n",
    "for r in right_range:\n",
    "    right_error.append(r - label[1])\n",
    "right_error"
   ]
  },
  {
   "cell_type": "markdown",
   "id": "0775181b",
   "metadata": {},
   "source": [
    "Framed Bars"
   ]
  },
  {
   "cell_type": "code",
   "execution_count": 2,
   "id": "3958f3ce",
   "metadata": {},
   "outputs": [
    {
     "name": "stdout",
     "output_type": "stream",
     "text": [
      "Left bar: 30-40 pixels.\n",
      "Right bar: 30-40 pixels. GT: [56, 55]\n"
     ]
    },
    {
     "data": {
      "image/png": "[encoded data removed]",
      "text/plain": [
       "<Figure size 640x480 with 1 Axes>"
      ]
     },
     "metadata": {},
     "output_type": "display_data"
    }
   ],
   "source": [
    "image, label = L.GPImage.figure12(True)\n",
    "imshow(image, cmap='gray')\n",
    "\n",
    "question = 'What do you see? There are two black bars. The image is 100 by 100 pixels. Estimate the length of the left bar in pixels (the value should be between 0 and 100). It does not have to be a precise calculation; I just need an estimation. JUST give me the range. After that, give me the length range for the right bar as well.'\n",
    "answer = L.ChatGPT.query(question, image)\n",
    "print(answer, 'GT:', label)"
   ]
  },
  {
   "cell_type": "code",
   "execution_count": null,
   "id": "d0ebd456",
   "metadata": {},
   "outputs": [],
   "source": []
  },
  {
   "cell_type": "code",
   "execution_count": null,
   "id": "740fae2c",
   "metadata": {},
   "outputs": [],
   "source": []
  }
 ],
 "metadata": {
  "kernelspec": {
   "display_name": "Python 3 (ipykernel)",
   "language": "python",
   "name": "python3"
  },
  "language_info": {
   "codemirror_mode": {
    "name": "ipython",
    "version": 3
   },
   "file_extension": ".py",
   "mimetype": "text/x-python",
   "name": "python",
   "nbconvert_exporter": "python",
   "pygments_lexer": "ipython3",
   "version": "3.11.3"
  }
 },
 "nbformat": 4,
 "nbformat_minor": 5
}
