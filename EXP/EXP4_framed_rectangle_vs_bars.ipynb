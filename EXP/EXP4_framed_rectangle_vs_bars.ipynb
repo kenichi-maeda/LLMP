{
 "cells": [
  {
   "cell_type": "code",
   "execution_count": 1,
   "id": "fd1a5af2-97c7-4124-9854-09b4e844b5aa",
   "metadata": {},
   "outputs": [
    {
     "name": "stdout",
     "output_type": "stream",
     "text": [
      "[2024-09-21 16:08:28,540] [INFO] [real_accelerator.py:110:get_accelerator] Setting ds_accelerator to cuda (auto detect)\n"
     ]
    },
    {
     "name": "stderr",
     "output_type": "stream",
     "text": [
      "You are using a model of type llava to instantiate a model of type llava_llama. This is not supported for all configurations of models and can yield errors.\n"
     ]
    },
    {
     "data": {
      "application/vnd.jupyter.widget-view+json": {
       "model_id": "cf27ffc965ed49d3b427b4e6b78ec15a",
       "version_major": 2,
       "version_minor": 0
      },
      "text/plain": [
       "Loading checkpoint shards:   0%|          | 0/2 [00:00<?, ?it/s]"
      ]
     },
     "metadata": {},
     "output_type": "display_data"
    },
    {
     "name": "stderr",
     "output_type": "stream",
     "text": [
      "/home/kenichi.maeda001/anaconda3/envs/LLMP/lib/python3.11/site-packages/transformers/generation/configuration_utils.py:389: UserWarning: `do_sample` is set to `False`. However, `temperature` is set to `0` -- this flag is only used in sample-based generation modes. You should set `do_sample=True` or unset `temperature`.\n",
      "  warnings.warn(\n",
      "/home/kenichi.maeda001/anaconda3/envs/LLMP/lib/python3.11/site-packages/transformers/generation/configuration_utils.py:394: UserWarning: `do_sample` is set to `False`. However, `top_p` is set to `None` -- this flag is only used in sample-based generation modes. You should set `do_sample=True` or unset `top_p`.\n",
      "  warnings.warn(\n"
     ]
    },
    {
     "name": "stdout",
     "output_type": "stream",
     "text": [
      "{'gt': [[51, 57]], 'LLaVA': {'raw_answers': ['The left bar is 30 pixels long, and the right bar is 70 pixels long.'], 'parsed_answers': [[30.0, 70.0]], 'mean': 50.0, 'std': 20.0, 'mse': 305.0, 'mlae': 10.731425107642949, 'times': [12295.343399047852], 'forced_repetitions': 0}}\n"
     ]
    }
   ],
   "source": [
    "import sys\n",
    "import os\n",
    "import torch\n",
    "from dotenv import load_dotenv\n",
    "# Add the parent directory to the system path for module imports\n",
    "sys.path.append('../')\n",
    "\n",
    "import LLMP as L\n",
    "\n",
    "# Load environment variables from the .env file\n",
    "load_dotenv()\n",
    "\n",
    "# Clear CUDA cache if using GPU\n",
    "torch.cuda.empty_cache()\n",
    "\n",
    "model_instances = {\n",
    "    \"LLaVA\": L.LLaVA()\n",
    "}\n",
    "\n",
    "# Define query and images\n",
    "query = 'What do you see? There are two black bars.  Estimate the length of the left bar and the right bar in pixels (the value should be between 0 and 100). Give me the numbers.'\n",
    "images = [L.GPImage.figure12(False) for i in range(1)]\n",
    "\n",
    "# Run the evaluator\n",
    "result1 = L.Evaluator4.run(images, query, model_instances)\n",
    "print(result1)"
   ]
  },
  {
   "cell_type": "code",
   "execution_count": null,
   "id": "c12da808-34ce-4d43-bae5-90f69a09650a",
   "metadata": {},
   "outputs": [],
   "source": []
  }
 ],
 "metadata": {
  "kernelspec": {
   "display_name": "Python 3 (ipykernel)",
   "language": "python",
   "name": "python3"
  },
  "language_info": {
   "codemirror_mode": {
    "name": "ipython",
    "version": 3
   },
   "file_extension": ".py",
   "mimetype": "text/x-python",
   "name": "python",
   "nbconvert_exporter": "python",
   "pygments_lexer": "ipython3",
   "version": "3.11.7"
  }
 },
 "nbformat": 4,
 "nbformat_minor": 5
}
