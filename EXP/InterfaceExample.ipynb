{
 "cells": [
  {
   "cell_type": "code",
   "execution_count": 2,
   "id": "d50a78c6-920f-4a56-aa0c-1db22c149a36",
   "metadata": {},
   "outputs": [
    {
     "name": "stdout",
     "output_type": "stream",
     "text": [
      "{'gt': [11, 5, 87, 87, 82, 82, 64, 44, 40, 82], 'ChatGPT': {'parameters': None, 'raw_answers': ['40-50', '40, 50', '70-80', '40-50', '75-85', '40-50', '30-40', '40-50', '30-40', '40-50'], 'parsed_answers': [[40, 50], [40, 50], [70, 80], [40, 50], [75, 85], [40, 50], [30, 40], [40, 50], [30, 40], [40, 50]], 'mse': 827.3, 'mlae': None, 'times': [1920.5331802368164, 907.4547290802002, 1620.192050933838, 1009.5491409301758, 10401.077508926392, 1124.035358428955, 21056.16784095764, 1263.7131214141846, 3457.0107460021973, 1126.955509185791], 'forced_repetitions': 3}}\n"
     ]
    }
   ],
   "source": [
    "%load_ext autoreload\n",
    "%autoreload 2\n",
    "    \n",
    "import sys\n",
    "sys.path.append('../')\n",
    "import LLMP as L\n",
    "\n",
    "\n",
    "query = \"This image contains a simple line drawing that forms an acute angle. Please estimate the angle.Please respond with a possible range not larger than 10 degrees and report just the numbers.\"\n",
    "images = [L.GPImage.figure1('angle') for i in range(10)]\n",
    "models = [\"ChatGPT\"]\n",
    "\n",
    "results = L.Evaluator.run(images, query, models)"
   ]
  }
 ],
 "metadata": {
  "kernelspec": {
   "display_name": "Python 3 (ipykernel)",
   "language": "python",
   "name": "python3"
  },
  "language_info": {
   "codemirror_mode": {
    "name": "ipython",
    "version": 3
   },
   "file_extension": ".py",
   "mimetype": "text/x-python",
   "name": "python",
   "nbconvert_exporter": "python",
   "pygments_lexer": "ipython3",
   "version": "3.11.7"
  }
 },
 "nbformat": 4,
 "nbformat_minor": 5
}
