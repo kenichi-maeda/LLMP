{
 "cells": [
  {
   "cell_type": "code",
   "execution_count": null,
   "id": "281ad640-74ad-4d42-ab31-0c4e0f7f606f",
   "metadata": {},
   "outputs": [],
   "source": [
    "import sys\n",
    "import os\n",
    "import torch\n",
    "from dotenv import load_dotenv\n",
    "sys.path.append('../')\n",
    "import LLMP as L\n",
    "\n",
    "load_dotenv()\n",
    "torch.cuda.empty_cache()\n",
    "\n",
    "# Models\n",
    "model_instances = {\n",
    "    \"gpt4o\": L.GPTModel(\"gpt-4o\"),\n",
    "    \"llava-1.5-7b-hf\": L.LLaVAModel(\"llava-hf/llava-1.5-7b-hf\"), \n",
    "    \"CustomLLaVA\": L.LLaVAModel(\"raminguyen/fine-tuned-data\"),\n",
    "    \"GeminiProVision\": L.GeminiProVision(),  \n",
    "    \"Gemini1_5Flash\": L.Gemini1_5Flash() \n",
    "}\n",
    "\n",
    "model_instances = {\n",
    "    \"gpt4o\": gpt4o,\n",
    "    \"gpt4vision\": gpt4vision,\n",
    "    \"llava-1.5-7b-hf\": LLaVA, \n",
    "    \"CustomLLaVA\": customLLaVA,\n",
    "    \"GeminiProVision\": gemini1,  \n",
    "    \"Gemini1_5Flash\": gemini2\n",
    "}\n",
    "\n",
    "# Define query and images\n",
    "query = \"This image contains a simple line drawing that forms an acute angle. Estimate the size of the angle. Please report just the number.\"\n",
    "images = [L.GPImage.weber('10') for i in range(55)]\n",
    "\n",
    "# Run the evaluator\n",
    "e = L.Evaluator()\n",
    "e.run(images, query, model_instances)\n",
    "e.save_results('RESULTS/EXP5_Weber_10.json')"
   ]
  },
  {
   "cell_type": "code",
   "execution_count": null,
   "id": "380e319f-3fdb-4852-8935-f7a858c13871",
   "metadata": {},
   "outputs": [],
   "source": []
  }
 ],
 "metadata": {
  "kernelspec": {
   "display_name": "Python 3 (ipykernel)",
   "language": "python",
   "name": "python3"
  },
  "language_info": {
   "codemirror_mode": {
    "name": "ipython",
    "version": 3
   },
   "file_extension": ".py",
   "mimetype": "text/x-python",
   "name": "python",
   "nbconvert_exporter": "python",
   "pygments_lexer": "ipython3",
   "version": "3.11.7"
  }
 },
 "nbformat": 4,
 "nbformat_minor": 5
}
