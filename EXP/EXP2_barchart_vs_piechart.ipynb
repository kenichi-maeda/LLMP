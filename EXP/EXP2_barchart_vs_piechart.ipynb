{
 "cells": [
  {
   "cell_type": "code",
   "execution_count": 1,
   "metadata": {},
   "outputs": [
    {
     "name": "stdout",
     "output_type": "stream",
     "text": [
      "%pylab is deprecated, use %matplotlib inline and import the required libraries.\n",
      "Populating the interactive namespace from numpy and matplotlib\n"
     ]
    }
   ],
   "source": [
    "%load_ext autoreload\n",
    "%pylab inline\n",
    "%autoreload 2\n",
    "    \n",
    "import sys\n",
    "sys.path.append('../')\n",
    "import LLMP as L"
   ]
  },
  {
   "cell_type": "markdown",
   "metadata": {},
   "source": [
    "Pie Chart vs Bar Chart"
   ]
  },
  {
   "cell_type": "code",
   "execution_count": 16,
   "metadata": {},
   "outputs": [
    {
     "name": "stdout",
     "output_type": "stream",
     "text": [
      "To provide the ratios of the lengths of each bar to the longest bar (assuming the longest bar is of length 1.0), I will visually estimate the proportions:\n",
      "\n",
      "1. The first bar from the left (the shortest) appears to be approximately 0.2 of the longest bar.\n",
      "2. The second bar seems to be about 0.4 of the longest bar.\n",
      "3. The third bar, which is the longest and contains the dot, is defined as 1.0.\n",
      "4. The fourth bar appears to be roughly 0.8 of the longest bar.\n",
      "5. The fifth and last bar looks to be around 0.6 of the longest bar.\n",
      "\n",
      "These estimations are based on visual assessment and may not be exact. GT: [1.0, 0.27272728, 0.75757575, 0.121212125, 0.8787879]\n"
     ]
    },
    {
     "data": {
      "image/png": "[encoded data removed]",
      "text/plain": [
       "<Figure size 640x480 with 1 Axes>"
      ]
     },
     "metadata": {},
     "output_type": "display_data"
    }
   ],
   "source": [
    "image, label = L.GPImage.figure3('bar')\n",
    "imshow(image, cmap='gray')\n",
    "\n",
    "question = 'What do you see? There are 5 bars in total, and the longest bar has a dot inside. Say the size of the longest bar is 1.0. Give me the ratio of length of each bar (excluding the longest bar) to the longest bar. The value should be from 0 to 1.'\n",
    "answer = L.ChatGPT.query(question, image)\n",
    "print(answer, 'GT:', label)"
   ]
  },
  {
   "cell_type": "code",
   "execution_count": 17,
   "metadata": {},
   "outputs": [
    {
     "data": {
      "text/plain": [
       "[0.2, 0.4, 1.0, 0.8, 0.6]"
      ]
     },
     "execution_count": 17,
     "metadata": {},
     "output_type": "execute_result"
    }
   ],
   "source": [
    "import re\n",
    "values = re.findall(r'(\\d+\\.\\d+)', answer)\n",
    "values = [float(val) for val in values]\n",
    "values.pop(0)\n",
    "values"
   ]
  },
  {
   "cell_type": "code",
   "execution_count": 18,
   "metadata": {},
   "outputs": [
    {
     "data": {
      "text/plain": [
       "[0.8,\n",
       " -0.1272727191448212,\n",
       " -0.24242424964904785,\n",
       " -0.6787878751754761,\n",
       " 0.2787878751754761]"
      ]
     },
     "execution_count": 18,
     "metadata": {},
     "output_type": "execute_result"
    }
   ],
   "source": [
    "error = []\n",
    "for x, y in zip(values, label):\n",
    "    error.append(y-x)\n",
    "error"
   ]
  },
  {
   "cell_type": "code",
   "execution_count": null,
   "metadata": {},
   "outputs": [],
   "source": []
  },
  {
   "cell_type": "code",
   "execution_count": 6,
   "metadata": {},
   "outputs": [
    {
     "name": "stdout",
     "output_type": "stream",
     "text": [
      "Based on the image you provided and considering the longest portion marked by the dot has an angle value of 1.0, here are my estimations for the ratios of the angles of each of the other portions, going counterclockwise:\n",
      "\n",
      "1.0 (longest portion with the dot)\n",
      "0.6 (next portion counterclockwise from the longest)\n",
      "0.85 (next portion)\n",
      "0.45 (next portion)\n",
      "0.3 (smallest portion)\n",
      "\n",
      "These values are approximate estimations, as precise angle measurements cannot be made from the image. GT: [1.0, 0.16216215, 0.3783784, 0.8648649, 0.2972973]\n"
     ]
    },
    {
     "data": {
      "image/png": "[encoded data removed]",
      "text/plain": [
       "<Figure size 640x480 with 1 Axes>"
      ]
     },
     "metadata": {},
     "output_type": "display_data"
    }
   ],
   "source": [
    "image, label = L.GPImage.figure3('pie')\n",
    "imshow(image, cmap='gray')\n",
    "\n",
    "question = 'What do you see? There are 5 portions in the pie, and the longest one has a dot inside. Say the angle of the longest portion is 1.0. Give me the ratio of angle of each portion (exclude the longest portion and go counter-clockwise from the longest one) to the longest portion.(So, the first value should be 1.0 which refers to the longest) Each value should be from 0 to 1. It does not have to be a precise calculation. Just give me your estimate.'\n",
    "answer = L.ChatGPT.query(question, image)\n",
    "print(answer, 'GT:', label)"
   ]
  },
  {
   "cell_type": "code",
   "execution_count": 13,
   "metadata": {},
   "outputs": [
    {
     "data": {
      "text/plain": [
       "[1.0, 0.6, 0.85, 0.45, 0.3]"
      ]
     },
     "execution_count": 13,
     "metadata": {},
     "output_type": "execute_result"
    }
   ],
   "source": [
    "import re\n",
    "values = re.findall(r'(\\d+\\.\\d+)', answer)\n",
    "values = [float(val) for val in values]\n",
    "values.pop(0)\n",
    "values"
   ]
  },
  {
   "cell_type": "code",
   "execution_count": 14,
   "metadata": {},
   "outputs": [
    {
     "data": {
      "text/plain": [
       "[0.0,\n",
       " -0.43783784508705137,\n",
       " -0.47162160873413084,\n",
       " 0.41486488580703734,\n",
       " -0.0027027010917663463]"
      ]
     },
     "execution_count": 14,
     "metadata": {},
     "output_type": "execute_result"
    }
   ],
   "source": [
    "error = []\n",
    "for x, y in zip(values, label):\n",
    "    error.append(y-x)\n",
    "error"
   ]
  }
 ],
 "metadata": {
  "kernelspec": {
   "display_name": "Python 3 (ipykernel)",
   "language": "python",
   "name": "python3"
  },
  "language_info": {
   "codemirror_mode": {
    "name": "ipython",
    "version": 3
   },
   "file_extension": ".py",
   "mimetype": "text/x-python",
   "name": "python",
   "nbconvert_exporter": "python",
   "pygments_lexer": "ipython3",
   "version": "3.11.3"
  }
 },
 "nbformat": 4,
 "nbformat_minor": 2
}
