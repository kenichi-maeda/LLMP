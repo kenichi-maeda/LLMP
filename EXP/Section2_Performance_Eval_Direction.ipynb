{
 "cells": [
  {
   "cell_type": "code",
   "execution_count": null,
   "id": "dd87a59e-89a4-4e3e-a876-b0fa33232c0d",
   "metadata": {},
   "outputs": [],
   "source": [
    "import sys\n",
    "sys.path.append('../')\n",
    "import LLMP as L\n",
    "import torch\n",
    "torch.torch.cuda.empty_cache()\n",
    "\n",
    "# Same question\n",
    "question = \"What do you see? You should see something like a cube in the image. The image itself is 100 by 100 pixels, \\\n",
    "            but suppose the cube exists in a 100 by 100 by 100 pixels space. Estimate the volume of the cube in pixels and \\\n",
    "            respond with a numerical range. It does not have to be perfectly precise; just give me your numerical estimation.\\\n",
    "            If you could estimate, answer shortly just with one sentence as 1000 pixels or 1000-1100 pixels\""
   ]
  },
  {
   "cell_type": "markdown",
   "id": "809cd993-1fde-4916-81bb-c2f6fd8b6271",
   "metadata": {},
   "source": [
    "#### Run1"
   ]
  },
  {
   "cell_type": "code",
   "execution_count": null,
   "id": "427598a0-d1cd-42de-8e7e-964b9e4bccff",
   "metadata": {},
   "outputs": [],
   "source": [
    "image, label = L.GPImage.figure1('volume')\n",
    "imshow(image, cmap='gray')\n",
    "\n",
    "ChatGPT_answer = L.ChatGPT.query(question, image)\n",
    "LLaVA_answer = L.LLaVA.query(question, image)\n",
    "CLLaVA_answer = L.CustomLLaVA.query(question, image)\n",
    "\n",
    "print('GT:          ', label)\n",
    "print('ChatGPT:     ', ChatGPT_answer)\n",
    "print('LLaVA:       ', LLaVA_answer)\n",
    "print('CustomLLaVA: ', CLLaVA_answer)"
   ]
  },
  {
   "cell_type": "markdown",
   "id": "feb39e00-7353-404b-8b99-f47cd0f4226e",
   "metadata": {},
   "source": [
    "#### Run2"
   ]
  },
  {
   "cell_type": "code",
   "execution_count": null,
   "id": "75beab05-4326-46d8-9c2a-9c41c097a204",
   "metadata": {},
   "outputs": [],
   "source": [
    "image, label = L.GPImage.figure1('volume')\n",
    "imshow(image, cmap='gray')\n",
    "\n",
    "ChatGPT_answer = L.ChatGPT.query(question, image)\n",
    "LLaVA_answer = L.LLaVA.query(question, image)\n",
    "CLLaVA_answer = L.CustomLLaVA.query(question, image)\n",
    "\n",
    "print('GT:          ', label)\n",
    "print('ChatGPT:     ', ChatGPT_answer)\n",
    "print('LLaVA:       ', LLaVA_answer)\n",
    "print('CustomLLaVA: ', CLLaVA_answer)"
   ]
  },
  {
   "cell_type": "markdown",
   "id": "bc385f3e-962d-46f1-a028-3de180caab58",
   "metadata": {},
   "source": [
    "#### Run3"
   ]
  },
  {
   "cell_type": "code",
   "execution_count": null,
   "id": "5a224343-fcb3-4a06-8fb0-923f49504c7e",
   "metadata": {},
   "outputs": [],
   "source": [
    "image, label = L.GPImage.figure1('volume')\n",
    "imshow(image, cmap='gray')\n",
    "\n",
    "ChatGPT_answer = L.ChatGPT.query(question, image)\n",
    "LLaVA_answer = L.LLaVA.query(question, image)\n",
    "CLLaVA_answer = L.CustomLLaVA.query(question, image)\n",
    "\n",
    "print('GT:          ', label)\n",
    "print('ChatGPT:     ', ChatGPT_answer)\n",
    "print('LLaVA:       ', LLaVA_answer)\n",
    "print('CustomLLaVA: ', CLLaVA_answer)"
   ]
  },
  {
   "cell_type": "markdown",
   "id": "ca1ffaf1-5acb-433d-9568-f1271ee3c73a",
   "metadata": {},
   "source": [
    "#### Run4"
   ]
  },
  {
   "cell_type": "code",
   "execution_count": null,
   "id": "f0e31b12-e057-4479-8ba2-34821d2ac8a4",
   "metadata": {},
   "outputs": [],
   "source": [
    "image, label = L.GPImage.figure1('volume')\n",
    "imshow(image, cmap='gray')\n",
    "\n",
    "ChatGPT_answer = L.ChatGPT.query(question, image)\n",
    "LLaVA_answer = L.LLaVA.query(question, image)\n",
    "CLLaVA_answer = L.CustomLLaVA.query(question, image)\n",
    "\n",
    "print('GT:          ', label)\n",
    "print('ChatGPT:     ', ChatGPT_answer)\n",
    "print('LLaVA:       ', LLaVA_answer)\n",
    "print('CustomLLaVA: ', CLLaVA_answer)"
   ]
  },
  {
   "cell_type": "markdown",
   "id": "25d94611-4af6-452c-be94-014a586d14b5",
   "metadata": {},
   "source": [
    "#### Run5"
   ]
  },
  {
   "cell_type": "code",
   "execution_count": null,
   "id": "059e4f57-fb09-4e3e-899e-151db897187d",
   "metadata": {},
   "outputs": [],
   "source": [
    "image, label = L.GPImage.figure1('volume')\n",
    "imshow(image, cmap='gray')\n",
    "\n",
    "ChatGPT_answer = L.ChatGPT.query(question, image)\n",
    "LLaVA_answer = L.LLaVA.query(question, image)\n",
    "CLLaVA_answer = L.CustomLLaVA.query(question, image)\n",
    "\n",
    "print('GT:          ', label)\n",
    "print('ChatGPT:     ', ChatGPT_answer)\n",
    "print('LLaVA:       ', LLaVA_answer)\n",
    "print('CustomLLaVA: ', CLLaVA_answer)"
   ]
  },
  {
   "cell_type": "markdown",
   "id": "021fb081-9036-4a1e-80f7-78e20c16b63b",
   "metadata": {},
   "source": [
    "#### Run6"
   ]
  },
  {
   "cell_type": "code",
   "execution_count": null,
   "id": "b5664e2c-2c4e-4544-a618-590e88a4642a",
   "metadata": {},
   "outputs": [],
   "source": [
    "image, label = L.GPImage.figure1('volume')\n",
    "imshow(image, cmap='gray')\n",
    "\n",
    "ChatGPT_answer = L.ChatGPT.query(question, image)\n",
    "LLaVA_answer = L.LLaVA.query(question, image)\n",
    "CLLaVA_answer = L.CustomLLaVA.query(question, image)\n",
    "\n",
    "print('GT:          ', label)\n",
    "print('ChatGPT:     ', ChatGPT_answer)\n",
    "print('LLaVA:       ', LLaVA_answer)\n",
    "print('CustomLLaVA: ', CLLaVA_answer)"
   ]
  },
  {
   "cell_type": "markdown",
   "id": "c708277e-f5aa-43db-8437-f3bc7d328050",
   "metadata": {},
   "source": [
    "#### Run7"
   ]
  },
  {
   "cell_type": "code",
   "execution_count": null,
   "id": "ee239303-720d-4312-8508-4e379b0536cf",
   "metadata": {},
   "outputs": [],
   "source": [
    "image, label = L.GPImage.figure1('volume')\n",
    "imshow(image, cmap='gray')\n",
    "\n",
    "ChatGPT_answer = L.ChatGPT.query(question, image)\n",
    "LLaVA_answer = L.LLaVA.query(question, image)\n",
    "CLLaVA_answer = L.CustomLLaVA.query(question, image)\n",
    "\n",
    "print('GT:          ', label)\n",
    "print('ChatGPT:     ', ChatGPT_answer)\n",
    "print('LLaVA:       ', LLaVA_answer)\n",
    "print('CustomLLaVA: ', CLLaVA_answer)"
   ]
  },
  {
   "cell_type": "markdown",
   "id": "892f87d2-1292-4489-921e-69be2faf4082",
   "metadata": {},
   "source": [
    "#### Run8"
   ]
  },
  {
   "cell_type": "code",
   "execution_count": null,
   "id": "d7a65183-47b4-428b-9b18-69dacad093ae",
   "metadata": {},
   "outputs": [],
   "source": [
    "image, label = L.GPImage.figure1('volume')\n",
    "imshow(image, cmap='gray')\n",
    "\n",
    "ChatGPT_answer = L.ChatGPT.query(question, image)\n",
    "LLaVA_answer = L.LLaVA.query(question, image)\n",
    "CLLaVA_answer = L.CustomLLaVA.query(question, image)\n",
    "\n",
    "print('GT:          ', label)\n",
    "print('ChatGPT:     ', ChatGPT_answer)\n",
    "print('LLaVA:       ', LLaVA_answer)\n",
    "print('CustomLLaVA: ', CLLaVA_answer)"
   ]
  },
  {
   "cell_type": "markdown",
   "id": "e8510e36-fbaa-4c12-beb5-2a5043b6506a",
   "metadata": {},
   "source": [
    "#### Run9"
   ]
  },
  {
   "cell_type": "code",
   "execution_count": null,
   "id": "c54d4470-348d-45d9-b177-ab7fe3aea776",
   "metadata": {},
   "outputs": [],
   "source": [
    "image, label = L.GPImage.figure1('volume')\n",
    "imshow(image, cmap='gray')\n",
    "\n",
    "ChatGPT_answer = L.ChatGPT.query(question, image)\n",
    "LLaVA_answer = L.LLaVA.query(question, image)\n",
    "CLLaVA_answer = L.CustomLLaVA.query(question, image)\n",
    "\n",
    "print('GT:          ', label)\n",
    "print('ChatGPT:     ', ChatGPT_answer)\n",
    "print('LLaVA:       ', LLaVA_answer)\n",
    "print('CustomLLaVA: ', CLLaVA_answer)"
   ]
  },
  {
   "cell_type": "markdown",
   "id": "4628140c-554a-4a32-af01-bcba58c95f77",
   "metadata": {},
   "source": [
    "#### Run10"
   ]
  },
  {
   "cell_type": "code",
   "execution_count": null,
   "id": "74150e2f-d39f-4401-b1ff-446be2c8adff",
   "metadata": {},
   "outputs": [],
   "source": [
    "image, label = L.GPImage.figure1('volume')\n",
    "imshow(image, cmap='gray')\n",
    "\n",
    "ChatGPT_answer = L.ChatGPT.query(question, image)\n",
    "LLaVA_answer = L.LLaVA.query(question, image)\n",
    "CLLaVA_answer = L.CustomLLaVA.query(question, image)\n",
    "\n",
    "print('GT:          ', label)\n",
    "print('ChatGPT:     ', ChatGPT_answer)\n",
    "print('LLaVA:       ', LLaVA_answer)\n",
    "print('CustomLLaVA: ', CLLaVA_answer)"
   ]
  },
  {
   "cell_type": "code",
   "execution_count": null,
   "id": "d0cb8c0d-1826-40df-846b-3b73a9b9c227",
   "metadata": {},
   "outputs": [],
   "source": []
  }
 ],
 "metadata": {
  "kernelspec": {
   "display_name": "Python 3 (ipykernel)",
   "language": "python",
   "name": "python3"
  },
  "language_info": {
   "codemirror_mode": {
    "name": "ipython",
    "version": 3
   },
   "file_extension": ".py",
   "mimetype": "text/x-python",
   "name": "python",
   "nbconvert_exporter": "python",
   "pygments_lexer": "ipython3",
   "version": "3.11.7"
  }
 },
 "nbformat": 4,
 "nbformat_minor": 5
}
