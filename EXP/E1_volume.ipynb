{
 "cells": [
  {
   "cell_type": "code",
   "execution_count": 1,
   "metadata": {},
   "outputs": [
    {
     "name": "stdout",
     "output_type": "stream",
     "text": [
      "%pylab is deprecated, use %matplotlib inline and import the required libraries.\n",
      "Populating the interactive namespace from numpy and matplotlib\n"
     ]
    }
   ],
   "source": [
    "%load_ext autoreload\n",
    "%pylab inline\n",
    "%autoreload 2\n",
    "    \n",
    "import sys\n",
    "sys.path.append('../')\n",
    "import LLMP as L"
   ]
  },
  {
   "cell_type": "code",
   "execution_count": 11,
   "metadata": {},
   "outputs": [
    {
     "name": "stdout",
     "output_type": "stream",
     "text": [
      "The image shows a simple line drawing of a cube. Estimating its volume without any specific dimensions provided is subjective, but since you've mentioned it exists within a 100 x 100 x 100 pixel space, I'll base it on the proportion of the cube in the image compared to the full space.\n",
      "\n",
      "Visually, the cube appears to take up roughly between 1/4 to 1/3 of the space in each dimension seen in the image. Without precise measurements, if we assume each side of the cube appears to be about 25 to 33 pixels in the provided 2-dimensional projection, and we extrapolate that to the third dimension, we could estimate the volume to range from around:\n",
      "\n",
      "- Minimum volume estimate: 25 x 25 x 25 = 15,625 pixels³\n",
      "- Maximum volume estimate: 33 x 33 x 33 = 35,937 pixels³\n",
      "\n",
      "So, the estimated volume of the cube would be somewhere between 15,625 and 35,937 cubic pixels. Please note that this is a very rough estimate, and the actual proportions when considering perspective could be different. GT: 4096\n"
     ]
    },
    {
     "data": {
      "image/png": "[encoded data removed]",
      "text/plain": [
       "<Figure size 640x480 with 1 Axes>"
      ]
     },
     "metadata": {},
     "output_type": "display_data"
    }
   ],
   "source": [
    "image, label = L.GPImage.figure1('volume')\n",
    "imshow(image, cmap='gray')\n",
    "\n",
    "question = 'What do you see? You should see something like a cube in the image. The image itself is 100 by 100 pixels, but suppose the cube exists in a 100 by 100 by 100 pixels space. Estimate the volume of the cube in pixel. IT DOES NOT HAVE TO BE PRECISE. JUST give me the range'\n",
    "answer = L.ChatGPT.query(question, image)\n",
    "print(answer, 'GT:', label)"
   ]
  },
  {
   "cell_type": "code",
   "execution_count": 20,
   "metadata": {},
   "outputs": [],
   "source": [
    "import re\n",
    "matches = re.findall(r'(\\d{1,3}(?:,\\d{3})*)(?:\\s*pixels³)', answer)\n",
    "\n",
    "range = [int(match.replace(',', '')) for match in matches]"
   ]
  },
  {
   "cell_type": "code",
   "execution_count": 21,
   "metadata": {},
   "outputs": [
    {
     "data": {
      "text/plain": [
       "[15625, 35937]"
      ]
     },
     "execution_count": 21,
     "metadata": {},
     "output_type": "execute_result"
    }
   ],
   "source": [
    "range"
   ]
  },
  {
   "cell_type": "code",
   "execution_count": 22,
   "metadata": {},
   "outputs": [
    {
     "data": {
      "text/plain": [
       "[-11529, -31841]"
      ]
     },
     "execution_count": 22,
     "metadata": {},
     "output_type": "execute_result"
    }
   ],
   "source": [
    "error_range = [label-r for r in range]\n",
    "error_range"
   ]
  }
 ],
 "metadata": {
  "kernelspec": {
   "display_name": "Python 3 (ipykernel)",
   "language": "python",
   "name": "python3"
  },
  "language_info": {
   "codemirror_mode": {
    "name": "ipython",
    "version": 3
   },
   "file_extension": ".py",
   "mimetype": "text/x-python",
   "name": "python",
   "nbconvert_exporter": "python",
   "pygments_lexer": "ipython3",
   "version": "3.11.3"
  }
 },
 "nbformat": 4,
 "nbformat_minor": 4
}
