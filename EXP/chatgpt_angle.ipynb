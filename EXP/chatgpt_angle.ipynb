{
 "cells": [
  {
   "cell_type": "code",
   "execution_count": 1,
   "metadata": {},
   "outputs": [
    {
     "name": "stdout",
     "output_type": "stream",
     "text": [
      "%pylab is deprecated, use %matplotlib inline and import the required libraries.\n",
      "Populating the interactive namespace from numpy and matplotlib\n"
     ]
    }
   ],
   "source": [
    "%matplotlib inline\n",
    "%load_ext autoreload\n",
    "%autoreload 2\n",
    "    \n",
    "import sys\n",
    "sys.path.append('../')\n",
    "import LLMP as L"
   ]
  },
  {
   "cell_type": "code",
   "execution_count": 94,
   "metadata": {},
   "outputs": [
    {
     "name": "stdout",
     "output_type": "stream",
     "text": [
      "45-60 degrees GT: 76\n"
     ]
    },
    {
     "data": {
      "image/png": "[encoded data removed]",
      "text/plain": [
       "<Figure size 640x480 with 1 Axes>"
      ]
     },
     "metadata": {},
     "output_type": "display_data"
    }
   ],
   "source": [
    "image, label = L.GPImage.figure1('angle')\n",
    "imshow(image, cmap='gray')\n",
    "\n",
    "question = 'What do you see? If you see an angle, can you estimate it? Please respond with just the range'\n",
    "answer = L.ChatGPT.query(question, image)\n",
    "print(answer, 'GT:', label)"
   ]
  },
  {
   "cell_type": "code",
   "execution_count": 82,
   "metadata": {},
   "outputs": [],
   "source": [
    "import re\n",
    "range = re.findall(r'\\d+', answer)\n",
    "range = [int(r) for r in range]"
   ]
  },
  {
   "cell_type": "code",
   "execution_count": 83,
   "metadata": {},
   "outputs": [
    {
     "data": {
      "text/plain": [
       "[45, 60]"
      ]
     },
     "execution_count": 83,
     "metadata": {},
     "output_type": "execute_result"
    }
   ],
   "source": [
    "range"
   ]
  },
  {
   "cell_type": "code",
   "execution_count": 84,
   "metadata": {},
   "outputs": [
    {
     "data": {
      "text/plain": [
       "[9, -6]"
      ]
     },
     "execution_count": 84,
     "metadata": {},
     "output_type": "execute_result"
    }
   ],
   "source": [
    "error_range = [label-r for r in range]\n",
    "error_range"
   ]
  },
  {
   "cell_type": "code",
   "execution_count": 85,
   "metadata": {},
   "outputs": [
    {
     "ename": "NameError",
     "evalue": "name 'Util' is not defined",
     "output_type": "error",
     "traceback": [
      "\u001b[0;31m---------------------------------------------------------------------------\u001b[0m",
      "\u001b[0;31mNameError\u001b[0m                                 Traceback (most recent call last)",
      "Cell \u001b[0;32mIn[85], line 1\u001b[0m\n\u001b[0;32m----> 1\u001b[0m image, label \u001b[38;5;241m=\u001b[39m L\u001b[38;5;241m.\u001b[39mGPImage\u001b[38;5;241m.\u001b[39mfigure1(\u001b[38;5;124m'\u001b[39m\u001b[38;5;124mlength\u001b[39m\u001b[38;5;124m'\u001b[39m)\n\u001b[1;32m      2\u001b[0m imshow(image, cmap\u001b[38;5;241m=\u001b[39m\u001b[38;5;124m'\u001b[39m\u001b[38;5;124mgray\u001b[39m\u001b[38;5;124m'\u001b[39m)\n\u001b[1;32m      4\u001b[0m question \u001b[38;5;241m=\u001b[39m \u001b[38;5;124m'\u001b[39m\u001b[38;5;124mWhat do you see?\u001b[39m\u001b[38;5;124m'\u001b[39m\n",
      "File \u001b[0;32m~/Projects/LLMP/EXP/../LLMP/gpimage.py:19\u001b[0m, in \u001b[0;36mGPImage.figure1\u001b[0;34m(task)\u001b[0m\n\u001b[1;32m      9\u001b[0m \u001b[38;5;129m@staticmethod\u001b[39m\n\u001b[1;32m     10\u001b[0m \u001b[38;5;28;01mdef\u001b[39;00m \u001b[38;5;21mfigure1\u001b[39m(task):\n\u001b[1;32m     11\u001b[0m     \u001b[38;5;28;01mmatch\u001b[39;00m task:\n\u001b[1;32m     12\u001b[0m         \u001b[38;5;28;01mcase\u001b[39;00m \u001b[38;5;124m\"\u001b[39m\u001b[38;5;124mangle\u001b[39m\u001b[38;5;124m\"\u001b[39m:\n\u001b[1;32m     13\u001b[0m             sparse, image, label, parameters \u001b[38;5;241m=\u001b[39m Figure1\u001b[38;5;241m.\u001b[39mangle()\n\u001b[1;32m     14\u001b[0m \n\u001b[1;32m     15\u001b[0m         \u001b[38;5;28;01mcase\u001b[39;00m \u001b[38;5;124m\"\u001b[39m\u001b[38;5;124mposition_common_scale\u001b[39m\u001b[38;5;124m\"\u001b[39m:\n\u001b[1;32m     16\u001b[0m             sparse, image, label, parameters \u001b[38;5;241m=\u001b[39m Figure1\u001b[38;5;241m.\u001b[39mposition_common_scale()\n\u001b[1;32m     17\u001b[0m \n\u001b[1;32m     18\u001b[0m         \u001b[38;5;28;01mcase\u001b[39;00m \u001b[38;5;124m\"\u001b[39m\u001b[38;5;124mlength\u001b[39m\u001b[38;5;124m\"\u001b[39m:\n\u001b[0;32m---> 19\u001b[0m             sparse, image, label, parameters \u001b[38;5;241m=\u001b[39m Figure1\u001b[38;5;241m.\u001b[39mlength([\u001b[38;5;28;01mFalse\u001b[39;00m, \u001b[38;5;28;01mFalse\u001b[39;00m, \u001b[38;5;28;01mFalse\u001b[39;00m])\n\u001b[1;32m     20\u001b[0m \n\u001b[1;32m     21\u001b[0m         \u001b[38;5;28;01mcase\u001b[39;00m \u001b[38;5;124m\"\u001b[39m\u001b[38;5;124mdirection\u001b[39m\u001b[38;5;124m\"\u001b[39m:\n\u001b[1;32m     22\u001b[0m             sparse, image, label, parameters \u001b[38;5;241m=\u001b[39m Figure1\u001b[38;5;241m.\u001b[39mdirection()\n\u001b[1;32m     23\u001b[0m \n\u001b[1;32m     24\u001b[0m         \u001b[38;5;28;01mcase\u001b[39;00m \u001b[38;5;124m\"\u001b[39m\u001b[38;5;124marea\u001b[39m\u001b[38;5;124m\"\u001b[39m:\n\u001b[1;32m     25\u001b[0m             sparse, image, label, parameters \u001b[38;5;241m=\u001b[39m Figure1\u001b[38;5;241m.\u001b[39marea()\n\u001b[1;32m     26\u001b[0m     \n\u001b[1;32m     27\u001b[0m         \u001b[38;5;28;01mcase\u001b[39;00m \u001b[38;5;124m\"\u001b[39m\u001b[38;5;124mvolume\u001b[39m\u001b[38;5;124m\"\u001b[39m:\n\u001b[1;32m     28\u001b[0m             sparse, image, label, parameters \u001b[38;5;241m=\u001b[39m Figure1\u001b[38;5;241m.\u001b[39mvolume()\n\u001b[1;32m     29\u001b[0m \n\u001b[1;32m     30\u001b[0m         \u001b[38;5;28;01mcase\u001b[39;00m \u001b[38;5;124m\"\u001b[39m\u001b[38;5;124mcurvature\u001b[39m\u001b[38;5;124m\"\u001b[39m:\n\u001b[1;32m     31\u001b[0m             sparse, image, label, parameters \u001b[38;5;241m=\u001b[39m Figure1\u001b[38;5;241m.\u001b[39mcurvature()\n\u001b[1;32m     32\u001b[0m \n\u001b[1;32m     33\u001b[0m         \u001b[38;5;28;01mcase\u001b[39;00m \u001b[38;5;124m\"\u001b[39m\u001b[38;5;124mshading\u001b[39m\u001b[38;5;124m\"\u001b[39m:\n\u001b[1;32m     34\u001b[0m             sparse, image, label, parameters \u001b[38;5;241m=\u001b[39m Figure1\u001b[38;5;241m.\u001b[39mshading()\n\u001b[1;32m     36\u001b[0m     \u001b[38;5;28;01mreturn\u001b[39;00m image, label\n",
      "File \u001b[0;32m~/Projects/LLMP/EXP/../LLMP/ClevelandMcGill/figure1.py:141\u001b[0m, in \u001b[0;36mFigure1.length\u001b[0;34m(flags, preset)\u001b[0m\n\u001b[1;32m    138\u001b[0m Y_RANGE \u001b[38;5;241m=\u001b[39m (Figure1\u001b[38;5;241m.\u001b[39mDELTA_MIN, Figure1\u001b[38;5;241m.\u001b[39mDELTA_MAX)\n\u001b[1;32m    139\u001b[0m X_RANGE \u001b[38;5;241m=\u001b[39m (Figure1\u001b[38;5;241m.\u001b[39mDELTA_MIN, Figure1\u001b[38;5;241m.\u001b[39mDELTA_MAX)\n\u001b[0;32m--> 141\u001b[0m LENGTH, p \u001b[38;5;241m=\u001b[39m Util\u001b[38;5;241m.\u001b[39mparameter(\u001b[38;5;241m1\u001b[39m, Y_RANGE[\u001b[38;5;241m1\u001b[39m]\u001b[38;5;241m-\u001b[39mY_RANGE[\u001b[38;5;241m0\u001b[39m]\u001b[38;5;241m+\u001b[39m\u001b[38;5;241m1\u001b[39m) \u001b[38;5;66;03m# 1..60\u001b[39;00m\n\u001b[1;32m    142\u001b[0m parameters \u001b[38;5;241m*\u001b[39m\u001b[38;5;241m=\u001b[39m p\n\u001b[1;32m    144\u001b[0m \u001b[38;5;28;01mif\u001b[39;00m preset:\n",
      "\u001b[0;31mNameError\u001b[0m: name 'Util' is not defined"
     ]
    }
   ],
   "source": [
    "image, label = L.GPImage.figure1('length')\n",
    "imshow(image, cmap='gray')\n",
    "\n",
    "question = 'What do you see?'\n",
    "answer = L.ChatGPT.query(question, image)\n",
    "print(answer, 'GT:', label)"
   ]
  },
  {
   "cell_type": "code",
   "execution_count": null,
   "metadata": {},
   "outputs": [],
   "source": []
  }
 ],
 "metadata": {
  "kernelspec": {
   "display_name": "Python 3 (ipykernel)",
   "language": "python",
   "name": "python3"
  },
  "language_info": {
   "codemirror_mode": {
    "name": "ipython",
    "version": 3
   },
   "file_extension": ".py",
   "mimetype": "text/x-python",
   "name": "python",
   "nbconvert_exporter": "python",
   "pygments_lexer": "ipython3",
   "version": "3.11.7"
  }
 },
 "nbformat": 4,
 "nbformat_minor": 4
}
