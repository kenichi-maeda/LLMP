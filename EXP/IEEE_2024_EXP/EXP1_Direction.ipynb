{
 "cells": [
  {
   "cell_type": "code",
   "execution_count": 1,
   "id": "fb820685-516b-49a4-9f3d-754c65fba73e",
   "metadata": {},
   "outputs": [
    {
     "name": "stdout",
     "output_type": "stream",
     "text": [
      "[2024-04-15 21:07:40,358] [INFO] [real_accelerator.py:191:get_accelerator] Setting ds_accelerator to cuda (auto detect)\n"
     ]
    },
    {
     "name": "stderr",
     "output_type": "stream",
     "text": [
      "You are using a model of type llava to instantiate a model of type llava_llama. This is not supported for all configurations of models and can yield errors.\n"
     ]
    },
    {
     "data": {
      "application/vnd.jupyter.widget-view+json": {
       "model_id": "fff125b66f7a4ff2bb7e5c5458e69892",
       "version_major": 2,
       "version_minor": 0
      },
      "text/plain": [
       "Loading checkpoint shards:   0%|          | 0/2 [00:00<?, ?it/s]"
      ]
     },
     "metadata": {},
     "output_type": "display_data"
    },
    {
     "name": "stderr",
     "output_type": "stream",
     "text": [
      "/home/kenichi.maeda001/anaconda3/envs/LLMP/lib/python3.11/site-packages/transformers/generation/configuration_utils.py:389: UserWarning: `do_sample` is set to `False`. However, `temperature` is set to `0` -- this flag is only used in sample-based generation modes. You should set `do_sample=True` or unset `temperature`.\n",
      "  warnings.warn(\n",
      "/home/kenichi.maeda001/anaconda3/envs/LLMP/lib/python3.11/site-packages/transformers/generation/configuration_utils.py:394: UserWarning: `do_sample` is set to `False`. However, `top_p` is set to `None` -- this flag is only used in sample-based generation modes. You should set `do_sample=True` or unset `top_p`.\n",
      "  warnings.warn(\n",
      "You are using a model of type llava to instantiate a model of type llava_llama. This is not supported for all configurations of models and can yield errors.\n"
     ]
    },
    {
     "data": {
      "application/vnd.jupyter.widget-view+json": {
       "model_id": "68019e3338da428cadb40a5b1fee4435",
       "version_major": 2,
       "version_minor": 0
      },
      "text/plain": [
       "Loading checkpoint shards:   0%|          | 0/2 [00:00<?, ?it/s]"
      ]
     },
     "metadata": {},
     "output_type": "display_data"
    },
    {
     "name": "stderr",
     "output_type": "stream",
     "text": [
      "You are using a model of type llava to instantiate a model of type llava_llama. This is not supported for all configurations of models and can yield errors.\n"
     ]
    },
    {
     "data": {
      "application/vnd.jupyter.widget-view+json": {
       "model_id": "f315ea16dcc749da86d95bcff9fff646",
       "version_major": 2,
       "version_minor": 0
      },
      "text/plain": [
       "Loading checkpoint shards:   0%|          | 0/2 [00:00<?, ?it/s]"
      ]
     },
     "metadata": {},
     "output_type": "display_data"
    },
    {
     "name": "stderr",
     "output_type": "stream",
     "text": [
      "You are using a model of type llava to instantiate a model of type llava_llama. This is not supported for all configurations of models and can yield errors.\n"
     ]
    },
    {
     "data": {
      "application/vnd.jupyter.widget-view+json": {
       "model_id": "9c088bf42d6844ce802f292182fbd717",
       "version_major": 2,
       "version_minor": 0
      },
      "text/plain": [
       "Loading checkpoint shards:   0%|          | 0/2 [00:00<?, ?it/s]"
      ]
     },
     "metadata": {},
     "output_type": "display_data"
    },
    {
     "name": "stderr",
     "output_type": "stream",
     "text": [
      "You are using a model of type llava to instantiate a model of type llava_llama. This is not supported for all configurations of models and can yield errors.\n"
     ]
    },
    {
     "data": {
      "application/vnd.jupyter.widget-view+json": {
       "model_id": "c9a0d2c14664444bb60fa562c4834300",
       "version_major": 2,
       "version_minor": 0
      },
      "text/plain": [
       "Loading checkpoint shards:   0%|          | 0/2 [00:00<?, ?it/s]"
      ]
     },
     "metadata": {},
     "output_type": "display_data"
    },
    {
     "name": "stderr",
     "output_type": "stream",
     "text": [
      "You are using a model of type llava to instantiate a model of type llava_llama. This is not supported for all configurations of models and can yield errors.\n"
     ]
    },
    {
     "data": {
      "application/vnd.jupyter.widget-view+json": {
       "model_id": "cf7bf804c1d94217be5447568215751b",
       "version_major": 2,
       "version_minor": 0
      },
      "text/plain": [
       "Loading checkpoint shards:   0%|          | 0/2 [00:00<?, ?it/s]"
      ]
     },
     "metadata": {},
     "output_type": "display_data"
    },
    {
     "name": "stderr",
     "output_type": "stream",
     "text": [
      "You are using a model of type llava to instantiate a model of type llava_llama. This is not supported for all configurations of models and can yield errors.\n"
     ]
    },
    {
     "data": {
      "application/vnd.jupyter.widget-view+json": {
       "model_id": "e231d8ec7ca749f0a2cf4d9637b5cdc8",
       "version_major": 2,
       "version_minor": 0
      },
      "text/plain": [
       "Loading checkpoint shards:   0%|          | 0/2 [00:00<?, ?it/s]"
      ]
     },
     "metadata": {},
     "output_type": "display_data"
    },
    {
     "name": "stderr",
     "output_type": "stream",
     "text": [
      "You are using a model of type llava to instantiate a model of type llava_llama. This is not supported for all configurations of models and can yield errors.\n"
     ]
    },
    {
     "data": {
      "application/vnd.jupyter.widget-view+json": {
       "model_id": "14f3b5bf23aa4b848a77bcf958d7fa74",
       "version_major": 2,
       "version_minor": 0
      },
      "text/plain": [
       "Loading checkpoint shards:   0%|          | 0/2 [00:00<?, ?it/s]"
      ]
     },
     "metadata": {},
     "output_type": "display_data"
    },
    {
     "name": "stderr",
     "output_type": "stream",
     "text": [
      "You are using a model of type llava to instantiate a model of type llava_llama. This is not supported for all configurations of models and can yield errors.\n"
     ]
    },
    {
     "data": {
      "application/vnd.jupyter.widget-view+json": {
       "model_id": "4039fd6d81d94d19a883eb58c64bb1bd",
       "version_major": 2,
       "version_minor": 0
      },
      "text/plain": [
       "Loading checkpoint shards:   0%|          | 0/2 [00:00<?, ?it/s]"
      ]
     },
     "metadata": {},
     "output_type": "display_data"
    },
    {
     "name": "stderr",
     "output_type": "stream",
     "text": [
      "You are using a model of type llava to instantiate a model of type llava_llama. This is not supported for all configurations of models and can yield errors.\n"
     ]
    },
    {
     "data": {
      "application/vnd.jupyter.widget-view+json": {
       "model_id": "e7ddd6aa98ed4532a5260bebd9d3e9eb",
       "version_major": 2,
       "version_minor": 0
      },
      "text/plain": [
       "Loading checkpoint shards:   0%|          | 0/2 [00:00<?, ?it/s]"
      ]
     },
     "metadata": {},
     "output_type": "display_data"
    },
    {
     "name": "stdout",
     "output_type": "stream",
     "text": [
      "{'gt': [6, 258, 188, 247, 34, 256, 162, 152, 60, 157], 'ChatGPT': {'parameters': None, 'raw_answers': ['270-280', '270-280', '315-325', '310-320', '45-55', '45-55', '45-55', '310-320', '45-55', '310-320'], 'parsed_answers': [[270, 280], [270, 280], [315, 325], [310, 320], [45, 55], [45, 55], [45, 55], [310, 320], [45, 55], [310, 320]], 'mse': 20156.7, 'mlae': 13.49061588077814, 'times': [2051.939010620117, 1424.9780178070068, 1482.6960563659668, 893.0087089538574, 1206.5625190734863, 2563.480854034424, 965.2554988861084, 2259.2391967773438, 899.5664119720459, 1028.7728309631348], 'forced_repetitions': 0}, 'LLaVA': {'parameters': None, 'raw_answers': ['Yes, I can see a line in the image. The line is pointing upwards, and I estimate its direction to be around 45 degrees.', 'Yes, I can see a line in the image. The line is pointing upwards, and I estimate its direction to be around 45 degrees.', 'Yes, I can see a line in the image. The line is pointing upwards, and I estimate its direction to be around 45 degrees.', 'Yes, I can see a line in the image. The line is pointing upwards, and I estimate its direction to be around 45 degrees.', 'Yes, I can see a line in the image. The line is pointing upwards, and I estimate its direction to be around 45-55 degrees.', 'Yes, I can see a line in the image. The line is pointing upwards, and I estimate its direction to be around 45 degrees.', 'Yes, I see a line in the image. The line is pointing upwards, and I estimate its direction to be around 45 degrees.', 'Yes, I see a line in the image. The line is pointing upwards, and I can estimate its direction to be approximately 45-55 degrees.', 'Yes, I can estimate the direction of the line. It is pointing upwards, approximately 45 degrees.', 'Yes, I see a line in the image. The line is pointing upwards, and I can estimate its direction to be approximately 45 degrees.'], 'parsed_answers': [[45], [45], [45], [45], [45, 55], [45], [45], [45, 55], [45], [45]], 'mse': 18978.2, 'mlae': 13.514236322684349, 'times': [22046.11611366272, 8169.105768203735, 7356.183290481567, 8247.62773513794, 7713.664770126343, 7529.2768478393555, 7429.266929626465, 7832.080841064453, 7292.07968711853, 7674.89767074585], 'forced_repetitions': 0}, 'CustomLLaVA': {'parameters': None, 'raw_answers': ['177', '179', '179', '171', '233', '139', '170', '179', '277', '139'], 'parsed_answers': [[177], [179], [179], [171], [233], [139], [170], [179], [277], [139]], 'mse': 14283.5, 'mlae': 13.16900502139741, 'times': [20794.25573348999, 19007.45153427124, 19245.80216407776, 19922.61028289795, 19260.993003845215, 20368.183374404907, 20086.655139923096, 20296.912908554077, 19728.179454803467, 19831.852912902832], 'forced_repetitions': 0}}\n"
     ]
    }
   ],
   "source": [
    "import sys\n",
    "sys.path.append('../')\n",
    "import LLMP as L\n",
    "import torch\n",
    "torch.torch.cuda.empty_cache()\n",
    "\n",
    "query = \"What do you see? If you see a line, can you estimate the direction of it in degree (0 to 360)? Please respond with just a numerical range not larger than 10 degrees (e.g., 180-190)\"\n",
    "images = [L.GPImage.figure1('direction') for i in range(10)]\n",
    "models = [\"ChatGPT\", \"LLaVA\", \"CustomLLaVA\"]\n",
    "\n",
    "results = L.Evaluator.run(images, query, models)\n",
    "print(results)"
   ]
  },
  {
   "cell_type": "code",
   "execution_count": 2,
   "id": "618c5022-c0ec-44d2-b448-5dbf79fe59d8",
   "metadata": {},
   "outputs": [],
   "source": [
    "chatGPT_mse = results[\"ChatGPT\"][\"mse\"]\n",
    "chatGPT_mlae = results[\"ChatGPT\"][\"mlae\"]\n",
    "llava_mse = results[\"LLaVA\"][\"mse\"]\n",
    "llava_mlae = results[\"LLaVA\"][\"mlae\"]\n",
    "custom_llava_mse = results[\"CustomLLaVA\"][\"mse\"]\n",
    "custom_llava_mlae = results[\"CustomLLaVA\"][\"mlae\"]"
   ]
  },
  {
   "cell_type": "code",
   "execution_count": 3,
   "id": "bf877b53-005d-4ebc-a27c-44c0668dec08",
   "metadata": {},
   "outputs": [
    {
     "name": "stdout",
     "output_type": "stream",
     "text": [
      "ChatGPT mse:  20156.7\n",
      "ChatGPT mlae: 13.49061588077814\n",
      "LLaVA mse:    18978.2\n",
      "LLaVA mlae:   13.514236322684349\n",
      "CLLaVA mse:   14283.5\n",
      "CLLaVA mlae:  13.16900502139741\n"
     ]
    }
   ],
   "source": [
    "print(\"ChatGPT mse: \", chatGPT_mse)\n",
    "print(\"ChatGPT mlae:\", chatGPT_mlae)\n",
    "print(\"LLaVA mse:   \", llava_mse)\n",
    "print(\"LLaVA mlae:  \", llava_mlae)\n",
    "print(\"CLLaVA mse:  \", custom_llava_mse)\n",
    "print(\"CLLaVA mlae: \", custom_llava_mlae)"
   ]
  },
  {
   "cell_type": "code",
   "execution_count": null,
   "id": "f4a27c90-7d30-48e4-807b-e3affea94647",
   "metadata": {},
   "outputs": [],
   "source": []
  },
  {
   "cell_type": "code",
   "execution_count": null,
   "id": "77964d3b-c0b9-475c-a5b3-84ba370c8a19",
   "metadata": {},
   "outputs": [],
   "source": []
  },
  {
   "cell_type": "code",
   "execution_count": null,
   "id": "f30c5ae1-55f0-43ca-b0ef-829607e44eb5",
   "metadata": {},
   "outputs": [],
   "source": []
  },
  {
   "cell_type": "code",
   "execution_count": 2,
   "id": "e42cad2f-120b-41a5-88a6-c25e920317cc",
   "metadata": {},
   "outputs": [
    {
     "name": "stdout",
     "output_type": "stream",
     "text": [
      "[2024-04-21 07:19:45,729] [INFO] [real_accelerator.py:191:get_accelerator] Setting ds_accelerator to cuda (auto detect)\n"
     ]
    },
    {
     "name": "stderr",
     "output_type": "stream",
     "text": [
      "You are using a model of type llava to instantiate a model of type llava_llama. This is not supported for all configurations of models and can yield errors.\n"
     ]
    },
    {
     "data": {
      "application/vnd.jupyter.widget-view+json": {
       "model_id": "e20877756919497faada1d4461dcd34e",
       "version_major": 2,
       "version_minor": 0
      },
      "text/plain": [
       "Loading checkpoint shards:   0%|          | 0/2 [00:00<?, ?it/s]"
      ]
     },
     "metadata": {},
     "output_type": "display_data"
    },
    {
     "name": "stderr",
     "output_type": "stream",
     "text": [
      "/home/kenichi.maeda001/anaconda3/envs/LLMP/lib/python3.11/site-packages/transformers/generation/configuration_utils.py:389: UserWarning: `do_sample` is set to `False`. However, `temperature` is set to `0` -- this flag is only used in sample-based generation modes. You should set `do_sample=True` or unset `temperature`.\n",
      "  warnings.warn(\n",
      "/home/kenichi.maeda001/anaconda3/envs/LLMP/lib/python3.11/site-packages/transformers/generation/configuration_utils.py:394: UserWarning: `do_sample` is set to `False`. However, `top_p` is set to `None` -- this flag is only used in sample-based generation modes. You should set `do_sample=True` or unset `top_p`.\n",
      "  warnings.warn(\n",
      "You are using a model of type llava to instantiate a model of type llava_llama. This is not supported for all configurations of models and can yield errors.\n"
     ]
    },
    {
     "data": {
      "application/vnd.jupyter.widget-view+json": {
       "model_id": "97e34104bbb94a4eab012b810f1e512e",
       "version_major": 2,
       "version_minor": 0
      },
      "text/plain": [
       "Loading checkpoint shards:   0%|          | 0/2 [00:00<?, ?it/s]"
      ]
     },
     "metadata": {},
     "output_type": "display_data"
    },
    {
     "name": "stderr",
     "output_type": "stream",
     "text": [
      "You are using a model of type llava to instantiate a model of type llava_llama. This is not supported for all configurations of models and can yield errors.\n"
     ]
    },
    {
     "data": {
      "application/vnd.jupyter.widget-view+json": {
       "model_id": "f3040213657748f386872403295a09d7",
       "version_major": 2,
       "version_minor": 0
      },
      "text/plain": [
       "Loading checkpoint shards:   0%|          | 0/2 [00:00<?, ?it/s]"
      ]
     },
     "metadata": {},
     "output_type": "display_data"
    },
    {
     "name": "stderr",
     "output_type": "stream",
     "text": [
      "You are using a model of type llava to instantiate a model of type llava_llama. This is not supported for all configurations of models and can yield errors.\n"
     ]
    },
    {
     "data": {
      "application/vnd.jupyter.widget-view+json": {
       "model_id": "0cb465474aed4213b53bd000dcf27e07",
       "version_major": 2,
       "version_minor": 0
      },
      "text/plain": [
       "Loading checkpoint shards:   0%|          | 0/2 [00:00<?, ?it/s]"
      ]
     },
     "metadata": {},
     "output_type": "display_data"
    },
    {
     "name": "stderr",
     "output_type": "stream",
     "text": [
      "You are using a model of type llava to instantiate a model of type llava_llama. This is not supported for all configurations of models and can yield errors.\n"
     ]
    },
    {
     "data": {
      "application/vnd.jupyter.widget-view+json": {
       "model_id": "85d84fd0b32c44c7b597e312d10bc10f",
       "version_major": 2,
       "version_minor": 0
      },
      "text/plain": [
       "Loading checkpoint shards:   0%|          | 0/2 [00:00<?, ?it/s]"
      ]
     },
     "metadata": {},
     "output_type": "display_data"
    },
    {
     "name": "stderr",
     "output_type": "stream",
     "text": [
      "You are using a model of type llava to instantiate a model of type llava_llama. This is not supported for all configurations of models and can yield errors.\n"
     ]
    },
    {
     "data": {
      "application/vnd.jupyter.widget-view+json": {
       "model_id": "55394aa7ed0e4c50ae6d12c81a974a06",
       "version_major": 2,
       "version_minor": 0
      },
      "text/plain": [
       "Loading checkpoint shards:   0%|          | 0/2 [00:00<?, ?it/s]"
      ]
     },
     "metadata": {},
     "output_type": "display_data"
    },
    {
     "name": "stderr",
     "output_type": "stream",
     "text": [
      "You are using a model of type llava to instantiate a model of type llava_llama. This is not supported for all configurations of models and can yield errors.\n"
     ]
    },
    {
     "data": {
      "application/vnd.jupyter.widget-view+json": {
       "model_id": "a37cc33116424784bb113649d186eb4d",
       "version_major": 2,
       "version_minor": 0
      },
      "text/plain": [
       "Loading checkpoint shards:   0%|          | 0/2 [00:00<?, ?it/s]"
      ]
     },
     "metadata": {},
     "output_type": "display_data"
    },
    {
     "name": "stderr",
     "output_type": "stream",
     "text": [
      "You are using a model of type llava to instantiate a model of type llava_llama. This is not supported for all configurations of models and can yield errors.\n"
     ]
    },
    {
     "data": {
      "application/vnd.jupyter.widget-view+json": {
       "model_id": "c31a38661e974add9c7fe2742d185de1",
       "version_major": 2,
       "version_minor": 0
      },
      "text/plain": [
       "Loading checkpoint shards:   0%|          | 0/2 [00:00<?, ?it/s]"
      ]
     },
     "metadata": {},
     "output_type": "display_data"
    },
    {
     "name": "stderr",
     "output_type": "stream",
     "text": [
      "You are using a model of type llava to instantiate a model of type llava_llama. This is not supported for all configurations of models and can yield errors.\n"
     ]
    },
    {
     "data": {
      "application/vnd.jupyter.widget-view+json": {
       "model_id": "afc801f805174d3883348d58bab81414",
       "version_major": 2,
       "version_minor": 0
      },
      "text/plain": [
       "Loading checkpoint shards:   0%|          | 0/2 [00:00<?, ?it/s]"
      ]
     },
     "metadata": {},
     "output_type": "display_data"
    },
    {
     "name": "stderr",
     "output_type": "stream",
     "text": [
      "You are using a model of type llava to instantiate a model of type llava_llama. This is not supported for all configurations of models and can yield errors.\n"
     ]
    },
    {
     "data": {
      "application/vnd.jupyter.widget-view+json": {
       "model_id": "5ee0c426e8fa4d3c89429da8e1339e27",
       "version_major": 2,
       "version_minor": 0
      },
      "text/plain": [
       "Loading checkpoint shards:   0%|          | 0/2 [00:00<?, ?it/s]"
      ]
     },
     "metadata": {},
     "output_type": "display_data"
    },
    {
     "name": "stderr",
     "output_type": "stream",
     "text": [
      "You are using a model of type llava to instantiate a model of type llava_llama. This is not supported for all configurations of models and can yield errors.\n"
     ]
    },
    {
     "data": {
      "application/vnd.jupyter.widget-view+json": {
       "model_id": "a2a9acd0f71642cc92353e019d13f798",
       "version_major": 2,
       "version_minor": 0
      },
      "text/plain": [
       "Loading checkpoint shards:   0%|          | 0/2 [00:00<?, ?it/s]"
      ]
     },
     "metadata": {},
     "output_type": "display_data"
    },
    {
     "name": "stderr",
     "output_type": "stream",
     "text": [
      "You are using a model of type llava to instantiate a model of type llava_llama. This is not supported for all configurations of models and can yield errors.\n"
     ]
    },
    {
     "data": {
      "application/vnd.jupyter.widget-view+json": {
       "model_id": "179a701552534e0a81113b6714dc92c2",
       "version_major": 2,
       "version_minor": 0
      },
      "text/plain": [
       "Loading checkpoint shards:   0%|          | 0/2 [00:00<?, ?it/s]"
      ]
     },
     "metadata": {},
     "output_type": "display_data"
    },
    {
     "name": "stderr",
     "output_type": "stream",
     "text": [
      "You are using a model of type llava to instantiate a model of type llava_llama. This is not supported for all configurations of models and can yield errors.\n"
     ]
    },
    {
     "data": {
      "application/vnd.jupyter.widget-view+json": {
       "model_id": "3733f627519a43ae8c6090169804b592",
       "version_major": 2,
       "version_minor": 0
      },
      "text/plain": [
       "Loading checkpoint shards:   0%|          | 0/2 [00:00<?, ?it/s]"
      ]
     },
     "metadata": {},
     "output_type": "display_data"
    },
    {
     "name": "stderr",
     "output_type": "stream",
     "text": [
      "You are using a model of type llava to instantiate a model of type llava_llama. This is not supported for all configurations of models and can yield errors.\n"
     ]
    },
    {
     "data": {
      "application/vnd.jupyter.widget-view+json": {
       "model_id": "5726bdab200a4a9e9efeb3c05107d511",
       "version_major": 2,
       "version_minor": 0
      },
      "text/plain": [
       "Loading checkpoint shards:   0%|          | 0/2 [00:00<?, ?it/s]"
      ]
     },
     "metadata": {},
     "output_type": "display_data"
    },
    {
     "name": "stderr",
     "output_type": "stream",
     "text": [
      "You are using a model of type llava to instantiate a model of type llava_llama. This is not supported for all configurations of models and can yield errors.\n"
     ]
    },
    {
     "data": {
      "application/vnd.jupyter.widget-view+json": {
       "model_id": "9d97d0a07a014fa390f7a6c25a48bfd1",
       "version_major": 2,
       "version_minor": 0
      },
      "text/plain": [
       "Loading checkpoint shards:   0%|          | 0/2 [00:00<?, ?it/s]"
      ]
     },
     "metadata": {},
     "output_type": "display_data"
    },
    {
     "name": "stderr",
     "output_type": "stream",
     "text": [
      "You are using a model of type llava to instantiate a model of type llava_llama. This is not supported for all configurations of models and can yield errors.\n"
     ]
    },
    {
     "data": {
      "application/vnd.jupyter.widget-view+json": {
       "model_id": "dcebfe3d0dfd4725be535c5a589897e7",
       "version_major": 2,
       "version_minor": 0
      },
      "text/plain": [
       "Loading checkpoint shards:   0%|          | 0/2 [00:00<?, ?it/s]"
      ]
     },
     "metadata": {},
     "output_type": "display_data"
    },
    {
     "name": "stderr",
     "output_type": "stream",
     "text": [
      "You are using a model of type llava to instantiate a model of type llava_llama. This is not supported for all configurations of models and can yield errors.\n"
     ]
    },
    {
     "data": {
      "application/vnd.jupyter.widget-view+json": {
       "model_id": "273ab6e6a29f48e5bda16bdbe4e4a844",
       "version_major": 2,
       "version_minor": 0
      },
      "text/plain": [
       "Loading checkpoint shards:   0%|          | 0/2 [00:00<?, ?it/s]"
      ]
     },
     "metadata": {},
     "output_type": "display_data"
    },
    {
     "name": "stderr",
     "output_type": "stream",
     "text": [
      "You are using a model of type llava to instantiate a model of type llava_llama. This is not supported for all configurations of models and can yield errors.\n"
     ]
    },
    {
     "data": {
      "application/vnd.jupyter.widget-view+json": {
       "model_id": "f3afe944e1c243c0a803e29388409c40",
       "version_major": 2,
       "version_minor": 0
      },
      "text/plain": [
       "Loading checkpoint shards:   0%|          | 0/2 [00:00<?, ?it/s]"
      ]
     },
     "metadata": {},
     "output_type": "display_data"
    },
    {
     "name": "stderr",
     "output_type": "stream",
     "text": [
      "You are using a model of type llava to instantiate a model of type llava_llama. This is not supported for all configurations of models and can yield errors.\n"
     ]
    },
    {
     "data": {
      "application/vnd.jupyter.widget-view+json": {
       "model_id": "70814a57f3c44f93a85e0c6337ccbe32",
       "version_major": 2,
       "version_minor": 0
      },
      "text/plain": [
       "Loading checkpoint shards:   0%|          | 0/2 [00:00<?, ?it/s]"
      ]
     },
     "metadata": {},
     "output_type": "display_data"
    },
    {
     "name": "stderr",
     "output_type": "stream",
     "text": [
      "You are using a model of type llava to instantiate a model of type llava_llama. This is not supported for all configurations of models and can yield errors.\n"
     ]
    },
    {
     "data": {
      "application/vnd.jupyter.widget-view+json": {
       "model_id": "5cf7e5d239164583bea4cd9f560e1d11",
       "version_major": 2,
       "version_minor": 0
      },
      "text/plain": [
       "Loading checkpoint shards:   0%|          | 0/2 [00:00<?, ?it/s]"
      ]
     },
     "metadata": {},
     "output_type": "display_data"
    },
    {
     "name": "stderr",
     "output_type": "stream",
     "text": [
      "You are using a model of type llava to instantiate a model of type llava_llama. This is not supported for all configurations of models and can yield errors.\n"
     ]
    },
    {
     "data": {
      "application/vnd.jupyter.widget-view+json": {
       "model_id": "b68c9f5b48194e39a906d83673d0393c",
       "version_major": 2,
       "version_minor": 0
      },
      "text/plain": [
       "Loading checkpoint shards:   0%|          | 0/2 [00:00<?, ?it/s]"
      ]
     },
     "metadata": {},
     "output_type": "display_data"
    },
    {
     "name": "stderr",
     "output_type": "stream",
     "text": [
      "You are using a model of type llava to instantiate a model of type llava_llama. This is not supported for all configurations of models and can yield errors.\n"
     ]
    },
    {
     "data": {
      "application/vnd.jupyter.widget-view+json": {
       "model_id": "7c27086c28fe47858db2bddc19a01983",
       "version_major": 2,
       "version_minor": 0
      },
      "text/plain": [
       "Loading checkpoint shards:   0%|          | 0/2 [00:00<?, ?it/s]"
      ]
     },
     "metadata": {},
     "output_type": "display_data"
    },
    {
     "name": "stderr",
     "output_type": "stream",
     "text": [
      "You are using a model of type llava to instantiate a model of type llava_llama. This is not supported for all configurations of models and can yield errors.\n"
     ]
    },
    {
     "data": {
      "application/vnd.jupyter.widget-view+json": {
       "model_id": "1861deffa053477abaad7e58fdc21b74",
       "version_major": 2,
       "version_minor": 0
      },
      "text/plain": [
       "Loading checkpoint shards:   0%|          | 0/2 [00:00<?, ?it/s]"
      ]
     },
     "metadata": {},
     "output_type": "display_data"
    },
    {
     "name": "stderr",
     "output_type": "stream",
     "text": [
      "You are using a model of type llava to instantiate a model of type llava_llama. This is not supported for all configurations of models and can yield errors.\n"
     ]
    },
    {
     "data": {
      "application/vnd.jupyter.widget-view+json": {
       "model_id": "758d6e3ab2864a8fa29ddc0d36adef61",
       "version_major": 2,
       "version_minor": 0
      },
      "text/plain": [
       "Loading checkpoint shards:   0%|          | 0/2 [00:00<?, ?it/s]"
      ]
     },
     "metadata": {},
     "output_type": "display_data"
    },
    {
     "name": "stderr",
     "output_type": "stream",
     "text": [
      "You are using a model of type llava to instantiate a model of type llava_llama. This is not supported for all configurations of models and can yield errors.\n"
     ]
    },
    {
     "data": {
      "application/vnd.jupyter.widget-view+json": {
       "model_id": "b2e94ed5f30344308744af3078224387",
       "version_major": 2,
       "version_minor": 0
      },
      "text/plain": [
       "Loading checkpoint shards:   0%|          | 0/2 [00:00<?, ?it/s]"
      ]
     },
     "metadata": {},
     "output_type": "display_data"
    },
    {
     "name": "stderr",
     "output_type": "stream",
     "text": [
      "You are using a model of type llava to instantiate a model of type llava_llama. This is not supported for all configurations of models and can yield errors.\n"
     ]
    },
    {
     "data": {
      "application/vnd.jupyter.widget-view+json": {
       "model_id": "706078fcf2294450b41d3f9d3355c2b6",
       "version_major": 2,
       "version_minor": 0
      },
      "text/plain": [
       "Loading checkpoint shards:   0%|          | 0/2 [00:00<?, ?it/s]"
      ]
     },
     "metadata": {},
     "output_type": "display_data"
    },
    {
     "name": "stderr",
     "output_type": "stream",
     "text": [
      "You are using a model of type llava to instantiate a model of type llava_llama. This is not supported for all configurations of models and can yield errors.\n"
     ]
    },
    {
     "data": {
      "application/vnd.jupyter.widget-view+json": {
       "model_id": "cd2f2fea914349269485b32d12c533e6",
       "version_major": 2,
       "version_minor": 0
      },
      "text/plain": [
       "Loading checkpoint shards:   0%|          | 0/2 [00:00<?, ?it/s]"
      ]
     },
     "metadata": {},
     "output_type": "display_data"
    },
    {
     "name": "stderr",
     "output_type": "stream",
     "text": [
      "You are using a model of type llava to instantiate a model of type llava_llama. This is not supported for all configurations of models and can yield errors.\n"
     ]
    },
    {
     "data": {
      "application/vnd.jupyter.widget-view+json": {
       "model_id": "d1d4f2c4ba6b4753b62f138ea7495c48",
       "version_major": 2,
       "version_minor": 0
      },
      "text/plain": [
       "Loading checkpoint shards:   0%|          | 0/2 [00:00<?, ?it/s]"
      ]
     },
     "metadata": {},
     "output_type": "display_data"
    },
    {
     "name": "stderr",
     "output_type": "stream",
     "text": [
      "You are using a model of type llava to instantiate a model of type llava_llama. This is not supported for all configurations of models and can yield errors.\n"
     ]
    },
    {
     "data": {
      "application/vnd.jupyter.widget-view+json": {
       "model_id": "34b9108a41e144ea8278e3786c23f0d5",
       "version_major": 2,
       "version_minor": 0
      },
      "text/plain": [
       "Loading checkpoint shards:   0%|          | 0/2 [00:00<?, ?it/s]"
      ]
     },
     "metadata": {},
     "output_type": "display_data"
    },
    {
     "name": "stderr",
     "output_type": "stream",
     "text": [
      "You are using a model of type llava to instantiate a model of type llava_llama. This is not supported for all configurations of models and can yield errors.\n"
     ]
    },
    {
     "data": {
      "application/vnd.jupyter.widget-view+json": {
       "model_id": "4f6902def0b24fc3b877331fe96f4831",
       "version_major": 2,
       "version_minor": 0
      },
      "text/plain": [
       "Loading checkpoint shards:   0%|          | 0/2 [00:00<?, ?it/s]"
      ]
     },
     "metadata": {},
     "output_type": "display_data"
    },
    {
     "name": "stderr",
     "output_type": "stream",
     "text": [
      "You are using a model of type llava to instantiate a model of type llava_llama. This is not supported for all configurations of models and can yield errors.\n"
     ]
    },
    {
     "data": {
      "application/vnd.jupyter.widget-view+json": {
       "model_id": "31c1a53283fc4a5f80d1e8f1896bd106",
       "version_major": 2,
       "version_minor": 0
      },
      "text/plain": [
       "Loading checkpoint shards:   0%|          | 0/2 [00:00<?, ?it/s]"
      ]
     },
     "metadata": {},
     "output_type": "display_data"
    },
    {
     "name": "stderr",
     "output_type": "stream",
     "text": [
      "You are using a model of type llava to instantiate a model of type llava_llama. This is not supported for all configurations of models and can yield errors.\n"
     ]
    },
    {
     "data": {
      "application/vnd.jupyter.widget-view+json": {
       "model_id": "e58a1c128f08474c9c2d7c81c918ad97",
       "version_major": 2,
       "version_minor": 0
      },
      "text/plain": [
       "Loading checkpoint shards:   0%|          | 0/2 [00:00<?, ?it/s]"
      ]
     },
     "metadata": {},
     "output_type": "display_data"
    },
    {
     "name": "stderr",
     "output_type": "stream",
     "text": [
      "You are using a model of type llava to instantiate a model of type llava_llama. This is not supported for all configurations of models and can yield errors.\n"
     ]
    },
    {
     "data": {
      "application/vnd.jupyter.widget-view+json": {
       "model_id": "46ab68a7d9bd44f6a2722590a363ca62",
       "version_major": 2,
       "version_minor": 0
      },
      "text/plain": [
       "Loading checkpoint shards:   0%|          | 0/2 [00:00<?, ?it/s]"
      ]
     },
     "metadata": {},
     "output_type": "display_data"
    },
    {
     "name": "stderr",
     "output_type": "stream",
     "text": [
      "You are using a model of type llava to instantiate a model of type llava_llama. This is not supported for all configurations of models and can yield errors.\n"
     ]
    },
    {
     "data": {
      "application/vnd.jupyter.widget-view+json": {
       "model_id": "0a0acca5d9b14f6ba5397129c644b38f",
       "version_major": 2,
       "version_minor": 0
      },
      "text/plain": [
       "Loading checkpoint shards:   0%|          | 0/2 [00:00<?, ?it/s]"
      ]
     },
     "metadata": {},
     "output_type": "display_data"
    },
    {
     "name": "stderr",
     "output_type": "stream",
     "text": [
      "You are using a model of type llava to instantiate a model of type llava_llama. This is not supported for all configurations of models and can yield errors.\n"
     ]
    },
    {
     "data": {
      "application/vnd.jupyter.widget-view+json": {
       "model_id": "c335021e79974870af68bc5287645193",
       "version_major": 2,
       "version_minor": 0
      },
      "text/plain": [
       "Loading checkpoint shards:   0%|          | 0/2 [00:00<?, ?it/s]"
      ]
     },
     "metadata": {},
     "output_type": "display_data"
    },
    {
     "name": "stderr",
     "output_type": "stream",
     "text": [
      "You are using a model of type llava to instantiate a model of type llava_llama. This is not supported for all configurations of models and can yield errors.\n"
     ]
    },
    {
     "data": {
      "application/vnd.jupyter.widget-view+json": {
       "model_id": "33d2fc1c465941e3946d2d52dccf72e2",
       "version_major": 2,
       "version_minor": 0
      },
      "text/plain": [
       "Loading checkpoint shards:   0%|          | 0/2 [00:00<?, ?it/s]"
      ]
     },
     "metadata": {},
     "output_type": "display_data"
    },
    {
     "name": "stderr",
     "output_type": "stream",
     "text": [
      "You are using a model of type llava to instantiate a model of type llava_llama. This is not supported for all configurations of models and can yield errors.\n"
     ]
    },
    {
     "data": {
      "application/vnd.jupyter.widget-view+json": {
       "model_id": "a4c63cf5ec984052a9d99aacffac5cea",
       "version_major": 2,
       "version_minor": 0
      },
      "text/plain": [
       "Loading checkpoint shards:   0%|          | 0/2 [00:00<?, ?it/s]"
      ]
     },
     "metadata": {},
     "output_type": "display_data"
    },
    {
     "name": "stderr",
     "output_type": "stream",
     "text": [
      "You are using a model of type llava to instantiate a model of type llava_llama. This is not supported for all configurations of models and can yield errors.\n"
     ]
    },
    {
     "data": {
      "application/vnd.jupyter.widget-view+json": {
       "model_id": "15c26c1dc94e4bc593a408733db0366a",
       "version_major": 2,
       "version_minor": 0
      },
      "text/plain": [
       "Loading checkpoint shards:   0%|          | 0/2 [00:00<?, ?it/s]"
      ]
     },
     "metadata": {},
     "output_type": "display_data"
    },
    {
     "name": "stderr",
     "output_type": "stream",
     "text": [
      "You are using a model of type llava to instantiate a model of type llava_llama. This is not supported for all configurations of models and can yield errors.\n"
     ]
    },
    {
     "data": {
      "application/vnd.jupyter.widget-view+json": {
       "model_id": "0de9080425724c13854267980a4232cb",
       "version_major": 2,
       "version_minor": 0
      },
      "text/plain": [
       "Loading checkpoint shards:   0%|          | 0/2 [00:00<?, ?it/s]"
      ]
     },
     "metadata": {},
     "output_type": "display_data"
    },
    {
     "name": "stderr",
     "output_type": "stream",
     "text": [
      "You are using a model of type llava to instantiate a model of type llava_llama. This is not supported for all configurations of models and can yield errors.\n"
     ]
    },
    {
     "data": {
      "application/vnd.jupyter.widget-view+json": {
       "model_id": "2f25e770adc747748cdc88e25bd5a456",
       "version_major": 2,
       "version_minor": 0
      },
      "text/plain": [
       "Loading checkpoint shards:   0%|          | 0/2 [00:00<?, ?it/s]"
      ]
     },
     "metadata": {},
     "output_type": "display_data"
    },
    {
     "name": "stderr",
     "output_type": "stream",
     "text": [
      "You are using a model of type llava to instantiate a model of type llava_llama. This is not supported for all configurations of models and can yield errors.\n"
     ]
    },
    {
     "data": {
      "application/vnd.jupyter.widget-view+json": {
       "model_id": "fc7a46dc2bea429496dad6c30fdcca9c",
       "version_major": 2,
       "version_minor": 0
      },
      "text/plain": [
       "Loading checkpoint shards:   0%|          | 0/2 [00:00<?, ?it/s]"
      ]
     },
     "metadata": {},
     "output_type": "display_data"
    },
    {
     "name": "stderr",
     "output_type": "stream",
     "text": [
      "You are using a model of type llava to instantiate a model of type llava_llama. This is not supported for all configurations of models and can yield errors.\n"
     ]
    },
    {
     "data": {
      "application/vnd.jupyter.widget-view+json": {
       "model_id": "f0c5d29f714b4eb4a752ddf432248027",
       "version_major": 2,
       "version_minor": 0
      },
      "text/plain": [
       "Loading checkpoint shards:   0%|          | 0/2 [00:00<?, ?it/s]"
      ]
     },
     "metadata": {},
     "output_type": "display_data"
    },
    {
     "name": "stderr",
     "output_type": "stream",
     "text": [
      "You are using a model of type llava to instantiate a model of type llava_llama. This is not supported for all configurations of models and can yield errors.\n"
     ]
    },
    {
     "data": {
      "application/vnd.jupyter.widget-view+json": {
       "model_id": "c9f0f7a0301045e8b9b0c2cbf777351e",
       "version_major": 2,
       "version_minor": 0
      },
      "text/plain": [
       "Loading checkpoint shards:   0%|          | 0/2 [00:00<?, ?it/s]"
      ]
     },
     "metadata": {},
     "output_type": "display_data"
    },
    {
     "name": "stderr",
     "output_type": "stream",
     "text": [
      "You are using a model of type llava to instantiate a model of type llava_llama. This is not supported for all configurations of models and can yield errors.\n"
     ]
    },
    {
     "data": {
      "application/vnd.jupyter.widget-view+json": {
       "model_id": "489908792f8b4be295d479713e7dd0f7",
       "version_major": 2,
       "version_minor": 0
      },
      "text/plain": [
       "Loading checkpoint shards:   0%|          | 0/2 [00:00<?, ?it/s]"
      ]
     },
     "metadata": {},
     "output_type": "display_data"
    },
    {
     "name": "stderr",
     "output_type": "stream",
     "text": [
      "You are using a model of type llava to instantiate a model of type llava_llama. This is not supported for all configurations of models and can yield errors.\n"
     ]
    },
    {
     "data": {
      "application/vnd.jupyter.widget-view+json": {
       "model_id": "b87c1c33fffb4009befcd956dc557e10",
       "version_major": 2,
       "version_minor": 0
      },
      "text/plain": [
       "Loading checkpoint shards:   0%|          | 0/2 [00:00<?, ?it/s]"
      ]
     },
     "metadata": {},
     "output_type": "display_data"
    },
    {
     "name": "stderr",
     "output_type": "stream",
     "text": [
      "You are using a model of type llava to instantiate a model of type llava_llama. This is not supported for all configurations of models and can yield errors.\n"
     ]
    },
    {
     "data": {
      "application/vnd.jupyter.widget-view+json": {
       "model_id": "e2d84ee0e75f4e7a8954ec19dcb1daa1",
       "version_major": 2,
       "version_minor": 0
      },
      "text/plain": [
       "Loading checkpoint shards:   0%|          | 0/2 [00:00<?, ?it/s]"
      ]
     },
     "metadata": {},
     "output_type": "display_data"
    },
    {
     "name": "stderr",
     "output_type": "stream",
     "text": [
      "You are using a model of type llava to instantiate a model of type llava_llama. This is not supported for all configurations of models and can yield errors.\n"
     ]
    },
    {
     "data": {
      "application/vnd.jupyter.widget-view+json": {
       "model_id": "e565487d68904a85baffe6e941fefc5c",
       "version_major": 2,
       "version_minor": 0
      },
      "text/plain": [
       "Loading checkpoint shards:   0%|          | 0/2 [00:00<?, ?it/s]"
      ]
     },
     "metadata": {},
     "output_type": "display_data"
    },
    {
     "name": "stderr",
     "output_type": "stream",
     "text": [
      "You are using a model of type llava to instantiate a model of type llava_llama. This is not supported for all configurations of models and can yield errors.\n"
     ]
    },
    {
     "data": {
      "application/vnd.jupyter.widget-view+json": {
       "model_id": "0d35af62cd3c4fee85dacfc30f1720db",
       "version_major": 2,
       "version_minor": 0
      },
      "text/plain": [
       "Loading checkpoint shards:   0%|          | 0/2 [00:00<?, ?it/s]"
      ]
     },
     "metadata": {},
     "output_type": "display_data"
    },
    {
     "name": "stderr",
     "output_type": "stream",
     "text": [
      "You are using a model of type llava to instantiate a model of type llava_llama. This is not supported for all configurations of models and can yield errors.\n"
     ]
    },
    {
     "data": {
      "application/vnd.jupyter.widget-view+json": {
       "model_id": "d98d1076573b4c478835784016e40fff",
       "version_major": 2,
       "version_minor": 0
      },
      "text/plain": [
       "Loading checkpoint shards:   0%|          | 0/2 [00:00<?, ?it/s]"
      ]
     },
     "metadata": {},
     "output_type": "display_data"
    },
    {
     "name": "stderr",
     "output_type": "stream",
     "text": [
      "You are using a model of type llava to instantiate a model of type llava_llama. This is not supported for all configurations of models and can yield errors.\n"
     ]
    },
    {
     "data": {
      "application/vnd.jupyter.widget-view+json": {
       "model_id": "201e149d41cc4b56935217e282898f4e",
       "version_major": 2,
       "version_minor": 0
      },
      "text/plain": [
       "Loading checkpoint shards:   0%|          | 0/2 [00:00<?, ?it/s]"
      ]
     },
     "metadata": {},
     "output_type": "display_data"
    },
    {
     "name": "stderr",
     "output_type": "stream",
     "text": [
      "You are using a model of type llava to instantiate a model of type llava_llama. This is not supported for all configurations of models and can yield errors.\n"
     ]
    },
    {
     "data": {
      "application/vnd.jupyter.widget-view+json": {
       "model_id": "d67ffb0575584ddb9073e9412f652203",
       "version_major": 2,
       "version_minor": 0
      },
      "text/plain": [
       "Loading checkpoint shards:   0%|          | 0/2 [00:00<?, ?it/s]"
      ]
     },
     "metadata": {},
     "output_type": "display_data"
    },
    {
     "name": "stderr",
     "output_type": "stream",
     "text": [
      "You are using a model of type llava to instantiate a model of type llava_llama. This is not supported for all configurations of models and can yield errors.\n"
     ]
    },
    {
     "data": {
      "application/vnd.jupyter.widget-view+json": {
       "model_id": "fbac7ea8134a43aa9e735b0c653372da",
       "version_major": 2,
       "version_minor": 0
      },
      "text/plain": [
       "Loading checkpoint shards:   0%|          | 0/2 [00:00<?, ?it/s]"
      ]
     },
     "metadata": {},
     "output_type": "display_data"
    },
    {
     "name": "stderr",
     "output_type": "stream",
     "text": [
      "You are using a model of type llava to instantiate a model of type llava_llama. This is not supported for all configurations of models and can yield errors.\n"
     ]
    },
    {
     "data": {
      "application/vnd.jupyter.widget-view+json": {
       "model_id": "0e6d8f6a76f14113ac8569f161ff8d32",
       "version_major": 2,
       "version_minor": 0
      },
      "text/plain": [
       "Loading checkpoint shards:   0%|          | 0/2 [00:00<?, ?it/s]"
      ]
     },
     "metadata": {},
     "output_type": "display_data"
    },
    {
     "name": "stderr",
     "output_type": "stream",
     "text": [
      "You are using a model of type llava to instantiate a model of type llava_llama. This is not supported for all configurations of models and can yield errors.\n"
     ]
    },
    {
     "data": {
      "application/vnd.jupyter.widget-view+json": {
       "model_id": "fe7351acb61e4c5fa95b4a9e96822630",
       "version_major": 2,
       "version_minor": 0
      },
      "text/plain": [
       "Loading checkpoint shards:   0%|          | 0/2 [00:00<?, ?it/s]"
      ]
     },
     "metadata": {},
     "output_type": "display_data"
    },
    {
     "name": "stderr",
     "output_type": "stream",
     "text": [
      "You are using a model of type llava to instantiate a model of type llava_llama. This is not supported for all configurations of models and can yield errors.\n"
     ]
    },
    {
     "data": {
      "application/vnd.jupyter.widget-view+json": {
       "model_id": "7790c6fe4181421bbddbfb4e9c9d1903",
       "version_major": 2,
       "version_minor": 0
      },
      "text/plain": [
       "Loading checkpoint shards:   0%|          | 0/2 [00:00<?, ?it/s]"
      ]
     },
     "metadata": {},
     "output_type": "display_data"
    },
    {
     "name": "stdout",
     "output_type": "stream",
     "text": [
      "{'gt': [290, 106, 351, 12, 96, 188, 107, 10, 263, 159, 245, 0, 128, 151, 309, 161, 87, 76, 145, 132, 332, 252, 330, 353, 251, 321, 313, 296, 339, 95, 39, 221, 49, 146, 225, 53, 214, 166, 170, 161, 104, 322, 337, 146, 207, 161, 340, 52, 104, 38, 275, 292, 203, 204, 327], 'ChatGPT': {'parameters': None, 'raw_answers': ['45-55', '45-55', '330-340', '45-55', '0-10', '225-235', '45-55', '45-55', '0-10', '45-55', '45-55', '90-100', '310-320', '315-325', '135-145', '45-55', '0-10', '0-10', '300-310', 'The line appears to be within the range of 225-235 degrees.', '45-55', '45-55', '45-55', '90-100', '45-55', '310-320', '215-225', '315-325', '135-145', '0-10', '45-55', '45-55', '45-55', '315-325', '225-235', '45-55', '45-55', '45-55', '90-100', '45-55', '45-55', '45-55', '225-235', '310-320', '30-40', '45-55', '45-55', '40-50', '310-320', '45-55', '270-280', '315-325', '310-320', '135-145', '45-55'], 'parsed_answers': [[45.0, 55.0], [45.0, 55.0], [330.0, 340.0], [45.0, 55.0], [0.0, 10.0], [225.0, 235.0], [45.0, 55.0], [45.0, 55.0], [0.0, 10.0], [45.0, 55.0], [45.0, 55.0], [90.0, 100.0], [310.0, 320.0], [315.0, 325.0], [135.0, 145.0], [45.0, 55.0], [0.0, 10.0], [0.0, 10.0], [300.0, 310.0], [225.0, 235.0], [45.0, 55.0], [45.0, 55.0], [45.0, 55.0], [90.0, 100.0], [45.0, 55.0], [310.0, 320.0], [215.0, 225.0], [315.0, 325.0], [135.0, 145.0], [0.0, 10.0], [45.0, 55.0], [45.0, 55.0], [45.0, 55.0], [315.0, 325.0], [225.0, 235.0], [45.0, 55.0], [45.0, 55.0], [45.0, 55.0], [90.0, 100.0], [45.0, 55.0], [45.0, 55.0], [45.0, 55.0], [225.0, 235.0], [310.0, 320.0], [30.0, 40.0], [45.0, 55.0], [45.0, 55.0], [40.0, 50.0], [310.0, 320.0], [45.0, 55.0], [270.0, 280.0], [315.0, 325.0], [310.0, 320.0], [135.0, 145.0], [45.0, 55.0]], 'mean': 126.72727272727273, 'std': 114.02239884345764, 'mse': 22120.254545454547, 'mlae': 13.558609593675229, 'times': [909.6372127532959, 1177.9780387878418, 890.8374309539795, 1057.7857494354248, 775.6001949310303, 3690.943479537964, 1515.6464576721191, 6047.486782073975, 851.3076305389404, 874.9065399169922, 830.9190273284912, 974.1227626800537, 1129.1816234588623, 1097.9666709899902, 864.2041683197021, 749.2060661315918, 799.1471290588379, 872.2381591796875, 1120.835542678833, 1157.749891281128, 1304.0449619293213, 1085.6173038482666, 983.8831424713135, 1530.3950309753418, 1080.7793140411377, 884.143590927124, 916.8412685394287, 781.2449932098389, 1068.9725875854492, 1145.1737880706787, 822.2010135650635, 786.3256931304932, 768.1159973144531, 972.1965789794922, 1084.4182968139648, 1246.556282043457, 855.8557033538818, 790.7493114471436, 885.9817981719971, 1702.0249366760254, 4212.711811065674, 1301.938533782959, 951.1497020721436, 1038.7282371520996, 1141.4952278137207, 858.893632888794, 1296.9703674316406, 951.4451026916504, 1110.4729175567627, 823.153018951416, 1773.848295211792, 1101.2213230133057, 841.6597843170166, 1016.6606903076172, 1404.4222831726074], 'forced_repetitions': 0}, 'LLaVA': {'parameters': None, 'raw_answers': ['Yes, I can estimate the direction of the line. It is pointing upwards, approximately 45 degrees.', 'Yes, I can see a line in the image. The line is pointing upwards, and I estimate its direction to be around 45-55 degrees.', 'Yes, I can see a line in the image. The line is pointing upwards, and I estimate its direction to be around 45-55 degrees.', 'Yes, I can see a line in the image. The line is pointing upwards, and I estimate its direction to be around 45 degrees.', 'Yes, I can see a line in the image. The line is pointing upwards, and I estimate its direction to be around 45 degrees.', 'Yes, I can see a line in the image. The line is pointing upwards, and I estimate its direction to be around 45 degrees.', 'Yes, I can see a line in the image. The line is pointing upwards, and I estimate its direction to be around 45-55 degrees.', 'Yes, I can see a line in the image. The line is pointing upwards, and I estimate its direction to be around 45 degrees.', 'Yes, I can see a line in the image. The line is pointing upwards, and I estimate its direction to be around 45 degrees.', 'Yes, I see a line in the image. The line is pointing upwards, and I can estimate its direction to be approximately 45 degrees.', 'Yes, I can see a line in the image. The line is pointing upwards, and I estimate its direction to be around 45 degrees.', 'Yes, I can see a line in the image. The line is oriented at approximately 45 degrees.', 'Yes, I can see a line in the image. The line is pointing upwards, and I estimate its direction to be around 45-55 degrees.', 'Yes, I can see a line in the image. The line is pointing upwards, and I estimate its direction to be around 45-55 degrees.', 'Yes, I can estimate the direction of the line. It is pointing upwards, approximately 45 degrees.', 'Yes, I see a line in the image. The line is pointing upwards, and I can estimate its direction to be approximately 45 degrees.', 'Yes, I can see a line in the image. The line is pointing upwards, and I estimate its direction to be around 45 degrees.', 'Yes, I can estimate the direction of the line. It is pointing upwards, approximately 45 degrees.', 'Yes, I can see a line in the image. The line is pointing upwards, and I estimate its direction to be around 45-55 degrees.', 'Yes, I can see a line in the image. The line is pointing upwards, and I estimate its direction to be around 45-55 degrees.', 'Yes, I can see a line in the image. The line is pointing upwards, and I estimate its direction to be around 45-55 degrees.', 'Yes, I can see a line in the image. The line is pointing upwards, and I estimate its direction to be around 45 degrees.', 'Yes, I can see a line in the image. The line is pointing upwards, and I estimate its direction to be around 45-55 degrees.', 'Yes, I can see a line in the image. The line is pointing upwards, and I estimate its direction to be around 45-55 degrees.', 'Yes, I can see a line in the image. The line is pointing upwards, and I estimate its direction to be around 45 degrees.', 'Yes, I can see a line in the image. The line is pointing upwards, and I estimate its direction to be around 45-55 degrees.', 'Yes, I can see a line in the image. The line is pointing upwards, and I estimate its direction to be around 45 degrees.', 'Yes, I can see a line in the image. The line is pointing upwards, and I estimate its direction to be around 45 degrees.', 'Yes, I can see a line in the image. The line is pointing upwards, and I estimate its direction to be around 45-55 degrees.', 'Yes, I can see a line in the image. The line is pointing upwards, and I estimate its direction to be around 45 degrees.', 'Yes, I can see a line in the image. The line is pointing upwards, and I estimate its direction to be around 45-55 degrees.', 'Yes, I can see a line in the image. The line is pointing upwards, and I estimate its direction to be around 45-55 degrees.', 'Yes, I can see a line in the image. The line is pointing upwards, and I estimate its direction to be around 45-55 degrees.', 'Yes, I can see a line in the image. The line is pointing upwards, and I estimate its direction to be around 45-55 degrees.', 'Yes, I can see a line in the image. The line is pointing upwards, and I estimate its direction to be around 45-55 degrees.', 'Yes, I can see a line in the image. The line is pointing upwards, and I estimate its direction to be around 45 degrees.', 'Yes, I can see a line in the image. The line is pointing upwards, and I estimate its direction to be around 45-55 degrees.', 'Yes, I see a line in the image. The line is oriented at approximately 45 degrees.', 'Yes, I can see a line in the image. The line is pointing upwards, and I estimate its direction to be around 45 degrees.', 'Yes, I see a line in the image. The line is pointing upwards, and I can estimate its direction to be approximately 45 degrees.', 'Yes, I can see a line in the image. The line is pointing upwards, and I estimate its direction to be around 45 degrees.', 'Yes, I can see a line in the image. The line is pointing upwards, and I estimate its direction to be around 45-55 degrees.', 'Yes, I can see a line in the image. The line is pointing upwards, and I estimate its direction to be around 45-55 degrees.', 'Yes, I can see a line in the image. The line is pointing upwards, and I estimate its direction to be around 45-55 degrees.', 'Yes, I see a line. It is pointing upwards, and I estimate the direction to be around 45 degrees.', 'Yes, I see a line in the image. The line is pointing upwards, and I can estimate its direction to be approximately 45 degrees.', 'Yes, I can see a line in the image. The line is pointing upwards, and I estimate its direction to be around 45-55 degrees.', 'Yes, I can see a line in the image. The line is pointing upwards, and I estimate its direction to be around 45 degrees.', 'Yes, I can see a line in the image. The line is pointing upwards, and I estimate its direction to be around 45 degrees.', 'Yes, I can see a line in the image. The line is pointing upwards, and I estimate its direction to be around 45-55 degrees.', 'Yes, I can see a line in the image. The line is pointing upwards, and I estimate its direction to be around 45 degrees.', 'Yes, I can estimate the direction of the line. It is pointing upwards, approximately 45 degrees.', 'Yes, I can see a line in the image. The line is oriented at approximately 45 degrees.', 'Yes, I can see a line in the image. The line is oriented at approximately 45 degrees.', 'Yes, I can see a line in the image. The line is pointing upwards, and I estimate its direction to be around 45-55 degrees.'], 'parsed_answers': [[45.0], [45.0, 55.0], [45.0, 55.0], [45.0], [45.0], [45.0], [45.0, 55.0], [45.0], [45.0], [45.0], [45.0], [45.0], [45.0, 55.0], [45.0, 55.0], [45.0], [45.0], [45.0], [45.0], [45.0, 55.0], [45.0, 55.0], [45.0, 55.0], [45.0], [45.0, 55.0], [45.0, 55.0], [45.0], [45.0, 55.0], [45.0], [45.0], [45.0, 55.0], [45.0], [45.0, 55.0], [45.0, 55.0], [45.0, 55.0], [45.0, 55.0], [45.0, 55.0], [45.0], [45.0, 55.0], [45.0], [45.0], [45.0], [45.0], [45.0, 55.0], [45.0, 55.0], [45.0, 55.0], [45.0], [45.0], [45.0, 55.0], [45.0], [45.0], [45.0, 55.0], [45.0], [45.0], [45.0], [45.0], [45.0, 55.0]], 'mean': 47.18181818181818, 'std': 2.4796693994519736, 'mse': 31080.52727272727, 'mlae': 13.852080570169175, 'times': [10549.081563949585, 7840.65842628479, 7657.467842102051, 7275.535106658936, 7320.070266723633, 7299.788475036621, 7505.944013595581, 7040.521621704102, 7815.974235534668, 7385.709762573242, 7399.518251419067, 7236.042261123657, 7423.871994018555, 7314.570426940918, 7214.411020278931, 7341.636896133423, 7465.22068977356, 7193.26639175415, 7596.573829650879, 7864.568710327148, 7579.867839813232, 7475.4133224487305, 7418.78867149353, 7323.932647705078, 7482.039213180542, 7893.507242202759, 7428.761005401611, 7450.952768325806, 7480.67569732666, 7388.048410415649, 7482.4018478393555, 7110.06236076355, 7890.947341918945, 7572.870969772339, 7550.97770690918, 7382.57360458374, 7411.536931991577, 7361.187696456909, 7499.8767375946045, 7153.4552574157715, 7130.9404373168945, 7424.129962921143, 7450.425148010254, 7714.2393589019775, 7200.746536254883, 7417.680263519287, 7560.092449188232, 7353.414297103882, 7432.856559753418, 7660.648584365845, 7816.493272781372, 7179.075717926025, 7124.239921569824, 7200.315713882446, 7208.592891693115], 'forced_repetitions': 0}, 'CustomLLaVA': {'parameters': None, 'raw_answers': ['179', '139', '171', '179', '241', '169', '179', '11', '177', '29', '139', '179', '169', '137', '179', '17', '179', '17', '179', '171', '217', '172', '189', '175', '271', '239', '139', '172', '217', '231', '119', '176', '171', '179', '171', '171', '176', '177', '179', '176', '129', '169', '179', '17', '171', '173', '171', '139', '169', '179', '176', '180', '186', '176', '179'], 'parsed_answers': [[179.0], [139.0], [171.0], [179.0], [241.0], [169.0], [179.0], [11.0], [177.0], [29.0], [139.0], [179.0], [169.0], [137.0], [179.0], [17.0], [179.0], [17.0], [179.0], [171.0], [217.0], [172.0], [189.0], [175.0], [271.0], [239.0], [139.0], [172.0], [217.0], [231.0], [119.0], [176.0], [171.0], [179.0], [171.0], [171.0], [176.0], [177.0], [179.0], [176.0], [129.0], [169.0], [179.0], [17.0], [171.0], [173.0], [171.0], [139.0], [169.0], [179.0], [176.0], [180.0], [186.0], [176.0], [179.0]], 'mean': 162.72727272727272, 'std': 52.54554891466832, 'mse': 10819.454545454546, 'mlae': 13.10866366763814, 'times': [19832.87811279297, 18752.208471298218, 18673.41446876526, 19091.660737991333, 18769.559144973755, 18755.032300949097, 19266.81089401245, 18340.61288833618, 18606.464862823486, 18954.502820968628, 18894.1068649292, 19193.60041618347, 19020.84994316101, 19095.66378593445, 18925.902366638184, 18940.171003341675, 18815.536975860596, 18725.97861289978, 19313.94338607788, 19508.89015197754, 18884.50002670288, 18879.990100860596, 18735.525369644165, 20182.40737915039, 19312.71719932556, 18834.68770980835, 19031.58712387085, 18783.423900604248, 21613.116025924683, 18862.468481063843, 18849.201917648315, 18975.89635848999, 19120.750188827515, 18349.78222846985, 19128.571033477783, 19081.05993270874, 18271.11506462097, 19365.31972885132, 18925.81057548523, 19721.56834602356, 18479.65979576111, 20180.421590805054, 19625.544548034668, 18412.326335906982, 19013.280153274536, 18821.982383728027, 18937.580347061157, 19176.549911499023, 20554.349422454834, 19552.090406417847, 19246.033906936646, 19028.82409095764, 18845.484495162964, 19340.683698654175, 19061.550617218018], 'forced_repetitions': 0}}\n"
     ]
    }
   ],
   "source": [
    "import sys\n",
    "sys.path.append('../')\n",
    "import LLMP as L\n",
    "import torch\n",
    "torch.torch.cuda.empty_cache()\n",
    "\n",
    "query = \"What do you see? If you see a line, can you estimate the direction of it in degree (0 to 360)? Please respond with just a numerical range not larger than 10 degrees (e.g., 180-190)\"\n",
    "images = [L.GPImage.figure1('direction') for i in range(55)]\n",
    "models = [\"ChatGPT\", \"LLaVA\", \"CustomLLaVA\"]\n",
    "\n",
    "results = L.Evaluator.run(images, query, models)\n",
    "print(results)"
   ]
  },
  {
   "cell_type": "code",
   "execution_count": 3,
   "id": "4d963ec5-f755-49ed-8f41-61b2d21f1305",
   "metadata": {},
   "outputs": [
    {
     "name": "stdout",
     "output_type": "stream",
     "text": [
      "ChatGPT mse:  22120.254545454547\n",
      "ChatGPT mlae: 13.558609593675229\n",
      "ChatGPT mean: 126.72727272727273\n",
      "ChatGPT std: 114.02239884345764\n",
      "LLaVA mse:    31080.52727272727\n",
      "LLaVA mlae:   13.852080570169175\n",
      "LLaVA mean:   47.18181818181818\n",
      "LLaVA std:   2.4796693994519736\n",
      "CLLaVA mse:   10819.454545454546\n",
      "CLLaVA mlae:  13.10866366763814\n",
      "CLLaVA mean:  162.72727272727272\n",
      "CLLaVA std:  52.54554891466832\n"
     ]
    }
   ],
   "source": [
    "chatGPT_mse = results[\"ChatGPT\"][\"mse\"]\n",
    "chatGPT_mlae = results[\"ChatGPT\"][\"mlae\"]\n",
    "chatGPT_mean = results[\"ChatGPT\"][\"mean\"]\n",
    "chatGPT_std = results[\"ChatGPT\"][\"std\"]\n",
    "llava_mse = results[\"LLaVA\"][\"mse\"]\n",
    "llava_mlae = results[\"LLaVA\"][\"mlae\"]\n",
    "llava_mean = results[\"LLaVA\"][\"mean\"]\n",
    "llava_std = results[\"LLaVA\"][\"std\"]\n",
    "custom_llava_mse = results[\"CustomLLaVA\"][\"mse\"]\n",
    "custom_llava_mlae = results[\"CustomLLaVA\"][\"mlae\"]\n",
    "custom_llava_mean = results[\"CustomLLaVA\"][\"mean\"]\n",
    "custom_llava_std = results[\"CustomLLaVA\"][\"std\"]\n",
    "print(\"ChatGPT mse: \", chatGPT_mse)\n",
    "print(\"ChatGPT mlae:\", chatGPT_mlae)\n",
    "print(\"ChatGPT mean:\", chatGPT_mean)\n",
    "print(\"ChatGPT std:\", chatGPT_std)\n",
    "print(\"LLaVA mse:   \", llava_mse)\n",
    "print(\"LLaVA mlae:  \", llava_mlae)\n",
    "print(\"LLaVA mean:  \", llava_mean)\n",
    "print(\"LLaVA std:  \", llava_std)\n",
    "print(\"CLLaVA mse:  \", custom_llava_mse)\n",
    "print(\"CLLaVA mlae: \", custom_llava_mlae)\n",
    "print(\"CLLaVA mean: \", custom_llava_mean)\n",
    "print(\"CLLaVA std: \", custom_llava_std)"
   ]
  },
  {
   "cell_type": "code",
   "execution_count": 2,
   "id": "8bde8168-c816-412a-b1a4-6337fb16a32d",
   "metadata": {},
   "outputs": [],
   "source": []
  }
 ],
 "metadata": {
  "kernelspec": {
   "display_name": "Python 3 (ipykernel)",
   "language": "python",
   "name": "python3"
  },
  "language_info": {
   "codemirror_mode": {
    "name": "ipython",
    "version": 3
   },
   "file_extension": ".py",
   "mimetype": "text/x-python",
   "name": "python",
   "nbconvert_exporter": "python",
   "pygments_lexer": "ipython3",
   "version": "3.11.7"
  }
 },
 "nbformat": 4,
 "nbformat_minor": 5
}
