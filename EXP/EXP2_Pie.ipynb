{
 "cells": [
  {
   "cell_type": "code",
   "execution_count": null,
   "id": "86641587-3314-425e-81fa-277f3555d15c",
   "metadata": {},
   "outputs": [],
   "source": [
    "import sys\n",
    "sys.path.append('../')\n",
    "import LLMP as L\n",
    "import torch\n",
    "torch.torch.cuda.empty_cache()\n",
    "\n",
    "query = \"What do you see? There are 5 bars in total, and the longest bar has a dot inside. Say the size of the longest bar is 1.0. \\\n",
    "         Give me the ratio of length of each bar to the longest bar. The value should be from 0 to 1. First tell me the ratio of the LONGEST BAR \\\n",
    "         (which is 1.0) and keep going right and tell me the ratio of each bar. If you do not see any bar on the right, then go to the \\\n",
    "         leftmost bar and again keep going right until you see the longest bar again. You should see 5 bars in total.\"\n",
    "images = [L.GPImage.figure3('pie') for i in range(55)]\n",
    "models = [\"ChatGPT\", \"LLaVA\", \"CustomLLaVA\"]\n",
    "\n",
    "results = L.Evaluator.run(images, query, models)\n",
    "print(results)"
   ]
  }
 ],
 "metadata": {
  "kernelspec": {
   "display_name": "Python 3 (ipykernel)",
   "language": "python",
   "name": "python3"
  },
  "language_info": {
   "codemirror_mode": {
    "name": "ipython",
    "version": 3
   },
   "file_extension": ".py",
   "mimetype": "text/x-python",
   "name": "python",
   "nbconvert_exporter": "python",
   "pygments_lexer": "ipython3",
   "version": "3.11.7"
  }
 },
 "nbformat": 4,
 "nbformat_minor": 5
}
