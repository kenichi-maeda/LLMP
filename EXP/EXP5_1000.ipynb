{
 "cells": [
  {
   "cell_type": "code",
   "execution_count": null,
   "id": "1bfc3c2a-a056-4736-b205-039cf876fc87",
   "metadata": {},
   "outputs": [],
   "source": [
    "import sys\n",
    "sys.path.append('../')\n",
    "import LLMP as L\n",
    "import torch\n",
    "torch.torch.cuda.empty_cache()\n",
    "\n",
    "query = \"What do you see? If you see dots, then proceed as follows: I initially added 1000 black dots, then added extra dots to it (up to 1000).\\\n",
    "         Estimate the number of added dots in the image. It does not have to be perfectly precise; give me your estimation. Please respomd \\\n",
    "         with a numerical range.\"\n",
    "images = [L.GPImage.weber(\"1000\") for i in range(55)]\n",
    "models = [\"ChatGPT\", \"LLaVA\", \"CustomLLaVA\"]\n",
    "\n",
    "results = L.Evaluator.run(images, query, models)\n",
    "print(results)"
   ]
  }
 ],
 "metadata": {
  "kernelspec": {
   "display_name": "Python 3 (ipykernel)",
   "language": "python",
   "name": "python3"
  },
  "language_info": {
   "codemirror_mode": {
    "name": "ipython",
    "version": 3
   },
   "file_extension": ".py",
   "mimetype": "text/x-python",
   "name": "python",
   "nbconvert_exporter": "python",
   "pygments_lexer": "ipython3",
   "version": "3.11.7"
  }
 },
 "nbformat": 4,
 "nbformat_minor": 5
}
