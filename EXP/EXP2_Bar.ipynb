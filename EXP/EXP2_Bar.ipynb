{
 "cells": [
  {
   "cell_type": "code",
   "execution_count": null,
   "id": "8e975501-3c32-4126-88d4-a81f51051f06",
   "metadata": {},
   "outputs": [],
   "source": [
    "import sys\n",
    "sys.path.append('../')\n",
    "import LLMP as L\n",
    "import torch\n",
    "torch.torch.cuda.empty_cache()\n",
    "\n",
    "query = \"What do you see? There are 5 portions in the pie, and the largest one has a dot inside. Say the size of the largest portion is 1.0. \\\n",
    "         Give me the ratio of size of each portion (exclude the largest portion and go COUNTER_CLOCKWISE from the largest one) to the largest portion.\\\n",
    "         (But, the first returend value should be 1.0 which refers to the largest) Each value should be from 0 to 1. \\\n",
    "         It does not have to be perfectly precise; Just give me your estimate.\"\n",
    "images = [L.GPImage.figure3('bar') for i in range(55)]\n",
    "models = [\"ChatGPT\", \"LLaVA\", \"CustomLLaVA\"]\n",
    "\n",
    "results = L.Evaluator.run(images, query, models)\n",
    "print(results)"
   ]
  }
 ],
 "metadata": {
  "kernelspec": {
   "display_name": "Python 3 (ipykernel)",
   "language": "python",
   "name": "python3"
  },
  "language_info": {
   "codemirror_mode": {
    "name": "ipython",
    "version": 3
   },
   "file_extension": ".py",
   "mimetype": "text/x-python",
   "name": "python",
   "nbconvert_exporter": "python",
   "pygments_lexer": "ipython3",
   "version": "3.11.7"
  }
 },
 "nbformat": 4,
 "nbformat_minor": 5
}
