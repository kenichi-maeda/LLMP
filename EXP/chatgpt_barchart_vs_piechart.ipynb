{
 "cells": [
  {
   "cell_type": "code",
   "execution_count": 1,
   "metadata": {},
   "outputs": [
    {
     "name": "stdout",
     "output_type": "stream",
     "text": [
      "%pylab is deprecated, use %matplotlib inline and import the required libraries.\n",
      "Populating the interactive namespace from numpy and matplotlib\n"
     ]
    }
   ],
   "source": [
    "%load_ext autoreload\n",
    "%pylab inline\n",
    "%autoreload 2\n",
    "    \n",
    "import sys\n",
    "sys.path.append('../')\n",
    "import LLMP as L"
   ]
  },
  {
   "cell_type": "markdown",
   "metadata": {},
   "source": [
    "Pie Chart vs Bar Chart"
   ]
  },
  {
   "cell_type": "code",
   "execution_count": 11,
   "metadata": {},
   "outputs": [
    {
     "name": "stdout",
     "output_type": "stream",
     "text": [
      "The image appears to be a bar chart with five bars of varying heights. Since I cannot measure the exact heights, I will provide an estimation of their relative sizes compared to the longest bar.\n",
      "\n",
      "1. The first bar (from the left) appears to be approximately 0.2 times the height of the longest bar.\n",
      "2. The second bar looks to be about 0.5 times the height of the longest bar.\n",
      "3. The third bar (the longest one with the dot) is the baseline with a ratio of 1.0.\n",
      "4. The fourth bar seems to be around 0.4 times the height of the longest bar.\n",
      "5. The fifth bar appears to be about 0.3 times the height of the longest bar.\n",
      "\n",
      "These are estimated visual judgments and may not be exact. GT: [1.0, 0.15151516, 0.6969697, 0.3939394, 0.7878788]\n"
     ]
    },
    {
     "data": {
      "image/png": "[encoded data removed]",
      "text/plain": [
       "<Figure size 640x480 with 1 Axes>"
      ]
     },
     "metadata": {},
     "output_type": "display_data"
    }
   ],
   "source": [
    "image, label = L.GPImage.figure3('bar')\n",
    "imshow(image, cmap='gray')\n",
    "\n",
    "question = 'What do you see? There are 5 bars in total, and the longest bar has a dot inside. Say the size of the longest bar is 1.0. Give me the ratio of length of each bar (excluding the longest bar) to the longest bar. The value should be from 0 to 1.'\n",
    "answer = L.ChatGPT.query(question, image)\n",
    "print(answer, 'GT:', label)"
   ]
  },
  {
   "cell_type": "code",
   "execution_count": 17,
   "metadata": {},
   "outputs": [
    {
     "name": "stdout",
     "output_type": "stream",
     "text": [
      "Based on the image provided and using the longest portion with a dot inside as a reference (1.0), here is an estimation of the ratio of angles for the other portions compared to the longest one, starting counter-clockwise from the longest portion:\n",
      "\n",
      "1. Longest portion: 1.0\n",
      "2. Next portion (counter-clockwise from longest): ~0.6\n",
      "3. Next portion: ~0.7\n",
      "4. Next portion: ~0.5\n",
      "5. Last portion: ~0.4\n",
      "\n",
      "These values are rough estimations and not precise measurements. GT: [1.0, 0.8965517, 0.7241379, 0.62068963, 0.20689656]\n"
     ]
    },
    {
     "data": {
      "image/png": "[encoded data removed]",
      "text/plain": [
       "<Figure size 640x480 with 1 Axes>"
      ]
     },
     "metadata": {},
     "output_type": "display_data"
    }
   ],
   "source": [
    "image, label = L.GPImage.figure3('pie')\n",
    "imshow(image, cmap='gray')\n",
    "\n",
    "question = 'What do you see? There are 5 portions in the pie, and the longest one has a dot inside. Say the angle of the longest portion is 1.0. Give me the ratio of angle of each portion (excluding the longest portion and go counter-clockwise from the longest one) to the longest portion.(So, the first value should be 1.0 which referes to the longest) Each value should be from 0 to 1. It does not have to be a precise calculation. Just give me your estimation.'\n",
    "answer = L.ChatGPT.query(question, image)\n",
    "print(answer, 'GT:', label)"
   ]
  },
  {
   "cell_type": "code",
   "execution_count": null,
   "metadata": {},
   "outputs": [],
   "source": []
  }
 ],
 "metadata": {
  "kernelspec": {
   "display_name": "Python 3 (ipykernel)",
   "language": "python",
   "name": "python3"
  },
  "language_info": {
   "codemirror_mode": {
    "name": "ipython",
    "version": 3
   },
   "file_extension": ".py",
   "mimetype": "text/x-python",
   "name": "python",
   "nbconvert_exporter": "python",
   "pygments_lexer": "ipython3",
   "version": "3.11.3"
  }
 },
 "nbformat": 4,
 "nbformat_minor": 2
}
